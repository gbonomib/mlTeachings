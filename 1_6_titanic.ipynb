{
 "cells": [
  {
   "cell_type": "markdown",
   "metadata": {},
   "source": [
    "# A trivial example: Titanic dataset\n",
    "**That scene**. What a tragedy.\n",
    "But..."
   ]
  },
  {
   "cell_type": "markdown",
   "metadata": {},
   "source": [
    "![drowning_scene](fig/drowning_scene.jpg \"title-1\")"
   ]
  },
  {
   "cell_type": "markdown",
   "metadata": {},
   "source": [
    "...what if Jane had some machine learning to choose a better partner, more likely to survive in case of accident?\n",
    "\n",
    "___"
   ]
  },
  {
   "cell_type": "code",
   "execution_count": 1,
   "metadata": {},
   "outputs": [],
   "source": [
    "source('src/lib.R')"
   ]
  },
  {
   "cell_type": "code",
   "execution_count": 2,
   "metadata": {},
   "outputs": [],
   "source": [
    "# import the data\n",
    "titanic_df = read_csv('data/titanic.csv', col_types = cols())"
   ]
  },
  {
   "cell_type": "markdown",
   "metadata": {},
   "source": [
    "## Let's have a look at the data\n",
    "Randomly choosing a partner aged 18 - 40 is **not a good idea, Rose...**"
   ]
  },
  {
   "cell_type": "markdown",
   "metadata": {},
   "source": [
    "For the record, the fields in the dataset are the following:\n",
    "\n",
    "| Variable | Definition  | | Key |\n",
    "|------|------|------|------|\n",
    "| $\\texttt{survival}$ | Survival || 0 = No, 1 = Yes |\n",
    "| $\\texttt{pclass}$  | Ticket Class || 1 = 1st, 2 = 2nd, 3 = 3rd |\n",
    "| $\\texttt{sex}$ | Sex | | |\n",
    "| $\\texttt{age}$ | Age in years | | |\n",
    "| $\\texttt{sibsp}$ | # of siblings / spouses aboard the Titanic | | |\n",
    "| $\\texttt{parch}$ | # of parents / children aboard the Titanic | | |\n",
    "| $\\texttt{ticket}$ | Ticket number | | |\n",
    "| $\\texttt{fare}$ | Passenger fare | | |\n",
    "| $\\texttt{cabin}$ | Cabin number | | |\n",
    "| $\\texttt{embarked}$ | Port of Embarcation | |C = Cherbourg, Q = Queenstown, S = Southampton |"
   ]
  },
  {
   "cell_type": "code",
   "execution_count": 3,
   "metadata": {},
   "outputs": [
    {
     "data": {},
     "metadata": {},
     "output_type": "display_data"
    },
    {
     "data": {
      "image/png": "[encoded data removed]",
      "text/plain": [
       "plot without title"
      ]
     },
     "metadata": {},
     "output_type": "display_data"
    }
   ],
   "source": [
    "options(repr.plot.width=3, repr.plot.height=3) # reduce plot size\n",
    "\n",
    "titanic_df %>% filter(sex == 'male', age > 18, age < 40) %>% \n",
    "  select(survived) %>% mutate(survived = ifelse(survived == 1, 'oh yes', 'nope sorry')) %>% \n",
    "  ggplot(aes(survived, fill = survived)) + geom_bar() + ggtitle('Survived?') + theme(legend.position = \"none\")\n",
    "\n",
    "options(repr.plot.width=6, repr.plot.height=5) # back to the normal plot size"
   ]
  },
  {
   "cell_type": "markdown",
   "metadata": {},
   "source": [
    "...indeed, approximately 3 every 4 will likely die in case of accident."
   ]
  },
  {
   "cell_type": "code",
   "execution_count": 4,
   "metadata": {},
   "outputs": [
    {
     "data": {
      "text/html": [
       "<table>\n",
       "<thead><tr><th scope=col>survived</th><th scope=col>pclass</th><th scope=col>sex</th><th scope=col>age</th><th scope=col>sibsp</th><th scope=col>parch</th><th scope=col>fare</th><th scope=col>cabin</th><th scope=col>embarked</th></tr></thead>\n",
       "<tbody>\n",
       "\t<tr><td>1       </td><td>1       </td><td>female  </td><td>29.0000 </td><td>0       </td><td>0       </td><td>211.3375</td><td>B5      </td><td>S       </td></tr>\n",
       "\t<tr><td>1       </td><td>1       </td><td>male    </td><td> 0.9167 </td><td>1       </td><td>2       </td><td>151.5500</td><td>C22 C26 </td><td>S       </td></tr>\n",
       "\t<tr><td>0       </td><td>1       </td><td>female  </td><td> 2.0000 </td><td>1       </td><td>2       </td><td>151.5500</td><td>C22 C26 </td><td>S       </td></tr>\n",
       "\t<tr><td>0       </td><td>1       </td><td>male    </td><td>30.0000 </td><td>1       </td><td>2       </td><td>151.5500</td><td>C22 C26 </td><td>S       </td></tr>\n",
       "\t<tr><td>0       </td><td>1       </td><td>female  </td><td>25.0000 </td><td>1       </td><td>2       </td><td>151.5500</td><td>C22 C26 </td><td>S       </td></tr>\n",
       "\t<tr><td>1       </td><td>1       </td><td>male    </td><td>48.0000 </td><td>0       </td><td>0       </td><td> 26.5500</td><td>E12     </td><td>S       </td></tr>\n",
       "</tbody>\n",
       "</table>\n"
      ],
      "text/latex": [
       "\\begin{tabular}{r|lllllllll}\n",
       " survived & pclass & sex & age & sibsp & parch & fare & cabin & embarked\\\\\n",
       "\\hline\n",
       "\t 1        & 1        & female   & 29.0000  & 0        & 0        & 211.3375 & B5       & S       \\\\\n",
       "\t 1        & 1        & male     &  0.9167  & 1        & 2        & 151.5500 & C22 C26  & S       \\\\\n",
       "\t 0        & 1        & female   &  2.0000  & 1        & 2        & 151.5500 & C22 C26  & S       \\\\\n",
       "\t 0        & 1        & male     & 30.0000  & 1        & 2        & 151.5500 & C22 C26  & S       \\\\\n",
       "\t 0        & 1        & female   & 25.0000  & 1        & 2        & 151.5500 & C22 C26  & S       \\\\\n",
       "\t 1        & 1        & male     & 48.0000  & 0        & 0        &  26.5500 & E12      & S       \\\\\n",
       "\\end{tabular}\n"
      ],
      "text/markdown": [
       "\n",
       "survived | pclass | sex | age | sibsp | parch | fare | cabin | embarked | \n",
       "|---|---|---|---|---|---|\n",
       "| 1        | 1        | female   | 29.0000  | 0        | 0        | 211.3375 | B5       | S        | \n",
       "| 1        | 1        | male     |  0.9167  | 1        | 2        | 151.5500 | C22 C26  | S        | \n",
       "| 0        | 1        | female   |  2.0000  | 1        | 2        | 151.5500 | C22 C26  | S        | \n",
       "| 0        | 1        | male     | 30.0000  | 1        | 2        | 151.5500 | C22 C26  | S        | \n",
       "| 0        | 1        | female   | 25.0000  | 1        | 2        | 151.5500 | C22 C26  | S        | \n",
       "| 1        | 1        | male     | 48.0000  | 0        | 0        |  26.5500 | E12      | S        | \n",
       "\n",
       "\n"
      ],
      "text/plain": [
       "  survived pclass sex    age     sibsp parch fare     cabin   embarked\n",
       "1 1        1      female 29.0000 0     0     211.3375 B5      S       \n",
       "2 1        1      male    0.9167 1     2     151.5500 C22 C26 S       \n",
       "3 0        1      female  2.0000 1     2     151.5500 C22 C26 S       \n",
       "4 0        1      male   30.0000 1     2     151.5500 C22 C26 S       \n",
       "5 0        1      female 25.0000 1     2     151.5500 C22 C26 S       \n",
       "6 1        1      male   48.0000 0     0      26.5500 E12     S       "
      ]
     },
     "metadata": {},
     "output_type": "display_data"
    }
   ],
   "source": [
    "titanic_df %>% select(\n",
    "    survived, # select features\n",
    "    pclass,\n",
    "    sex,\n",
    "    age,\n",
    "    sibsp,\n",
    "    parch,\n",
    "    fare,\n",
    "    cabin,\n",
    "    embarked) %>% head"
   ]
  },
  {
   "cell_type": "markdown",
   "metadata": {},
   "source": [
    "___\n",
    "\n",
    "## Pre-processing\n",
    "\n",
    "#### Partition the data\n",
    "Let's partition the dataset in two subsample. Just know that this is a common procedure to avoid overfitting and be able to assess the goodness of the model in a non-biased way. We'll discuss more in depth about this next time!"
   ]
  },
  {
   "cell_type": "code",
   "execution_count": 5,
   "metadata": {},
   "outputs": [
    {
     "name": "stdout",
     "output_type": "stream",
     "text": [
      "train data size\n"
     ]
    },
    {
     "data": {
      "text/html": [
       "<ol class=list-inline>\n",
       "\t<li>918</li>\n",
       "\t<li>14</li>\n",
       "</ol>\n"
      ],
      "text/latex": [
       "\\begin{enumerate*}\n",
       "\\item 918\n",
       "\\item 14\n",
       "\\end{enumerate*}\n"
      ],
      "text/markdown": [
       "1. 918\n",
       "2. 14\n",
       "\n",
       "\n"
      ],
      "text/plain": [
       "[1] 918  14"
      ]
     },
     "metadata": {},
     "output_type": "display_data"
    },
    {
     "name": "stdout",
     "output_type": "stream",
     "text": [
      "test data size\n"
     ]
    },
    {
     "data": {
      "text/html": [
       "<ol class=list-inline>\n",
       "\t<li>392</li>\n",
       "\t<li>14</li>\n",
       "</ol>\n"
      ],
      "text/latex": [
       "\\begin{enumerate*}\n",
       "\\item 392\n",
       "\\item 14\n",
       "\\end{enumerate*}\n"
      ],
      "text/markdown": [
       "1. 392\n",
       "2. 14\n",
       "\n",
       "\n"
      ],
      "text/plain": [
       "[1] 392  14"
      ]
     },
     "metadata": {},
     "output_type": "display_data"
    }
   ],
   "source": [
    "set.seed(123) # set seed for reproducibility of createDataPartition\n",
    "\n",
    "partition = titanic_df %>% nrow %>% seq_len %>% createDataPartition(times = 1, p = 0.7, list = F)\n",
    "\n",
    "train_raw = titanic_df %>% slice(partition)\n",
    "test_raw = titanic_df %>% slice(-partition)\n",
    "\n",
    "cat('train data size\\n')\n",
    "train_raw %>% dim\n",
    "\n",
    "cat('test data size\\n')\n",
    "test_raw %>% dim"
   ]
  },
  {
   "cell_type": "markdown",
   "metadata": {},
   "source": [
    "#### Prepare the data for being fed into the model\n",
    "\n",
    "* convert data types to float / integer\n",
    "* define rule for managing missing values (*NA*s)\n",
    "* you could even normalize the features (we are not doing this here)"
   ]
  },
  {
   "cell_type": "code",
   "execution_count": 6,
   "metadata": {},
   "outputs": [],
   "source": [
    "data_processing = function(df){\n",
    "  df %>%\n",
    "    select(survived, # select features\n",
    "           pclass,\n",
    "           sex,\n",
    "           age,\n",
    "           sibsp,\n",
    "           parch,\n",
    "           fare,\n",
    "           cabin,\n",
    "           embarked\n",
    "    ) %>% \n",
    "    mutate_if(is.character, fct_explicit_na) %>% # assign levels to missings\n",
    "    mutate_all(as.numeric) %>% mutate_all(funs(replace(., is.na(.), 0))) %>% # set missings to 0\n",
    "    # mutate_all(scale) %>% # normalize data\n",
    "    mutate(survived = factor(survived, levels = 1:0, labels = c('Yes', 'Not')))\n",
    "}\n",
    "\n",
    "train = data_processing(train_raw)\n",
    "test = data_processing(test_raw)\n",
    "\n",
    "\n",
    "# save datasets\n",
    "write_csv(train, 'data/titanic_train.csv')\n",
    "write_csv(test, 'data/titanic_test.csv')"
   ]
  },
  {
   "cell_type": "code",
   "execution_count": 7,
   "metadata": {},
   "outputs": [
    {
     "name": "stdout",
     "output_type": "stream",
     "text": [
      "Observations: 918\n",
      "Variables: 9\n",
      "$ survived <fct> Yes, Yes, Yes, Not, Yes, Yes, Yes, Yes, Not, Yes, Yes, Not...\n",
      "$ pclass   <dbl> 1, 1, 1, 1, 1, 1, 1, 1, 1, 1, 1, 1, 1, 1, 1, 1, 1, 1, 1, 1...\n",
      "$ sex      <dbl> 1, 2, 2, 2, 1, 1, 2, 1, 2, 2, 1, 2, 1, 1, 2, 2, 2, 1, 1, 2...\n",
      "$ age      <dbl> 29.0000, 0.9167, 48.0000, 39.0000, 24.0000, 26.0000, 80.00...\n",
      "$ sibsp    <dbl> 0, 1, 0, 0, 0, 0, 0, 0, 0, 1, 1, 0, 1, 0, 0, 0, 0, 0, 0, 0...\n",
      "$ parch    <dbl> 0, 2, 0, 0, 0, 0, 0, 0, 0, 1, 1, 0, 0, 0, 0, 0, 0, 0, 0, 0...\n",
      "$ fare     <dbl> 211.3375, 151.5500, 26.5500, 0.0000, 69.3000, 78.8500, 30....\n",
      "$ cabin    <dbl> 36, 64, 120, 13, 27, 149, 6, 99, 78, 110, 110, 149, 35, 95...\n",
      "$ embarked <dbl> 3, 3, 3, 3, 1, 3, 3, 1, 1, 3, 3, 1, 1, 3, 3, 3, 1, 3, 3, 3...\n"
     ]
    }
   ],
   "source": [
    "train %>% glimpse"
   ]
  },
  {
   "cell_type": "markdown",
   "metadata": {},
   "source": [
    "___\n",
    "## Fit a KNN model and make some predictions"
   ]
  },
  {
   "cell_type": "code",
   "execution_count": 8,
   "metadata": {},
   "outputs": [],
   "source": [
    "# fit knn\n",
    "\n",
    "set.seed(123)\n",
    "\n",
    "model = train(x = train %>% select(-survived),\n",
    "              y = train %>% pull(survived) %>% factor,\n",
    "              method = 'kknn',\n",
    "              tuneGrid = data.frame(kmax = 20,\n",
    "                                    kernel = c(\"triangular\"),\n",
    "                                    distance = 0.5),\n",
    "              trControl = trainControl(method = 'cv',\n",
    "                                       p = 0.9,\n",
    "                                       number = 10)\n",
    ")\n",
    "\n",
    "# save model\n",
    "\n",
    "saveRDS(model, 'data/titanic_model.R')"
   ]
  },
  {
   "cell_type": "code",
   "execution_count": 9,
   "metadata": {},
   "outputs": [],
   "source": [
    "test_response = model %>%\n",
    "  predict(newdata = test %>% select(-survived)) %>% factor"
   ]
  },
  {
   "cell_type": "code",
   "execution_count": 10,
   "metadata": {},
   "outputs": [
    {
     "data": {
      "text/html": [
       "<table>\n",
       "<thead><tr><th scope=col>name</th><th scope=col>sex</th><th scope=col>age</th><th scope=col>guess_survived</th><th scope=col>survived</th></tr></thead>\n",
       "<tbody>\n",
       "\t<tr><td>Allison, Mr. Hudson Joshua Creighton</td><td>male                                </td><td>30                                  </td><td>Yes                                 </td><td>Not                                 </td></tr>\n",
       "\t<tr><td>Baxter, Mr. Quigg Edmond            </td><td>male                                </td><td>24                                  </td><td>Not                                 </td><td>Not                                 </td></tr>\n",
       "\t<tr><td>Behr, Mr. Karl Howell               </td><td>male                                </td><td>26                                  </td><td>Yes                                 </td><td>Yes                                 </td></tr>\n",
       "\t<tr><td>Bishop, Mr. Dickinson H             </td><td>male                                </td><td>25                                  </td><td>Yes                                 </td><td>Yes                                 </td></tr>\n",
       "\t<tr><td>Carlsson, Mr. Frans Olof            </td><td>male                                </td><td>33                                  </td><td>Not                                 </td><td>Not                                 </td></tr>\n",
       "\t<tr><td>Carrau, Mr. Francisco M             </td><td>male                                </td><td>28                                  </td><td>Yes                                 </td><td>Not                                 </td></tr>\n",
       "</tbody>\n",
       "</table>\n"
      ],
      "text/latex": [
       "\\begin{tabular}{r|lllll}\n",
       " name & sex & age & guess\\_survived & survived\\\\\n",
       "\\hline\n",
       "\t Allison, Mr. Hudson Joshua Creighton & male                                 & 30                                   & Yes                                  & Not                                 \\\\\n",
       "\t Baxter, Mr. Quigg Edmond             & male                                 & 24                                   & Not                                  & Not                                 \\\\\n",
       "\t Behr, Mr. Karl Howell                & male                                 & 26                                   & Yes                                  & Yes                                 \\\\\n",
       "\t Bishop, Mr. Dickinson H              & male                                 & 25                                   & Yes                                  & Yes                                 \\\\\n",
       "\t Carlsson, Mr. Frans Olof             & male                                 & 33                                   & Not                                  & Not                                 \\\\\n",
       "\t Carrau, Mr. Francisco M              & male                                 & 28                                   & Yes                                  & Not                                 \\\\\n",
       "\\end{tabular}\n"
      ],
      "text/markdown": [
       "\n",
       "name | sex | age | guess_survived | survived | \n",
       "|---|---|---|---|---|---|\n",
       "| Allison, Mr. Hudson Joshua Creighton | male                                 | 30                                   | Yes                                  | Not                                  | \n",
       "| Baxter, Mr. Quigg Edmond             | male                                 | 24                                   | Not                                  | Not                                  | \n",
       "| Behr, Mr. Karl Howell                | male                                 | 26                                   | Yes                                  | Yes                                  | \n",
       "| Bishop, Mr. Dickinson H              | male                                 | 25                                   | Yes                                  | Yes                                  | \n",
       "| Carlsson, Mr. Frans Olof             | male                                 | 33                                   | Not                                  | Not                                  | \n",
       "| Carrau, Mr. Francisco M              | male                                 | 28                                   | Yes                                  | Not                                  | \n",
       "\n",
       "\n"
      ],
      "text/plain": [
       "  name                                 sex  age guess_survived survived\n",
       "1 Allison, Mr. Hudson Joshua Creighton male 30  Yes            Not     \n",
       "2 Baxter, Mr. Quigg Edmond             male 24  Not            Not     \n",
       "3 Behr, Mr. Karl Howell                male 26  Yes            Yes     \n",
       "4 Bishop, Mr. Dickinson H              male 25  Yes            Yes     \n",
       "5 Carlsson, Mr. Frans Olof             male 33  Not            Not     \n",
       "6 Carrau, Mr. Francisco M              male 28  Yes            Not     "
      ]
     },
     "metadata": {},
     "output_type": "display_data"
    }
   ],
   "source": [
    "# show predictions for male, aged 18-40\n",
    "\n",
    "(pred = test_raw %>% bind_cols(data_frame('guess_survived' = test_response)) %>%\n",
    "  filter(sex == 'male',age > 18, age < 40) %>%\n",
    "  select(name, sex, age, guess_survived, survived) %>%\n",
    "  mutate(survived = factor(survived, levels = 1:0, labels = c('Yes', 'Not')))) %>% head"
   ]
  },
  {
   "cell_type": "code",
   "execution_count": 11,
   "metadata": {},
   "outputs": [
    {
     "data": {
      "text/html": [
       "<strong>Accuracy:</strong> 0.815"
      ],
      "text/latex": [
       "\\textbf{Accuracy:} 0.815"
      ],
      "text/markdown": [
       "**Accuracy:** 0.815"
      ],
      "text/plain": [
       "Accuracy \n",
       "   0.815 "
      ]
     },
     "metadata": {},
     "output_type": "display_data"
    }
   ],
   "source": [
    "# how good is the model for this subclass?\n",
    "acc = confusionMatrix(pred$guess_survived, pred$survived %>% factor)\n",
    "acc$overall[1] %>% round(3)"
   ]
  },
  {
   "cell_type": "markdown",
   "metadata": {},
   "source": [
    "hey, it seems that now Rose has around 80% chanche of getting the right partner! Awsome!"
   ]
  },
  {
   "cell_type": "markdown",
   "metadata": {},
   "source": [
    "\n",
    "## Well, probably not. But why?"
   ]
  },
  {
   "cell_type": "markdown",
   "metadata": {},
   "source": [
    "Stay tuned..."
   ]
  }
 ],
 "metadata": {
  "kernelspec": {
   "display_name": "R",
   "language": "R",
   "name": "ir"
  },
  "language_info": {
   "codemirror_mode": "r",
   "file_extension": ".r",
   "mimetype": "text/x-r-source",
   "name": "R",
   "pygments_lexer": "r",
   "version": "3.4.4"
  }
 },
 "nbformat": 4,
 "nbformat_minor": 2
}
