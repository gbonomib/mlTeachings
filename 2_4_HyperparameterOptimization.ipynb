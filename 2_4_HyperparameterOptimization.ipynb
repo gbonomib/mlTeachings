{
 "cells": [
  {
   "cell_type": "markdown",
   "metadata": {},
   "source": [
    "# Hyperparameter Optimization"
   ]
  },
  {
   "cell_type": "markdown",
   "metadata": {},
   "source": [
    "i.e. how to improve our model through **changing how our model is built**.\n",
    "\n",
    "<img src=\"fig/frankestein.jpg\" width=\"150\"> <img src=\"fig/terminator.jpg\" width=\"150\"> <img src=\"fig/wolverine.png\" width=\"150\">\n",
    "\n",
    " **Hello There!**         "
   ]
  },
  {
   "cell_type": "markdown",
   "metadata": {},
   "source": [
    "There are four fairly common strategies to optimize one model's hyperparameters.\n",
    "\n",
    "<img src=\"fig/hyperparameter_meme_2.jpg\" width=\"400\">\n",
    "\n",
    "*List in descending order of coolness*"
   ]
  },
  {
   "cell_type": "markdown",
   "metadata": {},
   "source": [
    "Let's try applying some of these techniques to our titanic dataset"
   ]
  },
  {
   "cell_type": "code",
   "execution_count": 1,
   "metadata": {},
   "outputs": [],
   "source": [
    "source('src/lib.R')"
   ]
  },
  {
   "cell_type": "code",
   "execution_count": 2,
   "metadata": {},
   "outputs": [],
   "source": [
    "# import training and testing dataset\n",
    "\n",
    "titanic_df = get_titanic_df()"
   ]
  },
  {
   "cell_type": "markdown",
   "metadata": {},
   "source": [
    "## Grid Search\n",
    "\n",
    "This is the stupidest plossibly conveivable method.\n",
    "1. Try lots of combinations\n",
    "2. Select the best one\n",
    "\n",
    "It is also the simplest to implement and it is not a coincidence that it is natively built in *Caret*. \n",
    "\n",
    "The only thing you should do is to declare the parameter $\\texttt{tuneGrid}$ when invoking *Caret*'s $\\texttt{train}$ function.\n",
    "\n",
    "Note that:\n",
    "- $\\texttt{tuneGrid}$ is initialized as NULL\n",
    "- $\\texttt{tuneGrid}$ must be passed a named $\\texttt{data.frame}$ (plz read: \"a table with column names :)\")\n",
    "\n",
    "Finding which hyperparameters can be passed to our train function is farily easy:"
   ]
  },
  {
   "cell_type": "code",
   "execution_count": 3,
   "metadata": {},
   "outputs": [
    {
     "data": {
      "text/html": [
       "<table>\n",
       "<thead><tr><th scope=col>parameter</th><th scope=col>class</th><th scope=col>label</th></tr></thead>\n",
       "<tbody>\n",
       "\t<tr><td>kmax           </td><td>numeric        </td><td>Max. #Neighbors</td></tr>\n",
       "\t<tr><td>distance       </td><td>numeric        </td><td>Distance       </td></tr>\n",
       "\t<tr><td>kernel         </td><td>character      </td><td>Kernel         </td></tr>\n",
       "</tbody>\n",
       "</table>\n"
      ],
      "text/latex": [
       "\\begin{tabular}{r|lll}\n",
       " parameter & class & label\\\\\n",
       "\\hline\n",
       "\t kmax              & numeric           & Max. \\#Neighbors\\\\\n",
       "\t distance        & numeric         & Distance       \\\\\n",
       "\t kernel          & character       & Kernel         \\\\\n",
       "\\end{tabular}\n"
      ],
      "text/markdown": [
       "\n",
       "parameter | class | label | \n",
       "|---|---|---|\n",
       "| kmax            | numeric         | Max. #Neighbors | \n",
       "| distance        | numeric         | Distance        | \n",
       "| kernel          | character       | Kernel          | \n",
       "\n",
       "\n"
      ],
      "text/plain": [
       "  parameter class     label          \n",
       "1 kmax      numeric   Max. #Neighbors\n",
       "2 distance  numeric   Distance       \n",
       "3 kernel    character Kernel         "
      ]
     },
     "metadata": {},
     "output_type": "display_data"
    }
   ],
   "source": [
    "info = getModelInfo()\n",
    "info$kknn$parameters"
   ]
  },
  {
   "cell_type": "markdown",
   "metadata": {},
   "source": [
    "As we saw, *kknn* can be passed three parameters, two of which are of *numeric* type while the latter should be a *string*\n",
    "\n",
    "> if you decide to pass a tuning grid, you **must** declare a data.frame which would include **all** the parameters available. In our case, a data.frame with three columns (and, ofc, at least one row)\n",
    "\n",
    "While the concept of *kmax* argument may be of easy understanding, the same cannot be said of *distance* and *kernel*. As we saw in a previous lesson, to know more model-specific hyperparameters, you can refer to the reference manual of the given package, from which the model you are about to train is taken. "
   ]
  },
  {
   "cell_type": "code",
   "execution_count": 4,
   "metadata": {},
   "outputs": [
    {
     "data": {
      "text/html": [
       "'kknn'"
      ],
      "text/latex": [
       "'kknn'"
      ],
      "text/markdown": [
       "'kknn'"
      ],
      "text/plain": [
       "[1] \"kknn\""
      ]
     },
     "metadata": {},
     "output_type": "display_data"
    }
   ],
   "source": [
    "info$kknn$library ## as easy as that"
   ]
  },
  {
   "cell_type": "markdown",
   "metadata": {},
   "source": [
    "And [here](https://cran.r-project.org/web/packages/kknn/kknn.pdf) you have it. It turns out that\n",
    "- $\\texttt{kmax}$ best number of k neighbours less or equal to k.\n",
    "- $\\texttt{distance}$ is the parameter of the [Minkowski distance](https://en.wikipedia.org/wiki/Minkowski_distance) which, as **everybody** knows, takes value in $(0;+\\infty)$\n",
    "- $\\texttt{kernel}$ is Kernel function to use. Possible choices are \"rectangular\" (which is standard unweighted knn), \"triangular\", \"epanechnikov\" (or beta(2,2)), \"biweight\" (or beta(3,3)), \"triweight\"\n",
    "(or beta(4,4)), \"cos\", \"inv\", \"gaussian\", \"rank\" and \"optimal\"."
   ]
  },
  {
   "cell_type": "code",
   "execution_count": 5,
   "metadata": {},
   "outputs": [
    {
     "data": {
      "text/html": [
       "<span style=white-space:pre-wrap>'This tune grid has  60  rows!'</span>"
      ],
      "text/latex": [
       "'This tune grid has  60  rows!'"
      ],
      "text/markdown": [
       "<span style=white-space:pre-wrap>'This tune grid has  60  rows!'</span>"
      ],
      "text/plain": [
       "[1] \"This tune grid has  60  rows!\""
      ]
     },
     "metadata": {},
     "output_type": "display_data"
    }
   ],
   "source": [
    "## istantiate the tuning grid\n",
    "\n",
    "((tune_grid = expand.grid(kmax = 20, \n",
    "                        kernel = c('triangular',\n",
    "                                   'rectangular',\n",
    "                                   'epanechnikov',\n",
    "                                   'biweight',\n",
    "                                   'triweight',\n",
    "                                   'cos',\n",
    "                                   'inv',\n",
    "                                   'gaussian',\n",
    "                                   'rank',\n",
    "                                   'optimal'),\n",
    "                        distance = c(0.5, 0.1, 1, 2, 5, 10)\n",
    "                        )\n",
    ")\n",
    ") %>% nrow %>% paste('This tune grid has ', ., ' rows!')"
   ]
  },
  {
   "cell_type": "code",
   "execution_count": 6,
   "metadata": {},
   "outputs": [
    {
     "data": {
      "text/plain": [
       "k-Nearest Neighbors \n",
       "\n",
       "918 samples\n",
       "  8 predictor\n",
       "  2 classes: 'Not', 'Yes' \n",
       "\n",
       "No pre-processing\n",
       "Resampling: Cross-Validated (10 fold) \n",
       "Summary of sample sizes: 826, 826, 827, 826, 826, 826, ... \n",
       "Resampling results across tuning parameters:\n",
       "\n",
       "  kernel        distance  Accuracy   Kappa    \n",
       "  triangular     0.1      0.7810798  0.5370820\n",
       "  triangular     0.5      0.7822145  0.5393684\n",
       "  triangular     1.0      0.7953058  0.5660860\n",
       "  triangular     2.0      0.7952938  0.5661749\n",
       "  triangular     5.0      0.7876851  0.5520019\n",
       "  triangular    10.0      0.7843884  0.5444032\n",
       "  rectangular    0.1      0.7810798  0.5311686\n",
       "  rectangular    0.5      0.7811037  0.5339270\n",
       "  rectangular    1.0      0.7920091  0.5570212\n",
       "  rectangular    2.0      0.7985905  0.5740086\n",
       "  rectangular    5.0      0.7756928  0.5272391\n",
       "  rectangular   10.0      0.7757286  0.5262589\n",
       "  epanechnikov   0.1      0.7832418  0.5373270\n",
       "  epanechnikov   0.5      0.7788939  0.5319887\n",
       "  epanechnikov   1.0      0.7930960  0.5614046\n",
       "  epanechnikov   2.0      0.7920330  0.5597399\n",
       "  epanechnikov   5.0      0.7844004  0.5460632\n",
       "  epanechnikov  10.0      0.7844243  0.5453715\n",
       "  biweight       0.1      0.7821667  0.5390107\n",
       "  biweight       0.5      0.7854873  0.5454682\n",
       "  biweight       1.0      0.7985905  0.5737277\n",
       "  biweight       2.0      0.7920330  0.5606263\n",
       "  biweight       5.0      0.7843884  0.5461349\n",
       "  biweight      10.0      0.7822026  0.5409886\n",
       "  triweight      0.1      0.7887124  0.5512360\n",
       "  triweight      0.5      0.7822145  0.5392736\n",
       "  triweight      1.0      0.7930960  0.5629435\n",
       "  triweight      2.0      0.7865624  0.5506275\n",
       "  triweight      5.0      0.7811276  0.5383049\n",
       "  triweight     10.0      0.7756928  0.5275773\n",
       "  cos            0.1      0.7832656  0.5387050\n",
       "  cos            0.5      0.7799809  0.5345518\n",
       "  cos            1.0      0.7952938  0.5658154\n",
       "  cos            2.0      0.7920449  0.5603048\n",
       "  cos            5.0      0.7844243  0.5459824\n",
       "  cos           10.0      0.7887721  0.5546578\n",
       "  inv            0.1      0.7494983  0.4774317\n",
       "  inv            0.5      0.7712972  0.5214666\n",
       "  inv            1.0      0.7767678  0.5312433\n",
       "  inv            2.0      0.7745581  0.5289824\n",
       "  inv            5.0      0.7712852  0.5205695\n",
       "  inv           10.0      0.7734591  0.5252731\n",
       "  gaussian       0.1      0.7854396  0.5429992\n",
       "  gaussian       0.5      0.7810678  0.5352710\n",
       "  gaussian       1.0      0.7920330  0.5579441\n",
       "  gaussian       2.0      0.7920091  0.5603954\n",
       "  gaussian       5.0      0.7931199  0.5632046\n",
       "  gaussian      10.0      0.7887602  0.5546183\n",
       "  rank           0.1      0.7745342  0.5177869\n",
       "  rank           0.5      0.7778309  0.5299760\n",
       "  rank           1.0      0.7963808  0.5669591\n",
       "  rank           2.0      0.7930960  0.5609157\n",
       "  rank           5.0      0.7887721  0.5535314\n",
       "  rank          10.0      0.7887721  0.5532466\n",
       "  optimal        0.1      0.7778189  0.5278267\n",
       "  optimal        0.5      0.7909818  0.5590077\n",
       "  optimal        1.0      0.8029503  0.5831926\n",
       "  optimal        2.0      0.7985786  0.5743193\n",
       "  optimal        5.0      0.7887721  0.5525316\n",
       "  optimal       10.0      0.7974797  0.5725099\n",
       "\n",
       "Tuning parameter 'kmax' was held constant at a value of 20\n",
       "Accuracy was used to select the optimal model using the largest value.\n",
       "The final values used for the model were kmax = 20, distance = 1 and kernel\n",
       " = optimal."
      ]
     },
     "metadata": {},
     "output_type": "display_data"
    }
   ],
   "source": [
    "## train the model (you really don't want to run this)\n",
    "\n",
    "set.seed(123) # to allow reproducibility of cross validation split\n",
    "\n",
    "#model_grid_search = train(x = titanic_df$x_train,\n",
    "#                          y = titanic_df$y_train$class,\n",
    "#                          method = 'kknn',\n",
    "#                          tuneGrid = tune_grid,\n",
    "#                          trControl = trainControl(method = 'cv',\n",
    "#                                                   p = 0.9,\n",
    "#                                                   number = 10)\n",
    "#                    )\n",
    "\n",
    "#saveRDS(model_grid_search, 'data/model_grid_search.R')\n",
    "\n",
    "\n",
    "# rather, we trained the model for you, how nice are we?!?\n",
    "\n",
    "(model_grid_search = readRDS('data/model_grid_search.R'))"
   ]
  },
  {
   "cell_type": "code",
   "execution_count": 161,
   "metadata": {},
   "outputs": [
    {
     "data": {},
     "metadata": {},
     "output_type": "display_data"
    },
    {
     "data": {
      "image/png": "[encoded data removed]",
      "text/plain": [
       "plot without title"
      ]
     },
     "metadata": {},
     "output_type": "display_data"
    }
   ],
   "source": [
    "options(repr.plot.width=6, repr.plot.height=3)\n",
    "\n",
    "model_grid_search$results %>%\n",
    "  as_data_frame %>%\n",
    "  rownames_to_column(var = 'id') %>% mutate(id = as.numeric(id))%>%\n",
    "    gather(Variable, Value, -one_of('id', 'kmax', 'kernel', 'distance')) %>%\n",
    "    filter(Variable == 'Accuracy' | Variable == 'Kappa') %>%\n",
    "    ggplot() + geom_line(aes(x = id, y = Value)) + ggtitle('Validation Performance') +\n",
    "    facet_wrap(~Variable, scales = 'free') + theme_minimal() + labs(x = \"\", y = \"\")\n",
    "\n",
    "options(repr.plot.width=6, repr.plot.height=6)"
   ]
  },
  {
   "cell_type": "markdown",
   "metadata": {},
   "source": [
    "Looks like there is a clear winner here!"
   ]
  },
  {
   "cell_type": "code",
   "execution_count": 11,
   "metadata": {},
   "outputs": [
    {
     "data": {
      "text/html": [
       "<table>\n",
       "<thead><tr><th scope=col>kmax</th><th scope=col>kernel</th><th scope=col>distance</th><th scope=col>Accuracy</th><th scope=col>Kappa</th><th scope=col>AccuracySD</th><th scope=col>KappaSD</th></tr></thead>\n",
       "<tbody>\n",
       "\t<tr><td>20        </td><td>optimal   </td><td>1         </td><td>0.8029503 </td><td>0.5831926 </td><td>0.05869298</td><td>0.1213537 </td></tr>\n",
       "</tbody>\n",
       "</table>\n"
      ],
      "text/latex": [
       "\\begin{tabular}{r|lllllll}\n",
       " kmax & kernel & distance & Accuracy & Kappa & AccuracySD & KappaSD\\\\\n",
       "\\hline\n",
       "\t 20         & optimal    & 1          & 0.8029503  & 0.5831926  & 0.05869298 & 0.1213537 \\\\\n",
       "\\end{tabular}\n"
      ],
      "text/markdown": [
       "\n",
       "kmax | kernel | distance | Accuracy | Kappa | AccuracySD | KappaSD | \n",
       "|---|\n",
       "| 20         | optimal    | 1          | 0.8029503  | 0.5831926  | 0.05869298 | 0.1213537  | \n",
       "\n",
       "\n"
      ],
      "text/plain": [
       "  kmax kernel  distance Accuracy  Kappa     AccuracySD KappaSD  \n",
       "1 20   optimal 1        0.8029503 0.5831926 0.05869298 0.1213537"
      ]
     },
     "metadata": {},
     "output_type": "display_data"
    },
    {
     "data": {
      "text/html": [
       "<table>\n",
       "<thead><tr><th scope=col>kmax</th><th scope=col>kernel</th><th scope=col>distance</th><th scope=col>Accuracy</th><th scope=col>Kappa</th><th scope=col>AccuracySD</th><th scope=col>KappaSD</th></tr></thead>\n",
       "<tbody>\n",
       "\t<tr><td>20        </td><td>optimal   </td><td>1         </td><td>0.8029503 </td><td>0.5831926 </td><td>0.05869298</td><td>0.1213537 </td></tr>\n",
       "</tbody>\n",
       "</table>\n"
      ],
      "text/latex": [
       "\\begin{tabular}{r|lllllll}\n",
       " kmax & kernel & distance & Accuracy & Kappa & AccuracySD & KappaSD\\\\\n",
       "\\hline\n",
       "\t 20         & optimal    & 1          & 0.8029503  & 0.5831926  & 0.05869298 & 0.1213537 \\\\\n",
       "\\end{tabular}\n"
      ],
      "text/markdown": [
       "\n",
       "kmax | kernel | distance | Accuracy | Kappa | AccuracySD | KappaSD | \n",
       "|---|\n",
       "| 20         | optimal    | 1          | 0.8029503  | 0.5831926  | 0.05869298 | 0.1213537  | \n",
       "\n",
       "\n"
      ],
      "text/plain": [
       "  kmax kernel  distance Accuracy  Kappa     AccuracySD KappaSD  \n",
       "1 20   optimal 1        0.8029503 0.5831926 0.05869298 0.1213537"
      ]
     },
     "metadata": {},
     "output_type": "display_data"
    }
   ],
   "source": [
    "model_grid_search$results %>% as_data_frame %>% top_n(1, Accuracy)\n",
    "model_grid_search$results %>% as_data_frame %>% top_n(1, Kappa)"
   ]
  },
  {
   "cell_type": "code",
   "execution_count": 12,
   "metadata": {},
   "outputs": [
    {
     "data": {
      "text/html": [
       "<table>\n",
       "<thead><tr><th></th><th scope=col>kmax</th><th scope=col>distance</th><th scope=col>kernel</th></tr></thead>\n",
       "<tbody>\n",
       "\t<tr><th scope=row>57</th><td>20     </td><td>1      </td><td>optimal</td></tr>\n",
       "</tbody>\n",
       "</table>\n"
      ],
      "text/latex": [
       "\\begin{tabular}{r|lll}\n",
       "  & kmax & distance & kernel\\\\\n",
       "\\hline\n",
       "\t57 & 20      & 1       & optimal\\\\\n",
       "\\end{tabular}\n"
      ],
      "text/markdown": [
       "\n",
       "| <!--/--> | kmax | distance | kernel | \n",
       "|---|\n",
       "| 57 | 20      | 1       | optimal | \n",
       "\n",
       "\n"
      ],
      "text/plain": [
       "   kmax distance kernel \n",
       "57 20   1        optimal"
      ]
     },
     "metadata": {},
     "output_type": "display_data"
    }
   ],
   "source": [
    "model_grid_search$bestTune # indeed"
   ]
  },
  {
   "cell_type": "markdown",
   "metadata": {},
   "source": [
    "### Computational Issues\n",
    "\n",
    "As you see, (if you tried training the model yourself) the model takes a **looong** time to train\n",
    "\n",
    "Indeed, grid search is often not viable when the hyperparameter space gets lerger, indeed, it gets exponentially complex."
   ]
  },
  {
   "cell_type": "markdown",
   "metadata": {},
   "source": [
    "## Manual Search\n",
    "\n",
    "This may seem trivial, but it actually requires a good undertstanding of the underlying problem + it can help in reducing the space of grid search."
   ]
  },
  {
   "cell_type": "markdown",
   "metadata": {},
   "source": [
    "## Random Search\n",
    "\n",
    "grid search looked promising but is there a better way to do it?\n",
    "\n",
    "Randomly sampling in the hyperparameter space may yield good results with less computing time. Also, it potentially allows us to explore an even larger hyperparameter space!"
   ]
  },
  {
   "cell_type": "code",
   "execution_count": 13,
   "metadata": {},
   "outputs": [
    {
     "data": {
      "text/plain": [
       "k-Nearest Neighbors \n",
       "\n",
       "918 samples\n",
       "  8 predictor\n",
       "  2 classes: 'Not', 'Yes' \n",
       "\n",
       "No pre-processing\n",
       "Resampling: Cross-Validated (10 fold) \n",
       "Summary of sample sizes: 826, 828, 826, 826, 826, 826, ... \n",
       "Resampling results across tuning parameters:\n",
       "\n",
       "  kernel        distance  Accuracy   Kappa    \n",
       "  rectangular   10.0      0.7875121  0.5480525\n",
       "  epanechnikov   0.1      0.7941787  0.5582882\n",
       "  epanechnikov  10.0      0.7854348  0.5451215\n",
       "  biweight       1.0      0.8017633  0.5813310\n",
       "  biweight      10.0      0.7778261  0.5296114\n",
       "  inv            5.0      0.7854589  0.5496455\n",
       "  gaussian       0.5      0.7962560  0.5667048\n",
       "  gaussian       5.0      0.7810386  0.5347831\n",
       "  gaussian      10.0      0.7885990  0.5506830\n",
       "  rank           1.0      0.7930435  0.5585456\n",
       "\n",
       "Tuning parameter 'kmax' was held constant at a value of 20\n",
       "Accuracy was used to select the optimal model using the largest value.\n",
       "The final values used for the model were kmax = 20, distance = 1 and kernel\n",
       " = biweight."
      ]
     },
     "metadata": {},
     "output_type": "display_data"
    }
   ],
   "source": [
    "## train the model (you really don't want to run this)\n",
    "\n",
    "set.seed(123) # to allow reproducibility of cross validation split\n",
    "\n",
    "tune_grid_random = tune_grid %>% sample_n(10)\n",
    "\n",
    "#model_random_search = train(x = titanic_df$x_train,\n",
    "#                          y = titanic_df$y_train$class,\n",
    "#                          method = 'kknn',\n",
    "#                          tuneGrid = tune_grid_random,\n",
    "#                          trControl = trainControl(method = 'cv',\n",
    "#                                                   p = 0.9,\n",
    "#                                                   number = 10)\n",
    "#                    )\n",
    "\n",
    "#saveRDS(model_random_search, 'data/model_random_search.R')\n",
    "\n",
    "\n",
    "# rather we trained the model for you, how nice are we?!?\n",
    "\n",
    "(model_random_search = readRDS('data/model_random_search.R'))"
   ]
  },
  {
   "cell_type": "code",
   "execution_count": 169,
   "metadata": {},
   "outputs": [
    {
     "data": {},
     "metadata": {},
     "output_type": "display_data"
    },
    {
     "data": {
      "image/png": "[encoded data removed]",
      "text/plain": [
       "plot without title"
      ]
     },
     "metadata": {},
     "output_type": "display_data"
    }
   ],
   "source": [
    "options(repr.plot.width=6, repr.plot.height=3)\n",
    "\n",
    "model_random_search$results %>%\n",
    "  as_data_frame %>%\n",
    "  rownames_to_column(var = 'id') %>% mutate(id = as.numeric(id))%>%\n",
    "    gather(Variable, Value, -one_of('id', 'kmax', 'kernel', 'distance')) %>%\n",
    "    filter(Variable == 'Accuracy' | Variable == 'Kappa') %>%\n",
    "    ggplot() + geom_line(aes(x = id, y = Value)) + ggtitle('Validation Performance') +\n",
    "    facet_wrap(~Variable, scales = 'free') + theme_minimal() + labs(x = \"\", y = \"\")\n",
    "\n",
    "options(repr.plot.width=6, repr.plot.height=6)"
   ]
  },
  {
   "cell_type": "code",
   "execution_count": 16,
   "metadata": {},
   "outputs": [
    {
     "data": {
      "text/html": [
       "<table>\n",
       "<thead><tr><th scope=col>kmax</th><th scope=col>kernel</th><th scope=col>distance</th><th scope=col>Accuracy</th><th scope=col>Kappa</th><th scope=col>AccuracySD</th><th scope=col>KappaSD</th></tr></thead>\n",
       "<tbody>\n",
       "\t<tr><td>20        </td><td>biweight  </td><td>1         </td><td>0.8017633 </td><td>0.581331  </td><td>0.05057195</td><td>0.1055897 </td></tr>\n",
       "</tbody>\n",
       "</table>\n"
      ],
      "text/latex": [
       "\\begin{tabular}{r|lllllll}\n",
       " kmax & kernel & distance & Accuracy & Kappa & AccuracySD & KappaSD\\\\\n",
       "\\hline\n",
       "\t 20         & biweight   & 1          & 0.8017633  & 0.581331   & 0.05057195 & 0.1055897 \\\\\n",
       "\\end{tabular}\n"
      ],
      "text/markdown": [
       "\n",
       "kmax | kernel | distance | Accuracy | Kappa | AccuracySD | KappaSD | \n",
       "|---|\n",
       "| 20         | biweight   | 1          | 0.8017633  | 0.581331   | 0.05057195 | 0.1055897  | \n",
       "\n",
       "\n"
      ],
      "text/plain": [
       "  kmax kernel   distance Accuracy  Kappa    AccuracySD KappaSD  \n",
       "1 20   biweight 1        0.8017633 0.581331 0.05057195 0.1055897"
      ]
     },
     "metadata": {},
     "output_type": "display_data"
    },
    {
     "data": {
      "text/html": [
       "<table>\n",
       "<thead><tr><th scope=col>kmax</th><th scope=col>kernel</th><th scope=col>distance</th><th scope=col>Accuracy</th><th scope=col>Kappa</th><th scope=col>AccuracySD</th><th scope=col>KappaSD</th></tr></thead>\n",
       "<tbody>\n",
       "\t<tr><td>20        </td><td>biweight  </td><td>1         </td><td>0.8017633 </td><td>0.581331  </td><td>0.05057195</td><td>0.1055897 </td></tr>\n",
       "</tbody>\n",
       "</table>\n"
      ],
      "text/latex": [
       "\\begin{tabular}{r|lllllll}\n",
       " kmax & kernel & distance & Accuracy & Kappa & AccuracySD & KappaSD\\\\\n",
       "\\hline\n",
       "\t 20         & biweight   & 1          & 0.8017633  & 0.581331   & 0.05057195 & 0.1055897 \\\\\n",
       "\\end{tabular}\n"
      ],
      "text/markdown": [
       "\n",
       "kmax | kernel | distance | Accuracy | Kappa | AccuracySD | KappaSD | \n",
       "|---|\n",
       "| 20         | biweight   | 1          | 0.8017633  | 0.581331   | 0.05057195 | 0.1055897  | \n",
       "\n",
       "\n"
      ],
      "text/plain": [
       "  kmax kernel   distance Accuracy  Kappa    AccuracySD KappaSD  \n",
       "1 20   biweight 1        0.8017633 0.581331 0.05057195 0.1055897"
      ]
     },
     "metadata": {},
     "output_type": "display_data"
    }
   ],
   "source": [
    "model_random_search$results %>% as_data_frame %>% top_n(1, Accuracy)\n",
    "model_random_search$results %>% as_data_frame %>% top_n(1, Kappa)"
   ]
  },
  {
   "cell_type": "markdown",
   "metadata": {},
   "source": [
    "Wow! with the 1/6th of training time we found a solution almost as good as than with grid search!\n",
    "- note that despite this is not be the *best* hyperparameter set, it does they job fairly good, don't you think?"
   ]
  },
  {
   "cell_type": "markdown",
   "metadata": {},
   "source": [
    "## Bayesian Optimization\n",
    "\n",
    "[Google says](https://cloud.google.com/blog/big-data/2017/08/hyperparameter-tuning-in-cloud-machine-learning-engine-using-bayesian-optimization) it works the best.\n",
    "\n",
    "This is a greedy approach (not a grid approach ;) ) in the sense that it is aimed at quickly maximize potentially locally optimal solution. Shoudl be relatively faster to other approaches if the hyperparameter space is particularly large! \n",
    "> if you think about it, finding the optimal solution would certainly mean overfitting!\n",
    "\n",
    "### Gaussian Processes\n",
    "\n",
    "Interestingly enough, Bayesian Hypermarameter Optimization relies on another machine learning algowitm (Gaussian Process) to **infer the latent accuracy (or loss)** distibution in the hyperparameters space, thus allowing a  more efficient search of hyperparameters which are looked after in the most **promising** regions. \n",
    "\n",
    "<img src=\"fig/escher.jpg\" width=\"400\"> <img src=\"fig/gaussian.png\">\n",
    "\n",
    "*Graphical representation of how to use a machine learning model to improve another machine learning model.*\n",
    "\n",
    "Gaussian processes tries to infer the **prior distribution** of a phenomenon (in our case, the accuracy function) by looking at some realisation of that phenomenon, sampled from its **posterior distribution**. In the situation shown above, the true prior function $f(x) = x \\sin(x)$ (red-dashed) is sampled at 6 different points (the red dots). Confidence bounds (the blue bands) for values in between the observation are set according to a *kernel* function. The default *kernel* in the **rBayesianOptimization** package is the **squared exponential kernel** $K_{SE}(x,x') = \\exp \\Big(-\\frac{\\|x-x'\\|^2}{2\\ell^2} \\Big)$, The parameter ℓ is the characteristic length-scale of the process (practically, \"how close\" two points $x$ and $x'$ have to be to influence each other significantly).\n",
    "\n",
    "___\n",
    "\n",
    "Bayesian Hyperparameter Search proceeds by fitting a *gaussian process* to a initial set of randomly sampled hyperparameters and then inspecting the most *interesting* areas in the hyperparameter space, where *interesting* can be defined by an **acquisition function** (e.g. *expected improvement*, *probability of improvement*, *upper confidence bound*), which according to the current best hyperparameter estimate, calculates a new set of hyperparameter which is expected to maximize the accuracy gain.\n",
    "\n",
    "Once a new hyperparameter set is choosen by the acquisition function, the underlying *gaussian process* is refit and the process iterates.\n",
    "___\n",
    "\n",
    "The function $\\texttt{BayesianOptimization}$ from the **rBayesianOptimization** packages, automatically takes care of the underlying gaussian process. It must be passed the following inputs:\n",
    "- $\\texttt{FUN}$: the target function to be optimized. Must take in input the hyperparameters and output a list consising of\n",
    "    1. Performance metric\n",
    "    2. Response\n",
    "- $\\texttt{bounds}$: a named list specifying the search space for each individual hyperparameter\n",
    "- $\\texttt{init}$_$\\texttt{points}$: the number of randomly sampled hyperparameters to initialize the gaussian process\n",
    "- $\\texttt{n}$_$\\texttt{iter}$: the number of iterations beyond the initially randomly sampled sample\n",
    "- $\\texttt{acq}$: the acquisition function of choice"
   ]
  },
  {
   "cell_type": "code",
   "execution_count": 307,
   "metadata": {},
   "outputs": [],
   "source": [
    "willBeOptimized = function(K, KERNEL, DIST){\n",
    "  \n",
    "#  partition = titanic_df$x_train %>% nrow %>% seq_len %>% createDataPartition(p = 0.9, list= FALSE)\n",
    "  \n",
    "#  x_train = titanic_df$x_train %>% slice(partition)\n",
    "#  y_train = titanic_df$y_train %>% slice(partition)\n",
    "    \n",
    "#  x_val = titanic_df$x_train %>% slice(-partition)\n",
    "#  y_val = titanic_df$y_train %>% slice(-partition)\n",
    "    \n",
    "    df = get_titanic_df()\n",
    "    \n",
    "  kernel = c('rectangular', # 1\n",
    "             'triangular',  # 2\n",
    "             'epanechnikov',# 3\n",
    "             'biweight',    # 4\n",
    "             'triweight',   # 5\n",
    "             'cos',         # 6\n",
    "             'inv',         # 7\n",
    "             'gaussian',    # 8\n",
    "             'rank',        # 9\n",
    "             'optimal'      # 10                         \n",
    "  )\n",
    "  \n",
    "  kernel = kernel[KERNEL]\n",
    "  \n",
    "  model = train(x = df$x_train, #x_train,\n",
    "                y = df$y_train$class, #y_train$class,\n",
    "                method = 'kknn',\n",
    "               # trControl = trainControl(search = 'grid', method = 'none'),\n",
    "                ks = K,\n",
    "                tuneGrid = data.frame(kmax = 1,\n",
    "                                      kernel = kernel,\n",
    "                                      distance = DIST),\n",
    "                trControl = trainControl(method = 'cv',\n",
    "                                                   p = 0.9,\n",
    "                                                   number = 10)\n",
    "  )\n",
    "  \n",
    "\n",
    "acc =  model$results$Accuracy %>% max    \n",
    "test_response = model$finalModel$data$.outcome\n",
    "\n",
    "    \n",
    "#  test_response = model %>%\n",
    "#    predict(newdata = x_val) %>% factor\n",
    "#  \n",
    "#  acc = confusionMatrix(y_val$class,\n",
    "#                        test_response)[['overall']]['Accuracy']\n",
    "#\n",
    "#  test_response_probabilities = model %>%\n",
    "#    predict(newdata = x_val,\n",
    "#           type = 'prob') %>% pull('Yes')\n",
    "#     \n",
    "#  roc = roc(test_response_probabilities,\n",
    "#            y_val$class) %>% auc\n",
    "#  \n",
    "  return(list('Score' = acc,#roc,\n",
    "              'Pred' = test_response))  \n",
    "}"
   ]
  },
  {
   "cell_type": "code",
   "execution_count": 329,
   "metadata": {},
   "outputs": [
    {
     "name": "stdout",
     "output_type": "stream",
     "text": [
      "elapsed = 3.60\tRound = 1\tK = 6.0000\tKERNEL = 10.0000\tDIST = 8.9064\tValue = 0.7625 \n",
      "elapsed = 4.25\tRound = 2\tK = 16.0000\tKERNEL = 5.0000\tDIST = 6.9588\tValue = 0.7690 \n",
      "elapsed = 4.37\tRound = 3\tK = 9.0000\tKERNEL = 7.0000\tDIST = 6.4410\tValue = 0.7690 \n",
      "elapsed = 6.22\tRound = 4\tK = 18.0000\tKERNEL = 6.0000\tDIST = 9.9433\tValue = 0.7886 \n",
      "elapsed = 6.55\tRound = 5\tK = 19.0000\tKERNEL = 2.0000\tDIST = 6.5915\tValue = 0.7853 \n",
      "elapsed = 5.06\tRound = 6\tK = 2.0000\tKERNEL = 9.0000\tDIST = 7.1145\tValue = 0.7330 \n",
      "elapsed = 5.07\tRound = 7\tK = 11.0000\tKERNEL = 3.0000\tDIST = 5.4863\tValue = 0.7766 \n",
      "elapsed = 5.99\tRound = 8\tK = 18.0000\tKERNEL = 1.0000\tDIST = 5.9820\tValue = 0.7864 \n",
      "elapsed = 4.95\tRound = 9\tK = 11.0000\tKERNEL = 4.0000\tDIST = 2.9627\tValue = 0.7722 \n",
      "elapsed = 5.24\tRound = 10\tK = 10.0000\tKERNEL = 10.0000\tDIST = 1.5564\tValue = 0.7864 \n",
      "elapsed = 4.86\tRound = 11\tK = 18.0000\tKERNEL = 4.0000\tDIST = 6.8924\tValue = 0.7820 \n",
      "elapsed = 6.83\tRound = 12\tK = 20.0000\tKERNEL = 10.0000\tDIST = 0.1000\tValue = 0.7798 \n",
      "elapsed = 4.17\tRound = 13\tK = 5.0000\tKERNEL = 1.0000\tDIST = 3.6322\tValue = 0.7723 \n",
      "elapsed = 4.33\tRound = 14\tK = 15.0000\tKERNEL = 10.0000\tDIST = 9.7642\tValue = 0.7897 \n",
      "elapsed = 6.73\tRound = 15\tK = 20.0000\tKERNEL = 6.0000\tDIST = 1.1837\tValue = 0.7973 \n",
      "elapsed = 2.50\tRound = 16\tK = 1.0000\tKERNEL = 1.0000\tDIST = 10.0000\tValue = 0.7265 \n",
      "elapsed = 6.93\tRound = 17\tK = 8.0000\tKERNEL = 1.0000\tDIST = 1.1639\tValue = 0.7973 \n",
      "elapsed = 4.52\tRound = 18\tK = 8.0000\tKERNEL = 3.0000\tDIST = 1.9263\tValue = 0.7755 \n",
      "elapsed = 5.73\tRound = 19\tK = 10.0000\tKERNEL = 1.0000\tDIST = 0.5429\tValue = 0.7907 \n",
      "elapsed = 4.83\tRound = 20\tK = 20.0000\tKERNEL = 7.0000\tDIST = 6.5138\tValue = 0.7723 \n",
      "elapsed = 5.55\tRound = 21\tK = 6.0000\tKERNEL = 10.0000\tDIST = 0.3581\tValue = 0.7788 \n",
      "elapsed = 5.16\tRound = 22\tK = 19.0000\tKERNEL = 8.0000\tDIST = 2.3520\tValue = 0.7842 \n",
      "elapsed = 6.90\tRound = 23\tK = 20.0000\tKERNEL = 7.0000\tDIST = 0.1000\tValue = 0.7602 \n",
      "elapsed = 4.69\tRound = 24\tK = 4.0000\tKERNEL = 6.0000\tDIST = 2.6157\tValue = 0.7418 \n",
      "elapsed = 4.92\tRound = 25\tK = 8.0000\tKERNEL = 2.0000\tDIST = 2.8654\tValue = 0.7668 \n",
      "elapsed = 5.77\tRound = 26\tK = 16.0000\tKERNEL = 3.0000\tDIST = 1.6284\tValue = 0.7973 \n",
      "elapsed = 5.60\tRound = 27\tK = 16.0000\tKERNEL = 9.0000\tDIST = 1.2518\tValue = 0.7962 \n",
      "elapsed = 4.75\tRound = 28\tK = 20.0000\tKERNEL = 1.0000\tDIST = 7.7618\tValue = 0.7820 \n",
      "elapsed = 5.57\tRound = 29\tK = 3.0000\tKERNEL = 1.0000\tDIST = 0.4863\tValue = 0.7723 \n",
      "elapsed = 5.20\tRound = 30\tK = 12.0000\tKERNEL = 5.0000\tDIST = 1.0046\tValue = 0.7820 \n",
      "elapsed = 5.12\tRound = 31\tK = 20.0000\tKERNEL = 3.0000\tDIST = 2.1605\tValue = 0.7930 \n",
      "elapsed = 5.65\tRound = 32\tK = 20.0000\tKERNEL = 1.0000\tDIST = 1.1527\tValue = 0.7820 \n",
      "elapsed = 4.75\tRound = 33\tK = 20.0000\tKERNEL = 8.0000\tDIST = 8.8203\tValue = 0.7831 \n",
      "elapsed = 5.42\tRound = 34\tK = 19.0000\tKERNEL = 1.0000\tDIST = 4.3337\tValue = 0.7788 \n",
      "elapsed = 2.69\tRound = 35\tK = 20.0000\tKERNEL = 10.0000\tDIST = 10.0000\tValue = 0.7919 \n",
      "elapsed = 4.50\tRound = 36\tK = 10.0000\tKERNEL = 10.0000\tDIST = 4.9256\tValue = 0.7755 \n",
      "elapsed = 5.42\tRound = 37\tK = 12.0000\tKERNEL = 1.0000\tDIST = 1.5678\tValue = 0.7853 \n",
      "elapsed = 2.67\tRound = 38\tK = 12.0000\tKERNEL = 3.0000\tDIST = 10.0000\tValue = 0.7723 \n",
      "elapsed = 5.81\tRound = 39\tK = 18.0000\tKERNEL = 6.0000\tDIST = 1.6977\tValue = 0.7929 \n",
      "elapsed = 2.61\tRound = 40\tK = 13.0000\tKERNEL = 1.0000\tDIST = 10.0000\tValue = 0.7821 \n",
      "\n",
      " Best Parameters Found: \n",
      "Round = 17\tK = 8.0000\tKERNEL = 1.0000\tDIST = 1.1639\tValue = 0.7973 \n"
     ]
    }
   ],
   "source": [
    "set.seed(123)\n",
    "\n",
    "#bayesian_opt = BayesianOptimization(willBeOptimized,\n",
    "#                          bounds = list(K = c(1L, 20L),\n",
    "#                                        KERNEL = c(1L, 10L),\n",
    "#                                        DIST = c(0.1, 10)),\n",
    "#                          init_points = 10,\n",
    "#                          n_iter = 30,\n",
    "#                          acq = 'ucb',\n",
    "#                          verbose = T)\n",
    "\n",
    "#saveRDS(bayesian_opt, 'data/bayesian_opt.R')\n",
    "bayesian_opt = readRDS('data/bayesian_opt.R')"
   ]
  },
  {
   "cell_type": "code",
   "execution_count": 330,
   "metadata": {},
   "outputs": [
    {
     "data": {
      "text/html": [
       "<table>\n",
       "<thead><tr><th scope=col>Round</th><th scope=col>K</th><th scope=col>KERNEL</th><th scope=col>DIST</th><th scope=col>Value</th></tr></thead>\n",
       "<tbody>\n",
       "\t<tr><td>17       </td><td>8        </td><td>1        </td><td>1.163896 </td><td>0.7973244</td></tr>\n",
       "</tbody>\n",
       "</table>\n"
      ],
      "text/latex": [
       "\\begin{tabular}{r|lllll}\n",
       " Round & K & KERNEL & DIST & Value\\\\\n",
       "\\hline\n",
       "\t 17        & 8         & 1         & 1.163896  & 0.7973244\\\\\n",
       "\\end{tabular}\n"
      ],
      "text/markdown": [
       "\n",
       "Round | K | KERNEL | DIST | Value | \n",
       "|---|\n",
       "| 17        | 8         | 1         | 1.163896  | 0.7973244 | \n",
       "\n",
       "\n"
      ],
      "text/plain": [
       "  Round K KERNEL DIST     Value    \n",
       "1 17    8 1      1.163896 0.7973244"
      ]
     },
     "metadata": {},
     "output_type": "display_data"
    }
   ],
   "source": [
    "bayesian_opt$History %>% as_data_frame %>% top_n(1, Value)\n",
    "\n",
    "best_round = bayesian_opt$History %>% as_data_frame %>% top_n(1, Value) %>% pull('Round') %>% max"
   ]
  },
  {
   "cell_type": "markdown",
   "metadata": {},
   "source": [
    "As you can see in the plot below, the best hyperparameters maximize the accuracy along the tree different dimensions."
   ]
  },
  {
   "cell_type": "code",
   "execution_count": 358,
   "metadata": {},
   "outputs": [
    {
     "data": {},
     "metadata": {},
     "output_type": "display_data"
    },
    {
     "data": {
      "image/png": "[encoded data removed]",
      "text/plain": [
       "plot without title"
      ]
     },
     "metadata": {},
     "output_type": "display_data"
    }
   ],
   "source": [
    "p = bayesian_opt$History %>%\n",
    "gather(hp, Hyperparameters, -one_of('Value', 'Round')) %>%\n",
    "filter(Round > 10) %>%\n",
    "rename('Accuracy' = Value) %>%\n",
    "ggplot(aes(x = Hyperparameters, y = Accuracy)) +\n",
    "stat_smooth(method = 'loess', formula = y ~ exp(-abs(x)/x^2), se = T, level = 0.95) +\n",
    "geom_point(size = 0.5) +\n",
    "facet_grid(~ hp, scales = 'free') +\n",
    "theme_minimal() + ggtitle('Validation Performance') + labs(x = \"\", y = \"Accuracy\")\n",
    "\n",
    "options(repr.plot.width=6, repr.plot.height=3)\n",
    "\n",
    "p"
   ]
  },
  {
   "cell_type": "code",
   "execution_count": 335,
   "metadata": {},
   "outputs": [],
   "source": [
    "set.seed(123)\n",
    "\n",
    "kernel = c('rectangular','triangular', 'epanechnikov', 'biweight', 'triweight', 'cos', 'inv', 'gaussian', 'rank', 'optimal')\n",
    "\n",
    "model_bayesian_opt = train(x = titanic_df$x_train,\n",
    "                            y = titanic_df$y_train$class,\n",
    "                            method = 'kknn',\n",
    "                            trControl = trainControl(search = 'grid', method = 'none'),\n",
    "                            tuneGrid = data.frame(kmax = bayesian_opt$History$K[best_round],\n",
    "                                              kernel = kernel[bayesian_opt$History$KERNEL[best_round]],\n",
    "                                              distance = bayesian_opt$History$DIST[best_round])\n",
    "                          )\n",
    "\n",
    "saveRDS(model_bayesian_opt, 'data/model_bayesian_opt.R')"
   ]
  },
  {
   "cell_type": "markdown",
   "metadata": {},
   "source": [
    "### Performance Recap | Training Sample\n",
    "\n",
    "Let's summarise the in-sample performances of the trained models"
   ]
  },
  {
   "cell_type": "code",
   "execution_count": 336,
   "metadata": {},
   "outputs": [
    {
     "data": {
      "text/html": [
       "<table>\n",
       "<thead><tr><th scope=col>Strategy</th><th scope=col>Accuracy</th></tr></thead>\n",
       "<tbody>\n",
       "\t<tr><td>Grid Search    </td><td>0.803          </td></tr>\n",
       "\t<tr><td>Random Search  </td><td>0.802          </td></tr>\n",
       "\t<tr><td>Bayesian Search</td><td>0.797          </td></tr>\n",
       "\t<tr><td>Manual Search  </td><td>0.782          </td></tr>\n",
       "</tbody>\n",
       "</table>\n"
      ],
      "text/latex": [
       "\\begin{tabular}{r|ll}\n",
       " Strategy & Accuracy\\\\\n",
       "\\hline\n",
       "\t Grid Search     & 0.803          \\\\\n",
       "\t Random Search   & 0.802          \\\\\n",
       "\t Bayesian Search & 0.797          \\\\\n",
       "\t Manual Search   & 0.782          \\\\\n",
       "\\end{tabular}\n"
      ],
      "text/markdown": [
       "\n",
       "Strategy | Accuracy | \n",
       "|---|---|---|---|\n",
       "| Grid Search     | 0.803           | \n",
       "| Random Search   | 0.802           | \n",
       "| Bayesian Search | 0.797           | \n",
       "| Manual Search   | 0.782           | \n",
       "\n",
       "\n"
      ],
      "text/plain": [
       "  Strategy        Accuracy\n",
       "1 Grid Search     0.803   \n",
       "2 Random Search   0.802   \n",
       "3 Bayesian Search 0.797   \n",
       "4 Manual Search   0.782   "
      ]
     },
     "metadata": {},
     "output_type": "display_data"
    }
   ],
   "source": [
    "model = readRDS('data/titanic_model.R')\n",
    "model_grid_search = readRDS('data/model_grid_search.R')\n",
    "model_random_search = readRDS('data/model_random_search.R')\n",
    "model_bayesian_opt = readRDS('data/model_bayesian_opt.R')\n",
    "\n",
    "data_frame(\n",
    "'Manual Search' = model$results$Accuracy %>% round(3),\n",
    "'Grid Search' = model_grid_search$results$Accuracy %>% round(3) %>% max,\n",
    "'Random Search' = model_random_search$results$Accuracy %>% max %>% round(3) %>% max,\n",
    "'Bayesian Search' = bayesian_opt$History$Value %>% max %>% round(3)\n",
    "    ) %>% gather(key = 'Strategy', value = 'Accuracy') %>% arrange(desc(Accuracy))"
   ]
  },
  {
   "cell_type": "markdown",
   "metadata": {},
   "source": [
    "> The main reason for which bayesian search has a significantly higher accuracy is because it can exploit non-integer value for the $\\texttt{distance}$ parameter"
   ]
  },
  {
   "cell_type": "markdown",
   "metadata": {},
   "source": [
    "### Performance Recap | Testing Sample\n",
    "\n",
    "Let's test our models on the **hold-out** sample"
   ]
  },
  {
   "cell_type": "code",
   "execution_count": 337,
   "metadata": {},
   "outputs": [],
   "source": [
    "test_response = model %>%  predict(newdata = titanic_df$x_test, type = 'raw') %>% factor\n",
    "test_response_grid = model_grid_search %>% predict(newdata = titanic_df$x_test, type = 'raw') %>% factor\n",
    "test_response_random = model_random_search %>% predict(newdata = titanic_df$x_test, type = 'raw') %>% factor\n",
    "test_response_bayes = model_bayesian_opt %>% predict(newdata = titanic_df$x_test, type = 'raw') %>% factor\n",
    "\n",
    "test_response_proba = model %>% predict(newdata = titanic_df$x_test, type = 'prob') %>% pull('Yes')\n",
    "test_response_grid_proba = model_grid_search %>% predict(newdata = titanic_df$x_test, type = 'prob') %>% pull('Yes')\n",
    "test_response_random_proba = model_random_search %>% predict(newdata = titanic_df$x_test, type = 'prob') %>% pull('Yes')\n",
    "test_response_bayes_proba = model_bayesian_opt %>% predict(newdata = titanic_df$x_test, type = 'prob') %>% pull('Yes')"
   ]
  },
  {
   "cell_type": "code",
   "execution_count": 338,
   "metadata": {},
   "outputs": [
    {
     "data": {
      "text/html": [
       "<table>\n",
       "<thead><tr><th scope=col>Strategy</th><th scope=col>Accuracy</th></tr></thead>\n",
       "<tbody>\n",
       "\t<tr><td>Grid Search    </td><td>0.798          </td></tr>\n",
       "\t<tr><td>Manual Search  </td><td>0.796          </td></tr>\n",
       "\t<tr><td>Bayesian Search</td><td>0.788          </td></tr>\n",
       "\t<tr><td>Random Search  </td><td>0.758          </td></tr>\n",
       "</tbody>\n",
       "</table>\n"
      ],
      "text/latex": [
       "\\begin{tabular}{r|ll}\n",
       " Strategy & Accuracy\\\\\n",
       "\\hline\n",
       "\t Grid Search     & 0.798          \\\\\n",
       "\t Manual Search   & 0.796          \\\\\n",
       "\t Bayesian Search & 0.788          \\\\\n",
       "\t Random Search   & 0.758          \\\\\n",
       "\\end{tabular}\n"
      ],
      "text/markdown": [
       "\n",
       "Strategy | Accuracy | \n",
       "|---|---|---|---|\n",
       "| Grid Search     | 0.798           | \n",
       "| Manual Search   | 0.796           | \n",
       "| Bayesian Search | 0.788           | \n",
       "| Random Search   | 0.758           | \n",
       "\n",
       "\n"
      ],
      "text/plain": [
       "  Strategy        Accuracy\n",
       "1 Grid Search     0.798   \n",
       "2 Manual Search   0.796   \n",
       "3 Bayesian Search 0.788   \n",
       "4 Random Search   0.758   "
      ]
     },
     "metadata": {},
     "output_type": "display_data"
    }
   ],
   "source": [
    "data_frame(\n",
    "'Manual Search' = (acc = confusionMatrix(test_response, titanic_df$y_test$class, positive = 'Yes'))[['overall']]['Accuracy']  %>% round(3) %>% unlist,\n",
    "'Grid Search' = (acc_grid = confusionMatrix(test_response_grid, titanic_df$y_test$class, positive = 'Yes'))[['overall']]['Accuracy'] %>% round(3) %>% list('Grid Search ' = .) %>% unlist,\n",
    "'Random Search' = (acc_random = confusionMatrix(test_response_random, titanic_df$y_test$class, positive = 'Yes'))[['overall']]['Accuracy'] %>% round(3) %>% list('Random Search ' = .) %>% unlist,\n",
    "'Bayesian Search' = (acc_bayes = confusionMatrix(test_response_bayes, titanic_df$y_test$class, positive = 'Yes'))[['overall']]['Accuracy'] %>% round(3) %>% list('Bayesian Search ' = .) %>% unlist\n",
    ") %>% gather(key = 'Strategy', value = 'Accuracy') %>% arrange(desc(Accuracy))"
   ]
  },
  {
   "cell_type": "code",
   "execution_count": 339,
   "metadata": {},
   "outputs": [
    {
     "data": {
      "text/html": [
       "<table>\n",
       "<thead><tr><th scope=col>Strategy</th><th scope=col>Balanced Accuracy</th></tr></thead>\n",
       "<tbody>\n",
       "\t<tr><td>Manual Search  </td><td>0.776          </td></tr>\n",
       "\t<tr><td>Grid Search    </td><td>0.775          </td></tr>\n",
       "\t<tr><td>Bayesian Search</td><td>0.763          </td></tr>\n",
       "\t<tr><td>Random Search  </td><td>0.750          </td></tr>\n",
       "</tbody>\n",
       "</table>\n"
      ],
      "text/latex": [
       "\\begin{tabular}{r|ll}\n",
       " Strategy & Balanced Accuracy\\\\\n",
       "\\hline\n",
       "\t Manual Search   & 0.776          \\\\\n",
       "\t Grid Search     & 0.775          \\\\\n",
       "\t Bayesian Search & 0.763          \\\\\n",
       "\t Random Search   & 0.750          \\\\\n",
       "\\end{tabular}\n"
      ],
      "text/markdown": [
       "\n",
       "Strategy | Balanced Accuracy | \n",
       "|---|---|---|---|\n",
       "| Manual Search   | 0.776           | \n",
       "| Grid Search     | 0.775           | \n",
       "| Bayesian Search | 0.763           | \n",
       "| Random Search   | 0.750           | \n",
       "\n",
       "\n"
      ],
      "text/plain": [
       "  Strategy        Balanced Accuracy\n",
       "1 Manual Search   0.776            \n",
       "2 Grid Search     0.775            \n",
       "3 Bayesian Search 0.763            \n",
       "4 Random Search   0.750            "
      ]
     },
     "metadata": {},
     "output_type": "display_data"
    }
   ],
   "source": [
    "data_frame(\n",
    "'Manual Search' = (acc = confusionMatrix(test_response, titanic_df$y_test$class, positive = 'Yes'))[['byClass']]['Balanced Accuracy']  %>% round(3) %>% unlist,\n",
    "'Grid Search' = (acc_grid = confusionMatrix(test_response_grid, titanic_df$y_test$class, positive = 'Yes'))[['byClass']]['Balanced Accuracy'] %>% round(3) %>% list('Grid Search ' = .) %>% unlist,\n",
    "'Random Search' = (acc_random = confusionMatrix(test_response_random, titanic_df$y_test$class, positive = 'Yes'))[['byClass']]['Balanced Accuracy'] %>% round(3) %>% list('Random Search ' = .) %>% unlist,\n",
    "'Bayesian Search' = (acc_bayes = confusionMatrix(test_response_bayes, titanic_df$y_test$class, positive = 'Yes'))[['byClass']]['Balanced Accuracy'] %>% round(3) %>% list('Bayesian Search ' = .) %>% unlist\n",
    ") %>% gather(key = 'Strategy', value = 'Balanced Accuracy') %>% arrange(desc(`Balanced Accuracy`))"
   ]
  },
  {
   "cell_type": "code",
   "execution_count": 340,
   "metadata": {},
   "outputs": [
    {
     "data": {
      "text/html": [
       "<table>\n",
       "<thead><tr><th scope=col>Strategy</th><th scope=col>Kappa</th></tr></thead>\n",
       "<tbody>\n",
       "\t<tr><td>Grid Search    </td><td>0.548          </td></tr>\n",
       "\t<tr><td>Manual Search  </td><td>0.547          </td></tr>\n",
       "\t<tr><td>Bayesian Search</td><td>0.525          </td></tr>\n",
       "\t<tr><td>Random Search  </td><td>0.478          </td></tr>\n",
       "</tbody>\n",
       "</table>\n"
      ],
      "text/latex": [
       "\\begin{tabular}{r|ll}\n",
       " Strategy & Kappa\\\\\n",
       "\\hline\n",
       "\t Grid Search     & 0.548          \\\\\n",
       "\t Manual Search   & 0.547          \\\\\n",
       "\t Bayesian Search & 0.525          \\\\\n",
       "\t Random Search   & 0.478          \\\\\n",
       "\\end{tabular}\n"
      ],
      "text/markdown": [
       "\n",
       "Strategy | Kappa | \n",
       "|---|---|---|---|\n",
       "| Grid Search     | 0.548           | \n",
       "| Manual Search   | 0.547           | \n",
       "| Bayesian Search | 0.525           | \n",
       "| Random Search   | 0.478           | \n",
       "\n",
       "\n"
      ],
      "text/plain": [
       "  Strategy        Kappa\n",
       "1 Grid Search     0.548\n",
       "2 Manual Search   0.547\n",
       "3 Bayesian Search 0.525\n",
       "4 Random Search   0.478"
      ]
     },
     "metadata": {},
     "output_type": "display_data"
    }
   ],
   "source": [
    "data_frame(\n",
    "'Manual Search' = (acc = confusionMatrix(test_response, titanic_df$y_test$class, positive = 'Yes'))[['overall']]['Kappa']  %>% round(3) %>% unlist,\n",
    "'Grid Search' = (acc_grid = confusionMatrix(test_response_grid, titanic_df$y_test$class, positive = 'Yes'))[['overall']]['Kappa'] %>% round(3) %>% list('Grid Search ' = .) %>% unlist,\n",
    "'Random Search' = (acc_random = confusionMatrix(test_response_random, titanic_df$y_test$class, positive = 'Yes'))[['overall']]['Kappa'] %>% round(3) %>% list('Random Search ' = .) %>% unlist,\n",
    "'Bayesian Search' = (acc_bayes = confusionMatrix(test_response_bayes, titanic_df$y_test$class, positive = 'Yes'))[['overall']]['Kappa'] %>% round(3) %>% list('Bayesian Search ' = .) %>% unlist\n",
    ") %>% gather(key = 'Strategy', value = 'Kappa') %>% arrange(desc(Kappa))"
   ]
  },
  {
   "cell_type": "code",
   "execution_count": 341,
   "metadata": {},
   "outputs": [
    {
     "data": {
      "text/html": [
       "<table>\n",
       "<thead><tr><th scope=col>Strategy</th><th scope=col>AUC</th></tr></thead>\n",
       "<tbody>\n",
       "\t<tr><td>Manual Search  </td><td>0.8456319      </td></tr>\n",
       "\t<tr><td>Grid Search    </td><td>0.8293264      </td></tr>\n",
       "\t<tr><td>Bayesian Search</td><td>0.8253195      </td></tr>\n",
       "\t<tr><td>Random Search  </td><td>0.8123483      </td></tr>\n",
       "</tbody>\n",
       "</table>\n"
      ],
      "text/latex": [
       "\\begin{tabular}{r|ll}\n",
       " Strategy & AUC\\\\\n",
       "\\hline\n",
       "\t Manual Search   & 0.8456319      \\\\\n",
       "\t Grid Search     & 0.8293264      \\\\\n",
       "\t Bayesian Search & 0.8253195      \\\\\n",
       "\t Random Search   & 0.8123483      \\\\\n",
       "\\end{tabular}\n"
      ],
      "text/markdown": [
       "\n",
       "Strategy | AUC | \n",
       "|---|---|---|---|\n",
       "| Manual Search   | 0.8456319       | \n",
       "| Grid Search     | 0.8293264       | \n",
       "| Bayesian Search | 0.8253195       | \n",
       "| Random Search   | 0.8123483       | \n",
       "\n",
       "\n"
      ],
      "text/plain": [
       "  Strategy        AUC      \n",
       "1 Manual Search   0.8456319\n",
       "2 Grid Search     0.8293264\n",
       "3 Bayesian Search 0.8253195\n",
       "4 Random Search   0.8123483"
      ]
     },
     "metadata": {},
     "output_type": "display_data"
    }
   ],
   "source": [
    "data_frame(\n",
    "'Manual Search' = roc(test_response_proba, titanic_df$y_test$class) %>% auc,\n",
    "'Grid Search' = roc(test_response_grid_proba, titanic_df$y_test$class) %>% auc,\n",
    "'Random Search' = roc(test_response_random_proba, titanic_df$y_test$class) %>% auc,\n",
    "'Bayesian Search' = roc(test_response_bayes_proba, titanic_df$y_test$class) %>% auc\n",
    ") %>% gather(key = 'Strategy', value = 'AUC') %>% arrange(desc(AUC))"
   ]
  },
  {
   "cell_type": "markdown",
   "metadata": {},
   "source": [
    "## Honest Toughts / Takeouts\n",
    "\n",
    "- A better understanding of the problem and of the relationship and a good definition of the model/models to start with does the best of the work\n",
    "    \n",
    "- The larger the problem, the more incentive you have in going towards \"smart\" approaches, cf. Random Search and Bayesian Optimization. It is unlikely you will ever face a problem of a truly large size.\n",
    "\n",
    "> The two above are especially true for complex problem, where the deadly combination of hyperparameter space size and training time are often called the **curse of dimensionality**\n",
    "\n",
    "\n",
    "- If the problem is simple and/or well known, you'd be better off with a quick and dirty manual search.\n",
    "\n",
    "- There is a lot of emphasis on gaining that little extra bit of performance (Kaggle competitions...), while a real-world task is pretty much aimed at finding a non useless solution. Basis-point improvement of AR are effectively worth nuts. "
   ]
  }
 ],
 "metadata": {
  "kernelspec": {
   "display_name": "R",
   "language": "R",
   "name": "ir"
  },
  "language_info": {
   "codemirror_mode": "r",
   "file_extension": ".r",
   "mimetype": "text/x-r-source",
   "name": "R",
   "pygments_lexer": "r",
   "version": "3.4.4"
  }
 },
 "nbformat": 4,
 "nbformat_minor": 2
}
