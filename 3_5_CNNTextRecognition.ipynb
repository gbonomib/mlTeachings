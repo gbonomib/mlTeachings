{
 "cells": [
  {
   "cell_type": "markdown",
   "metadata": {},
   "source": [
    "# Convnets for text recognition\n",
    "___\n",
    "\n",
    "*Source: [Chollet et al., Deep Learning With R](https://www.amazon.com/Deep-Learning-R-Francois-Chollet/dp/161729554X) *\n",
    "\n",
    "___\n"
   ]
  },
  {
   "cell_type": "code",
   "execution_count": 3,
   "metadata": {},
   "outputs": [],
   "source": [
    "source('src/lib.r')"
   ]
  },
  {
   "cell_type": "markdown",
   "metadata": {},
   "source": [
    "The same properties that make convnets excel at computer vision also make them highly relevant to sequence processing. **Time can be treated as a spatial dimension, like the height or width of a 2D image.** Such 1D convnets can be competitive on certain sequence-processing problems.\n",
    "\n",
    "The convolution layers we introduced previously were 2D convolutions, extracting 2D patches from image tensors and applying an identical transformation to every patch. In the same way, you can use 1D convolutions, extracting local 1D patches (subsequences)\n",
    "from sequences\n",
    "\n",
    "<img src=\"fig/1d_conv.PNG\" width=\"400\">\n",
    "\n",
    "\n",
    "Recently, 1D convnets, typically used with dilated kernels (dilated means the kernel has a long stride, i.e. it \"jumps\" along the input instead of sliding), have been used with great success for **audio generation** and **machine translation**."
   ]
  },
  {
   "cell_type": "code",
   "execution_count": 4,
   "metadata": {},
   "outputs": [],
   "source": [
    "max_features <- 10000\n",
    "max_len <- 500\n",
    "\n",
    "imdb = dataset_imdb(num_words = max_features)\n",
    "c(c(x_train, y_train), c(x_test, y_test)) %<-% imdb\n",
    "\n",
    "x_train = pad_sequences(x_train, maxlen = max_len)\n",
    "x_test = pad_sequences(x_test, maxlen = max_len)"
   ]
  },
  {
   "cell_type": "markdown",
   "metadata": {},
   "source": [
    "1D convnets are structured in the same way as their 2D counterparts: they consist of a stack of $\\texttt{layer}$\\_$\\texttt{conv}$\\_$\\texttt{1d}$ $\\texttt{layer}$\\_$\\texttt{max}$\\_$\\texttt{pooling}$\\_$\\texttt{1d}$, and ending in either a global pooling layer or a $\\texttt{layer}$\\_$\\texttt{flatten}$, that turn the 3D outputs into 2D outputs, allowing you to add one or more dense layers to the model for classification or regression.\n",
    "One difference, though, is the fact that **you can afford to use larger convolution windows with 1D convnets**. With a 2D convolution layer, a 3 × 3 convolution window contains 3 * 3 = 9 feature vectors; but with a 1D convolution layer, a convolution window of size 3 contains only 3 feature vectors. You can thus easily afford 1D convolution windows of size 7 or 9."
   ]
  },
  {
   "cell_type": "code",
   "execution_count": 7,
   "metadata": {},
   "outputs": [
    {
     "name": "stdout",
     "output_type": "stream",
     "text": [
      "________________________________________________________________________________\n",
      "Layer (type)                        Output Shape                    Param #     \n",
      "================================================================================\n",
      "embedding_1 (Embedding)             (None, 500, 128)                1280000     \n",
      "________________________________________________________________________________\n",
      "conv1d_1 (Conv1D)                   (None, 494, 32)                 28704       \n",
      "________________________________________________________________________________\n",
      "max_pooling1d_1 (MaxPooling1D)      (None, 98, 32)                  0           \n",
      "________________________________________________________________________________\n",
      "conv1d_2 (Conv1D)                   (None, 92, 32)                  7200        \n",
      "________________________________________________________________________________\n",
      "global_max_pooling1d_1 (GlobalMaxPo (None, 32)                      0           \n",
      "________________________________________________________________________________\n",
      "dense_1 (Dense)                     (None, 1)                       33          \n",
      "================================================================================\n",
      "Total params: 1,315,937\n",
      "Trainable params: 1,315,937\n",
      "Non-trainable params: 0\n",
      "________________________________________________________________________________\n"
     ]
    }
   ],
   "source": [
    "model_cnn_1d = keras_model_sequential() %>%\n",
    "    layer_embedding(input_dim = max_features,\n",
    "                    output_dim = 128,\n",
    "                    input_length = max_len) %>%\n",
    "    layer_conv_1d(filters = 32,\n",
    "                  kernel_size = 7,\n",
    "                  activation = \"relu\") %>%\n",
    "    layer_max_pooling_1d(pool_size = 5) %>%\n",
    "    layer_conv_1d(filters = 32,\n",
    "                  kernel_size = 7,\n",
    "                  activation = \"relu\") %>%\n",
    "    layer_global_max_pooling_1d() %>%\n",
    "    layer_dense(units = 1)\n",
    "\n",
    "summary(model_cnn_1d)"
   ]
  },
  {
   "cell_type": "code",
   "execution_count": 8,
   "metadata": {},
   "outputs": [
    {
     "data": {
      "text/plain": [
       "Trained on 20,000 samples, validated on 5,000 samples (batch_size=128, epochs=10)\n",
       "Final epoch (plot to see history):\n",
       "val_loss: 0.4934\n",
       " val_acc: 0.756\n",
       "    loss: 0.2284\n",
       "     acc: 0.8084 "
      ]
     },
     "metadata": {},
     "output_type": "display_data"
    }
   ],
   "source": [
    "model_cnn_1d %>% compile(\n",
    "    optimizer = optimizer_rmsprop(lr = 1e-4), # manually set a very small LR\n",
    "    loss = \"binary_crossentropy\", # binary loss function since the problem is dichotomic\n",
    "    metrics = c(\"acc\") # accuracy metric is fine\n",
    ")\n",
    "\n",
    "\n",
    "(history = model_cnn_1d %>% fit(\n",
    "    x_train,\n",
    "    y_train,\n",
    "    epochs = 10,\n",
    "    batch_size = 128,\n",
    "    validation_split = 0.2\n",
    "))\n",
    "\n",
    "model_cnn_1d$save('data/imdb_cnn.h5')\n",
    "model_cnn_1d$save_weights('data/imdb_cnn_w.h5')\n",
    "saveRDS(history, 'data/history.rds')"
   ]
  },
  {
   "cell_type": "code",
   "execution_count": 15,
   "metadata": {},
   "outputs": [],
   "source": [
    "history = readRDS('data/history.rds')"
   ]
  },
  {
   "cell_type": "code",
   "execution_count": 16,
   "metadata": {},
   "outputs": [
    {
     "data": {},
     "metadata": {},
     "output_type": "display_data"
    },
    {
     "data": {
      "image/png": "[encoded data removed]",
      "text/plain": [
       "plot without title"
      ]
     },
     "metadata": {},
     "output_type": "display_data"
    }
   ],
   "source": [
    "history %>% plot"
   ]
  },
  {
   "cell_type": "code",
   "execution_count": 5,
   "metadata": {},
   "outputs": [],
   "source": [
    "model_cnn_1d = load_model_hdf5('data/imdb_cnn.h5')\n",
    "model_cnn_1d$load_weights('data/imdb_cnn_w.h5')"
   ]
  },
  {
   "cell_type": "code",
   "execution_count": 6,
   "metadata": {},
   "outputs": [
    {
     "data": {
      "text/html": [
       "<dl>\n",
       "\t<dt>$loss</dt>\n",
       "\t\t<dd>0.49386057346344</dd>\n",
       "\t<dt>$acc</dt>\n",
       "\t\t<dd>0.74912</dd>\n",
       "</dl>\n"
      ],
      "text/latex": [
       "\\begin{description}\n",
       "\\item[\\$loss] 0.49386057346344\n",
       "\\item[\\$acc] 0.74912\n",
       "\\end{description}\n"
      ],
      "text/markdown": [
       "$loss\n",
       ":   0.49386057346344\n",
       "$acc\n",
       ":   0.74912\n",
       "\n",
       "\n"
      ],
      "text/plain": [
       "$loss\n",
       "[1] 0.4938606\n",
       "\n",
       "$acc\n",
       "[1] 0.74912\n"
      ]
     },
     "metadata": {},
     "output_type": "display_data"
    }
   ],
   "source": [
    "model_cnn_1d %>% evaluate(x_test, y_test)"
   ]
  }
 ],
 "metadata": {
  "kernelspec": {
   "display_name": "R",
   "language": "R",
   "name": "ir"
  },
  "language_info": {
   "codemirror_mode": "r",
   "file_extension": ".r",
   "mimetype": "text/x-r-source",
   "name": "R",
   "pygments_lexer": "r",
   "version": "3.4.4"
  }
 },
 "nbformat": 4,
 "nbformat_minor": 2
}
