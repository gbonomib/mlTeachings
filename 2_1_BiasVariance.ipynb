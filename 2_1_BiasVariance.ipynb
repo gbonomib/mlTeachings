{
 "cells": [
  {
   "cell_type": "code",
   "execution_count": 12,
   "metadata": {},
   "outputs": [],
   "source": [
    "source('src/lib.r')\n",
    "source('src/titanic/titanic_dataset.R')"
   ]
  },
  {
   "cell_type": "markdown",
   "metadata": {},
   "source": [
    "# The Bias - Variance Trade Off"
   ]
  },
  {
   "cell_type": "markdown",
   "metadata": {},
   "source": [
    "In the previous notebook, we have seen different ML models...how do we evaluate which model is the best for our dataset? To answer this question we need to measure the models performances with some sort of objective function. \n",
    "\n",
    "Here we focus on one objective function called **Accuracy** that is simple defined as:\n",
    "\n",
    "$$\\frac{\\textrm{number of right predictions}}{\\textrm{total number of predictions}}$$\n",
    "\n",
    "In the following notebook we'll see when the **Accuracy** is not the right measure to use and which are the alternative ones.\n",
    "\n",
    "For now, in this notebook, we start to focus on the **final aim** of a machine learning model...\n",
    "\n",
    "As you can remember from the first presentation, the final aim of a ML models is **the prediction on new data**, not the performance on the current one. As a consequence we're interested in the **Accuracy** on the new data not on the original one. How to achieve this goal? Put aside some observations of the original dataset and use them to assess the final model performance.\n",
    "\n",
    "Let's put this in a more formal setting: let's say we have trained our model $f: X \\rightarrow Y$ on the so-called training observations:\n",
    "\n",
    "$$\\textrm{training set:} \\left\\{ (x_1,y_1), (x_2,y_2), \\dots, (x_n,y_n) \\right\\}$$\n",
    "\n",
    "We're no really interested int the *training set* accuracy (or any other measure previously shown):\n",
    "\n",
    "$$\\textrm{training accuracy:} \\frac{1}{n} \\sum_{i = 1}^n \\mathbb{I}(f(x_i) = y_i)$$\n",
    "\n",
    "But given a set of new observations, **not used to train the model**:\n",
    "\n",
    "$$\\textrm{test set:} \\left\\{ (\\tilde{x}_1,\\tilde{y}_1), (\\tilde{x}_2,\\tilde{y}_2), \\dots, (\\tilde{x}_k,\\tilde{y}_k) \\right\\}$$\n",
    "\n",
    "We are interest in the *test set* accuracy:\n",
    "\n",
    "$$\\textrm{test accuracy:} \\frac{1}{n} \\sum_{i = 1}^k \\mathbb{I}(f(\\tilde{x}_i) = \\tilde{y}_i)$$\n",
    "\n",
    "To better explain these concepts, the titanic dataset has been already partitioned in *training* and *test* set:"
   ]
  },
  {
   "cell_type": "code",
   "execution_count": 19,
   "metadata": {},
   "outputs": [
    {
     "data": {
      "text/html": [
       "<table>\n",
       "<thead><tr><th scope=col>pclass</th><th scope=col>sex</th><th scope=col>age</th><th scope=col>sibsp</th><th scope=col>parch</th><th scope=col>fare</th><th scope=col>cabin</th><th scope=col>embarked</th></tr></thead>\n",
       "<tbody>\n",
       "\t<tr><td>1       </td><td>1       </td><td>29.0000 </td><td>0       </td><td>0       </td><td>211.3375</td><td> 36     </td><td>3       </td></tr>\n",
       "\t<tr><td>1       </td><td>2       </td><td> 0.9167 </td><td>1       </td><td>2       </td><td>151.5500</td><td> 64     </td><td>3       </td></tr>\n",
       "\t<tr><td>1       </td><td>2       </td><td>48.0000 </td><td>0       </td><td>0       </td><td> 26.5500</td><td>120     </td><td>3       </td></tr>\n",
       "\t<tr><td>1       </td><td>2       </td><td>39.0000 </td><td>0       </td><td>0       </td><td>  0.0000</td><td> 13     </td><td>3       </td></tr>\n",
       "\t<tr><td>1       </td><td>1       </td><td>24.0000 </td><td>0       </td><td>0       </td><td> 69.3000</td><td> 27     </td><td>1       </td></tr>\n",
       "\t<tr><td>1       </td><td>1       </td><td>26.0000 </td><td>0       </td><td>0       </td><td> 78.8500</td><td>149     </td><td>3       </td></tr>\n",
       "</tbody>\n",
       "</table>\n"
      ],
      "text/latex": [
       "\\begin{tabular}{r|llllllll}\n",
       " pclass & sex & age & sibsp & parch & fare & cabin & embarked\\\\\n",
       "\\hline\n",
       "\t 1        & 1        & 29.0000  & 0        & 0        & 211.3375 &  36      & 3       \\\\\n",
       "\t 1        & 2        &  0.9167  & 1        & 2        & 151.5500 &  64      & 3       \\\\\n",
       "\t 1        & 2        & 48.0000  & 0        & 0        &  26.5500 & 120      & 3       \\\\\n",
       "\t 1        & 2        & 39.0000  & 0        & 0        &   0.0000 &  13      & 3       \\\\\n",
       "\t 1        & 1        & 24.0000  & 0        & 0        &  69.3000 &  27      & 1       \\\\\n",
       "\t 1        & 1        & 26.0000  & 0        & 0        &  78.8500 & 149      & 3       \\\\\n",
       "\\end{tabular}\n"
      ],
      "text/markdown": [
       "\n",
       "pclass | sex | age | sibsp | parch | fare | cabin | embarked | \n",
       "|---|---|---|---|---|---|\n",
       "| 1        | 1        | 29.0000  | 0        | 0        | 211.3375 |  36      | 3        | \n",
       "| 1        | 2        |  0.9167  | 1        | 2        | 151.5500 |  64      | 3        | \n",
       "| 1        | 2        | 48.0000  | 0        | 0        |  26.5500 | 120      | 3        | \n",
       "| 1        | 2        | 39.0000  | 0        | 0        |   0.0000 |  13      | 3        | \n",
       "| 1        | 1        | 24.0000  | 0        | 0        |  69.3000 |  27      | 1        | \n",
       "| 1        | 1        | 26.0000  | 0        | 0        |  78.8500 | 149      | 3        | \n",
       "\n",
       "\n"
      ],
      "text/plain": [
       "  pclass sex age     sibsp parch fare     cabin embarked\n",
       "1 1      1   29.0000 0     0     211.3375  36   3       \n",
       "2 1      2    0.9167 1     2     151.5500  64   3       \n",
       "3 1      2   48.0000 0     0      26.5500 120   3       \n",
       "4 1      2   39.0000 0     0       0.0000  13   3       \n",
       "5 1      1   24.0000 0     0      69.3000  27   1       \n",
       "6 1      1   26.0000 0     0      78.8500 149   3       "
      ]
     },
     "metadata": {},
     "output_type": "display_data"
    },
    {
     "data": {
      "text/html": [
       "<table>\n",
       "<thead><tr><th scope=col>class</th></tr></thead>\n",
       "<tbody>\n",
       "\t<tr><td>Yes</td></tr>\n",
       "\t<tr><td>Yes</td></tr>\n",
       "\t<tr><td>Yes</td></tr>\n",
       "\t<tr><td>Not</td></tr>\n",
       "\t<tr><td>Yes</td></tr>\n",
       "\t<tr><td>Yes</td></tr>\n",
       "</tbody>\n",
       "</table>\n"
      ],
      "text/latex": [
       "\\begin{tabular}{r|l}\n",
       " class\\\\\n",
       "\\hline\n",
       "\t Yes\\\\\n",
       "\t Yes\\\\\n",
       "\t Yes\\\\\n",
       "\t Not\\\\\n",
       "\t Yes\\\\\n",
       "\t Yes\\\\\n",
       "\\end{tabular}\n"
      ],
      "text/markdown": [
       "\n",
       "class | \n",
       "|---|---|---|---|---|---|\n",
       "| Yes | \n",
       "| Yes | \n",
       "| Yes | \n",
       "| Not | \n",
       "| Yes | \n",
       "| Yes | \n",
       "\n",
       "\n"
      ],
      "text/plain": [
       "  class\n",
       "1 Yes  \n",
       "2 Yes  \n",
       "3 Yes  \n",
       "4 Not  \n",
       "5 Yes  \n",
       "6 Yes  "
      ]
     },
     "metadata": {},
     "output_type": "display_data"
    },
    {
     "data": {
      "text/html": [
       "<table>\n",
       "<thead><tr><th scope=col>pclass</th><th scope=col>sex</th><th scope=col>age</th><th scope=col>sibsp</th><th scope=col>parch</th><th scope=col>fare</th><th scope=col>cabin</th><th scope=col>embarked</th></tr></thead>\n",
       "<tbody>\n",
       "\t<tr><td>1       </td><td>1       </td><td> 2      </td><td>1       </td><td>2       </td><td>151.5500</td><td>33      </td><td>3       </td></tr>\n",
       "\t<tr><td>1       </td><td>2       </td><td>30      </td><td>1       </td><td>2       </td><td>151.5500</td><td>33      </td><td>3       </td></tr>\n",
       "\t<tr><td>1       </td><td>1       </td><td>25      </td><td>1       </td><td>2       </td><td>151.5500</td><td>33      </td><td>3       </td></tr>\n",
       "\t<tr><td>1       </td><td>1       </td><td>63      </td><td>1       </td><td>0       </td><td> 77.9583</td><td>59      </td><td>3       </td></tr>\n",
       "\t<tr><td>1       </td><td>1       </td><td>53      </td><td>2       </td><td>0       </td><td> 51.4792</td><td>24      </td><td>3       </td></tr>\n",
       "\t<tr><td>1       </td><td>2       </td><td>71      </td><td>0       </td><td>0       </td><td> 49.5042</td><td>75      </td><td>1       </td></tr>\n",
       "</tbody>\n",
       "</table>\n"
      ],
      "text/latex": [
       "\\begin{tabular}{r|llllllll}\n",
       " pclass & sex & age & sibsp & parch & fare & cabin & embarked\\\\\n",
       "\\hline\n",
       "\t 1        & 1        &  2       & 1        & 2        & 151.5500 & 33       & 3       \\\\\n",
       "\t 1        & 2        & 30       & 1        & 2        & 151.5500 & 33       & 3       \\\\\n",
       "\t 1        & 1        & 25       & 1        & 2        & 151.5500 & 33       & 3       \\\\\n",
       "\t 1        & 1        & 63       & 1        & 0        &  77.9583 & 59       & 3       \\\\\n",
       "\t 1        & 1        & 53       & 2        & 0        &  51.4792 & 24       & 3       \\\\\n",
       "\t 1        & 2        & 71       & 0        & 0        &  49.5042 & 75       & 1       \\\\\n",
       "\\end{tabular}\n"
      ],
      "text/markdown": [
       "\n",
       "pclass | sex | age | sibsp | parch | fare | cabin | embarked | \n",
       "|---|---|---|---|---|---|\n",
       "| 1        | 1        |  2       | 1        | 2        | 151.5500 | 33       | 3        | \n",
       "| 1        | 2        | 30       | 1        | 2        | 151.5500 | 33       | 3        | \n",
       "| 1        | 1        | 25       | 1        | 2        | 151.5500 | 33       | 3        | \n",
       "| 1        | 1        | 63       | 1        | 0        |  77.9583 | 59       | 3        | \n",
       "| 1        | 1        | 53       | 2        | 0        |  51.4792 | 24       | 3        | \n",
       "| 1        | 2        | 71       | 0        | 0        |  49.5042 | 75       | 1        | \n",
       "\n",
       "\n"
      ],
      "text/plain": [
       "  pclass sex age sibsp parch fare     cabin embarked\n",
       "1 1      1    2  1     2     151.5500 33    3       \n",
       "2 1      2   30  1     2     151.5500 33    3       \n",
       "3 1      1   25  1     2     151.5500 33    3       \n",
       "4 1      1   63  1     0      77.9583 59    3       \n",
       "5 1      1   53  2     0      51.4792 24    3       \n",
       "6 1      2   71  0     0      49.5042 75    1       "
      ]
     },
     "metadata": {},
     "output_type": "display_data"
    },
    {
     "data": {
      "text/html": [
       "<table>\n",
       "<thead><tr><th scope=col>class</th></tr></thead>\n",
       "<tbody>\n",
       "\t<tr><td>Not</td></tr>\n",
       "\t<tr><td>Not</td></tr>\n",
       "\t<tr><td>Not</td></tr>\n",
       "\t<tr><td>Yes</td></tr>\n",
       "\t<tr><td>Yes</td></tr>\n",
       "\t<tr><td>Not</td></tr>\n",
       "</tbody>\n",
       "</table>\n"
      ],
      "text/latex": [
       "\\begin{tabular}{r|l}\n",
       " class\\\\\n",
       "\\hline\n",
       "\t Not\\\\\n",
       "\t Not\\\\\n",
       "\t Not\\\\\n",
       "\t Yes\\\\\n",
       "\t Yes\\\\\n",
       "\t Not\\\\\n",
       "\\end{tabular}\n"
      ],
      "text/markdown": [
       "\n",
       "class | \n",
       "|---|---|---|---|---|---|\n",
       "| Not | \n",
       "| Not | \n",
       "| Not | \n",
       "| Yes | \n",
       "| Yes | \n",
       "| Not | \n",
       "\n",
       "\n"
      ],
      "text/plain": [
       "  class\n",
       "1 Not  \n",
       "2 Not  \n",
       "3 Not  \n",
       "4 Yes  \n",
       "5 Yes  \n",
       "6 Not  "
      ]
     },
     "metadata": {},
     "output_type": "display_data"
    }
   ],
   "source": [
    "titanic_df <- get_titanic_df()\n",
    "titanic_df$x_train %>% head\n",
    "titanic_df$y_train %>% head\n",
    "titanic_df$x_test %>% head\n",
    "titanic_df$y_test %>% head"
   ]
  },
  {
   "cell_type": "markdown",
   "metadata": {},
   "source": [
    "Let's train a simple *KNN* model on the train set (3 neighbors, rectangular kernel and euclidean distance):"
   ]
  },
  {
   "cell_type": "code",
   "execution_count": 63,
   "metadata": {},
   "outputs": [],
   "source": [
    "model <-  train(\n",
    "    y = titanic_df$y_train$class,\n",
    "    x = titanic_df$x_train,\n",
    "    method = \"kknn\",\n",
    "    ks = 3,\n",
    "    trControl = trainControl(classProbs =  TRUE, method = \"none\"),\n",
    "    tuneGrid = data.frame(\n",
    "          kmax = 1,\n",
    "          distance = 2,\n",
    "          kernel = 'rectangular'\n",
    "      )\n",
    ")"
   ]
  },
  {
   "cell_type": "markdown",
   "metadata": {},
   "source": [
    "Let's compute the *training set* accuracy"
   ]
  },
  {
   "cell_type": "code",
   "execution_count": 64,
   "metadata": {},
   "outputs": [
    {
     "data": {
      "text/html": [
       "<strong>Accuracy:</strong> 0.859477124183007"
      ],
      "text/latex": [
       "\\textbf{Accuracy:} 0.859477124183007"
      ],
      "text/markdown": [
       "**Accuracy:** 0.859477124183007"
      ],
      "text/plain": [
       " Accuracy \n",
       "0.8594771 "
      ]
     },
     "metadata": {},
     "output_type": "display_data"
    }
   ],
   "source": [
    "predictions <- predict(model, titanic_df$x_train)\n",
    "confusionMatrix(predictions, titanic_df$y_train$class)$overall[\"Accuracy\"]"
   ]
  },
  {
   "cell_type": "markdown",
   "metadata": {},
   "source": [
    "But what about the *testing set* accuracy?"
   ]
  },
  {
   "cell_type": "code",
   "execution_count": 65,
   "metadata": {},
   "outputs": [
    {
     "data": {
      "text/html": [
       "<strong>Accuracy:</strong> 0.589285714285714"
      ],
      "text/latex": [
       "\\textbf{Accuracy:} 0.589285714285714"
      ],
      "text/markdown": [
       "**Accuracy:** 0.589285714285714"
      ],
      "text/plain": [
       " Accuracy \n",
       "0.5892857 "
      ]
     },
     "metadata": {},
     "output_type": "display_data"
    }
   ],
   "source": [
    "predictions <- predict(model, titanic_df$x_test)\n",
    "confusionMatrix(predictions, titanic_df$y_test$class)$overall[\"Accuracy\"]"
   ]
  },
  {
   "cell_type": "markdown",
   "metadata": {},
   "source": [
    "Ooops...not a great result eh!"
   ]
  },
  {
   "cell_type": "markdown",
   "metadata": {},
   "source": [
    "What's going on? Let's try different numbers of neighbors and analyze the variation in Accuracy"
   ]
  },
  {
   "cell_type": "code",
   "execution_count": 66,
   "metadata": {},
   "outputs": [],
   "source": [
    "accuracy_df <- data_frame()\n",
    "for(k in 1:50) {\n",
    "    model <-  train(\n",
    "    y = titanic_df$y_train$class,\n",
    "    x = titanic_df$x_train,\n",
    "    method = \"kknn\",\n",
    "    ks = k,\n",
    "    trControl = trainControl(classProbs =  TRUE, method = \"none\"),\n",
    "    tuneGrid = data.frame(\n",
    "          kmax = 1,\n",
    "          distance = 2,\n",
    "          kernel = 'rectangular'\n",
    "      )\n",
    "    )\n",
    "    \n",
    "    predictions <- predict(model, titanic_df$x_test)\n",
    "    test_accuracy <- confusionMatrix(predictions, titanic_df$y_test$class)$overall[\"Accuracy\"]\n",
    "    \n",
    "    predictions <- predict(model, titanic_df$x_train)\n",
    "    train_accuracy <- confusionMatrix(predictions, titanic_df$y_train$class)$overall[\"Accuracy\"]\n",
    "    \n",
    "    accuracy_df <- rbind(\n",
    "        accuracy_df,\n",
    "        data_frame(\n",
    "            k = k,\n",
    "            test = test_accuracy,\n",
    "            train = train_accuracy\n",
    "        )\n",
    "    )\n",
    "}"
   ]
  },
  {
   "cell_type": "code",
   "execution_count": 67,
   "metadata": {},
   "outputs": [
    {
     "data": {
      "text/html": [
       "21"
      ],
      "text/latex": [
       "21"
      ],
      "text/markdown": [
       "21"
      ],
      "text/plain": [
       "[1] 21"
      ]
     },
     "metadata": {},
     "output_type": "display_data"
    },
    {
     "data": {
      "text/html": [
       "1"
      ],
      "text/latex": [
       "1"
      ],
      "text/markdown": [
       "1"
      ],
      "text/plain": [
       "[1] 1"
      ]
     },
     "metadata": {},
     "output_type": "display_data"
    },
    {
     "data": {},
     "metadata": {},
     "output_type": "display_data"
    },
    {
     "data": {
      "image/png": "[encoded data removed]",
      "text/plain": [
       "plot without title"
      ]
     },
     "metadata": {},
     "output_type": "display_data"
    }
   ],
   "source": [
    "options(repr.plot.width=6, repr.plot.height=3) ### set a small plot size\n",
    "\n",
    "(best_test_k <- accuracy_df %>% arrange(desc(test)) %>% head(n = 1) %>% pull(k))\n",
    "(best_train_k <- accuracy_df %>% arrange(desc(train)) %>% head(n = 1) %>% pull(k))\n",
    "accuracy_df %>% gather(set, accuracy, -k) %>% \n",
    "    ggplot(aes(x = k, y = accuracy, color = set)) +\n",
    "    geom_line() +\n",
    "    geom_vline(xintercept = best_test_k, lty = 2) +\n",
    "    theme_few()\n"
   ]
  },
  {
   "cell_type": "markdown",
   "metadata": {},
   "source": [
    "So the best number of neighbors for the train set is 1, while the best number for the test set is 21. Why this big difference?\n",
    "Moreover, why to high accuracy in the *training set* (low *k*) corresponds low accuracy in the *test set*?\n",
    "\n",
    "This effect is called **the bias - variance tradeoff**. By selecting **lower $k$** we are finding a model that better fits (i.e. with a **lower bias**) the considered *training set*. But in this way, we are also generating a model that highly depends on the particular *training set*, or, in other terms, if we'd fit, multiple times, the *KNN* with the same $k$ but with different *training sets* we'd produce parameters and predictions having a **high variance**: in other words, we are **overfitting** on the *training set*, the obtained model has less generalization capabilities and, a consequence, lower *test set* accuracy.\n",
    "\n",
    "And so...how to set the right $k$ parameter? We need to find a tradeoff between **bias** and **variance**, in this example this tradeoff seems to be reached for $k =21$.\n",
    "\n",
    "However, in quest for the right *hyperparameters* values we shouldn't use the *test* set: this test shouldn't be touched until we would like to asses the final performance of our model with the chosen *hyperparameters* values on observations that have not been used neither during the *model fit* procedures nor during the *model selection* phase. During both phase we should leverage only on the *training set*, how? We'll discuss this topic in another notebook.\n"
   ]
  }
 ],
 "metadata": {
  "kernelspec": {
   "display_name": "R",
   "language": "R",
   "name": "ir"
  },
  "language_info": {
   "codemirror_mode": "r",
   "file_extension": ".r",
   "mimetype": "text/x-r-source",
   "name": "R",
   "pygments_lexer": "r",
   "version": "3.4.4"
  }
 },
 "nbformat": 4,
 "nbformat_minor": 2
}
