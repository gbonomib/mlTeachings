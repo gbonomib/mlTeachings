{
 "cells": [
  {
   "cell_type": "markdown",
   "metadata": {},
   "source": [
    "## Text Data and Recurring Neural Networks"
   ]
  },
  {
   "cell_type": "code",
   "execution_count": 1,
   "metadata": {},
   "outputs": [],
   "source": [
    "source(\"src/lib.R\")"
   ]
  },
  {
   "cell_type": "markdown",
   "metadata": {},
   "source": [
    "In this notebook we'll summarise two related and important topics in Neural Networks:\n",
    "* Text processing and how to feed text data into Neural Networks\n",
    "* The Neural Networks models that have been developed to handle sequence data (i.e. text or timeseries)"
   ]
  },
  {
   "cell_type": "markdown",
   "metadata": {},
   "source": [
    "### Text vectorization\n",
    "In the previous notebooks we have seen that neural networks model must be fed with numeric tensors, the *text vectorization* is a process that transforms text data into quantitative data.\n",
    "\n",
    "There are different way to *vectorize* text data, as example:\n",
    "* Segment text into **words** and associate each word to a numerical vector.\n",
    "* Segment text into **characters** and transform each character into a numerical vector.\n",
    "* Extract **N-Grams** of words/characters and transform each N-Gram into a vector. A **N-gram** is a sequence of at most **N** consecutive words/characters in a text data: consider text *\"UniCredit is a pan European Winner\"*, it contains the following **3 grams**: *Unicredit, is, a, pan, European, Winner, Unicredit is, is a, a pan, pan European, European Winner, Unicredit is a, is a pan, a pan European, pan European Winner*.\n",
    "\n",
    "In the following we'll focus our attention on the first *vectorization* strategy: **words** vectorization.\n",
    "\n",
    "The **first step** in this process is to segment text data into words: *Tokenization*. Let's see how to tokenize text data in **KERAS**:"
   ]
  },
  {
   "cell_type": "code",
   "execution_count": 2,
   "metadata": {},
   "outputs": [
    {
     "data": {
      "text/html": [
       "<ol class=list-inline>\n",
       "\t<li>'unicredit'</li>\n",
       "\t<li>'is'</li>\n",
       "\t<li>'a'</li>\n",
       "\t<li>'pan'</li>\n",
       "\t<li>'european'</li>\n",
       "\t<li>'winner'</li>\n",
       "\t<li>'cib'</li>\n",
       "\t<li>'fully'</li>\n",
       "\t<li>'plugged'</li>\n",
       "\t<li>'into'</li>\n",
       "</ol>\n"
      ],
      "text/latex": [
       "\\begin{enumerate*}\n",
       "\\item 'unicredit'\n",
       "\\item 'is'\n",
       "\\item 'a'\n",
       "\\item 'pan'\n",
       "\\item 'european'\n",
       "\\item 'winner'\n",
       "\\item 'cib'\n",
       "\\item 'fully'\n",
       "\\item 'plugged'\n",
       "\\item 'into'\n",
       "\\end{enumerate*}\n"
      ],
      "text/markdown": [
       "1. 'unicredit'\n",
       "2. 'is'\n",
       "3. 'a'\n",
       "4. 'pan'\n",
       "5. 'european'\n",
       "6. 'winner'\n",
       "7. 'cib'\n",
       "8. 'fully'\n",
       "9. 'plugged'\n",
       "10. 'into'\n",
       "\n",
       "\n"
      ],
      "text/plain": [
       " [1] \"unicredit\" \"is\"        \"a\"         \"pan\"       \"european\"  \"winner\"   \n",
       " [7] \"cib\"       \"fully\"     \"plugged\"   \"into\"     "
      ]
     },
     "metadata": {},
     "output_type": "display_data"
    }
   ],
   "source": [
    "samples <- c(\"UniCredit is a pan European Winner\", \"CIB is fully plugged into UniCredit!\")\n",
    "tokenizer <- text_tokenizer() %>%\n",
    " fit_text_tokenizer(samples)\n",
    "\n",
    "tokenizer$word_counts %>% names"
   ]
  },
  {
   "cell_type": "markdown",
   "metadata": {},
   "source": [
    "The tokenizer found 10 different *words* in the input sentences. Note that the *tokenizer* makes also a normalization step: all the words (*tokens*) are lowercase and all the punctuaction marks have been removed. "
   ]
  },
  {
   "cell_type": "markdown",
   "metadata": {},
   "source": [
    "#### One-Hot encoding\n",
    "The next step require to to associate each *token* to a numeric vector, the more simple way to do this is called **One-Hot encoding**."
   ]
  },
  {
   "cell_type": "markdown",
   "metadata": {},
   "source": [
    "This encoding strategy first requires to associate a unique integer index id $H_w$ to each word $w$. In **KERAS** this is done directly by the *tokenizer*:"
   ]
  },
  {
   "cell_type": "code",
   "execution_count": 3,
   "metadata": {},
   "outputs": [
    {
     "data": {
      "text/html": [
       "<dl>\n",
       "\t<dt>$unicredit</dt>\n",
       "\t\t<dd>1</dd>\n",
       "\t<dt>$is</dt>\n",
       "\t\t<dd>2</dd>\n",
       "\t<dt>$a</dt>\n",
       "\t\t<dd>3</dd>\n",
       "\t<dt>$pan</dt>\n",
       "\t\t<dd>4</dd>\n",
       "\t<dt>$european</dt>\n",
       "\t\t<dd>5</dd>\n",
       "\t<dt>$winner</dt>\n",
       "\t\t<dd>6</dd>\n",
       "\t<dt>$cib</dt>\n",
       "\t\t<dd>7</dd>\n",
       "\t<dt>$fully</dt>\n",
       "\t\t<dd>8</dd>\n",
       "\t<dt>$plugged</dt>\n",
       "\t\t<dd>9</dd>\n",
       "\t<dt>$into</dt>\n",
       "\t\t<dd>10</dd>\n",
       "</dl>\n"
      ],
      "text/latex": [
       "\\begin{description}\n",
       "\\item[\\$unicredit] 1\n",
       "\\item[\\$is] 2\n",
       "\\item[\\$a] 3\n",
       "\\item[\\$pan] 4\n",
       "\\item[\\$european] 5\n",
       "\\item[\\$winner] 6\n",
       "\\item[\\$cib] 7\n",
       "\\item[\\$fully] 8\n",
       "\\item[\\$plugged] 9\n",
       "\\item[\\$into] 10\n",
       "\\end{description}\n"
      ],
      "text/markdown": [
       "$unicredit\n",
       ":   1\n",
       "$is\n",
       ":   2\n",
       "$a\n",
       ":   3\n",
       "$pan\n",
       ":   4\n",
       "$european\n",
       ":   5\n",
       "$winner\n",
       ":   6\n",
       "$cib\n",
       ":   7\n",
       "$fully\n",
       ":   8\n",
       "$plugged\n",
       ":   9\n",
       "$into\n",
       ":   10\n",
       "\n",
       "\n"
      ],
      "text/plain": [
       "$unicredit\n",
       "[1] 1\n",
       "\n",
       "$is\n",
       "[1] 2\n",
       "\n",
       "$a\n",
       "[1] 3\n",
       "\n",
       "$pan\n",
       "[1] 4\n",
       "\n",
       "$european\n",
       "[1] 5\n",
       "\n",
       "$winner\n",
       "[1] 6\n",
       "\n",
       "$cib\n",
       "[1] 7\n",
       "\n",
       "$fully\n",
       "[1] 8\n",
       "\n",
       "$plugged\n",
       "[1] 9\n",
       "\n",
       "$into\n",
       "[1] 10\n"
      ]
     },
     "metadata": {},
     "output_type": "display_data"
    }
   ],
   "source": [
    "tokenizer$word_index"
   ]
  },
  {
   "cell_type": "markdown",
   "metadata": {},
   "source": [
    "Then we need to transform our sample sentences into list of indices:"
   ]
  },
  {
   "cell_type": "code",
   "execution_count": 5,
   "metadata": {},
   "outputs": [
    {
     "data": {
      "text/html": [
       "'list'"
      ],
      "text/latex": [
       "'list'"
      ],
      "text/markdown": [
       "'list'"
      ],
      "text/plain": [
       "[1] \"list\""
      ]
     },
     "metadata": {},
     "output_type": "display_data"
    },
    {
     "data": {
      "text/html": [
       "2"
      ],
      "text/latex": [
       "2"
      ],
      "text/markdown": [
       "2"
      ],
      "text/plain": [
       "[1] 2"
      ]
     },
     "metadata": {},
     "output_type": "display_data"
    }
   ],
   "source": [
    "sequences <- texts_to_sequences(tokenizer, samples)\n",
    "class(sequences)\n",
    "length(sequences)"
   ]
  },
  {
   "cell_type": "markdown",
   "metadata": {},
   "source": [
    "The sequence associated with the first sentence, *UniCredit is a pan European Winner*, is:"
   ]
  },
  {
   "cell_type": "code",
   "execution_count": 6,
   "metadata": {},
   "outputs": [
    {
     "data": {
      "text/html": [
       "<ol class=list-inline>\n",
       "\t<li>1</li>\n",
       "\t<li>2</li>\n",
       "\t<li>3</li>\n",
       "\t<li>4</li>\n",
       "\t<li>5</li>\n",
       "\t<li>6</li>\n",
       "</ol>\n"
      ],
      "text/latex": [
       "\\begin{enumerate*}\n",
       "\\item 1\n",
       "\\item 2\n",
       "\\item 3\n",
       "\\item 4\n",
       "\\item 5\n",
       "\\item 6\n",
       "\\end{enumerate*}\n"
      ],
      "text/markdown": [
       "1. 1\n",
       "2. 2\n",
       "3. 3\n",
       "4. 4\n",
       "5. 5\n",
       "6. 6\n",
       "\n",
       "\n"
      ],
      "text/plain": [
       "[1] 1 2 3 4 5 6"
      ]
     },
     "metadata": {},
     "output_type": "display_data"
    }
   ],
   "source": [
    "sequences[[1]]"
   ]
  },
  {
   "cell_type": "markdown",
   "metadata": {},
   "source": [
    "The sequence associated with *CIB is fully plugged into UniCredit* is:"
   ]
  },
  {
   "cell_type": "code",
   "execution_count": 7,
   "metadata": {},
   "outputs": [
    {
     "data": {
      "text/html": [
       "<ol class=list-inline>\n",
       "\t<li>7</li>\n",
       "\t<li>2</li>\n",
       "\t<li>8</li>\n",
       "\t<li>9</li>\n",
       "\t<li>10</li>\n",
       "\t<li>1</li>\n",
       "</ol>\n"
      ],
      "text/latex": [
       "\\begin{enumerate*}\n",
       "\\item 7\n",
       "\\item 2\n",
       "\\item 8\n",
       "\\item 9\n",
       "\\item 10\n",
       "\\item 1\n",
       "\\end{enumerate*}\n"
      ],
      "text/markdown": [
       "1. 7\n",
       "2. 2\n",
       "3. 8\n",
       "4. 9\n",
       "5. 10\n",
       "6. 1\n",
       "\n",
       "\n"
      ],
      "text/plain": [
       "[1]  7  2  8  9 10  1"
      ]
     },
     "metadata": {},
     "output_type": "display_data"
    }
   ],
   "source": [
    "sequences[[2]]"
   ]
  },
  {
   "cell_type": "markdown",
   "metadata": {},
   "source": [
    "Note that the two words *UniCredit* (coded by **1**) and *is* (coded by **2**) are the only ones contained in both sentences, and as a consequence their codes are repeated in both sequences."
   ]
  },
  {
   "cell_type": "markdown",
   "metadata": {},
   "source": [
    "**Finally** we need to transform each number $H_w$ into a $N$-dimensional binary vector (where $N$ is the number of in unique tokens found by the tokenizer) such that the only not-zero component is the one corresponding to $H_w$. This final step is currently done by **KERAS** in a more smart way (as we'll see soon).  Here is a simple base *R* code to compute this final step:"
   ]
  },
  {
   "cell_type": "code",
   "execution_count": 8,
   "metadata": {},
   "outputs": [],
   "source": [
    "results <- array(0, dim = c(\n",
    "  length(sequences), # number of sentences\n",
    "  max(sapply(sequences, length)), # maximum number of words in a sentence\n",
    "  max(sapply(sequences, max)) # number of unique words in all sentences\n",
    "))\n",
    "\n",
    "for (i in 1:length(sequences)) {\n",
    "  sequence <- sequences[[i]]\n",
    "  for(h in 1:length(sequence)) {\n",
    "    results[i, h, sequence[h]] <- 1\n",
    "  }\n",
    "}"
   ]
  },
  {
   "cell_type": "markdown",
   "metadata": {},
   "source": [
    "The first sentences is **one-hot encoded** by:"
   ]
  },
  {
   "cell_type": "code",
   "execution_count": 9,
   "metadata": {},
   "outputs": [
    {
     "data": {
      "text/html": [
       "<table>\n",
       "<tbody>\n",
       "\t<tr><td>1</td><td>0</td><td>0</td><td>0</td><td>0</td><td>0</td><td>0</td><td>0</td><td>0</td><td>0</td></tr>\n",
       "\t<tr><td>0</td><td>1</td><td>0</td><td>0</td><td>0</td><td>0</td><td>0</td><td>0</td><td>0</td><td>0</td></tr>\n",
       "\t<tr><td>0</td><td>0</td><td>1</td><td>0</td><td>0</td><td>0</td><td>0</td><td>0</td><td>0</td><td>0</td></tr>\n",
       "\t<tr><td>0</td><td>0</td><td>0</td><td>1</td><td>0</td><td>0</td><td>0</td><td>0</td><td>0</td><td>0</td></tr>\n",
       "\t<tr><td>0</td><td>0</td><td>0</td><td>0</td><td>1</td><td>0</td><td>0</td><td>0</td><td>0</td><td>0</td></tr>\n",
       "\t<tr><td>0</td><td>0</td><td>0</td><td>0</td><td>0</td><td>1</td><td>0</td><td>0</td><td>0</td><td>0</td></tr>\n",
       "</tbody>\n",
       "</table>\n"
      ],
      "text/latex": [
       "\\begin{tabular}{llllllllll}\n",
       "\t 1 & 0 & 0 & 0 & 0 & 0 & 0 & 0 & 0 & 0\\\\\n",
       "\t 0 & 1 & 0 & 0 & 0 & 0 & 0 & 0 & 0 & 0\\\\\n",
       "\t 0 & 0 & 1 & 0 & 0 & 0 & 0 & 0 & 0 & 0\\\\\n",
       "\t 0 & 0 & 0 & 1 & 0 & 0 & 0 & 0 & 0 & 0\\\\\n",
       "\t 0 & 0 & 0 & 0 & 1 & 0 & 0 & 0 & 0 & 0\\\\\n",
       "\t 0 & 0 & 0 & 0 & 0 & 1 & 0 & 0 & 0 & 0\\\\\n",
       "\\end{tabular}\n"
      ],
      "text/markdown": [
       "\n",
       "| 1 | 0 | 0 | 0 | 0 | 0 | 0 | 0 | 0 | 0 | \n",
       "| 0 | 1 | 0 | 0 | 0 | 0 | 0 | 0 | 0 | 0 | \n",
       "| 0 | 0 | 1 | 0 | 0 | 0 | 0 | 0 | 0 | 0 | \n",
       "| 0 | 0 | 0 | 1 | 0 | 0 | 0 | 0 | 0 | 0 | \n",
       "| 0 | 0 | 0 | 0 | 1 | 0 | 0 | 0 | 0 | 0 | \n",
       "| 0 | 0 | 0 | 0 | 0 | 1 | 0 | 0 | 0 | 0 | \n",
       "\n",
       "\n"
      ],
      "text/plain": [
       "     [,1] [,2] [,3] [,4] [,5] [,6] [,7] [,8] [,9] [,10]\n",
       "[1,] 1    0    0    0    0    0    0    0    0    0    \n",
       "[2,] 0    1    0    0    0    0    0    0    0    0    \n",
       "[3,] 0    0    1    0    0    0    0    0    0    0    \n",
       "[4,] 0    0    0    1    0    0    0    0    0    0    \n",
       "[5,] 0    0    0    0    1    0    0    0    0    0    \n",
       "[6,] 0    0    0    0    0    1    0    0    0    0    "
      ]
     },
     "metadata": {},
     "output_type": "display_data"
    }
   ],
   "source": [
    "results[1,,]"
   ]
  },
  {
   "cell_type": "markdown",
   "metadata": {},
   "source": [
    "And the second one by:"
   ]
  },
  {
   "cell_type": "code",
   "execution_count": 10,
   "metadata": {},
   "outputs": [
    {
     "data": {
      "text/html": [
       "<table>\n",
       "<tbody>\n",
       "\t<tr><td>0</td><td>0</td><td>0</td><td>0</td><td>0</td><td>0</td><td>1</td><td>0</td><td>0</td><td>0</td></tr>\n",
       "\t<tr><td>0</td><td>1</td><td>0</td><td>0</td><td>0</td><td>0</td><td>0</td><td>0</td><td>0</td><td>0</td></tr>\n",
       "\t<tr><td>0</td><td>0</td><td>0</td><td>0</td><td>0</td><td>0</td><td>0</td><td>1</td><td>0</td><td>0</td></tr>\n",
       "\t<tr><td>0</td><td>0</td><td>0</td><td>0</td><td>0</td><td>0</td><td>0</td><td>0</td><td>1</td><td>0</td></tr>\n",
       "\t<tr><td>0</td><td>0</td><td>0</td><td>0</td><td>0</td><td>0</td><td>0</td><td>0</td><td>0</td><td>1</td></tr>\n",
       "\t<tr><td>1</td><td>0</td><td>0</td><td>0</td><td>0</td><td>0</td><td>0</td><td>0</td><td>0</td><td>0</td></tr>\n",
       "</tbody>\n",
       "</table>\n"
      ],
      "text/latex": [
       "\\begin{tabular}{llllllllll}\n",
       "\t 0 & 0 & 0 & 0 & 0 & 0 & 1 & 0 & 0 & 0\\\\\n",
       "\t 0 & 1 & 0 & 0 & 0 & 0 & 0 & 0 & 0 & 0\\\\\n",
       "\t 0 & 0 & 0 & 0 & 0 & 0 & 0 & 1 & 0 & 0\\\\\n",
       "\t 0 & 0 & 0 & 0 & 0 & 0 & 0 & 0 & 1 & 0\\\\\n",
       "\t 0 & 0 & 0 & 0 & 0 & 0 & 0 & 0 & 0 & 1\\\\\n",
       "\t 1 & 0 & 0 & 0 & 0 & 0 & 0 & 0 & 0 & 0\\\\\n",
       "\\end{tabular}\n"
      ],
      "text/markdown": [
       "\n",
       "| 0 | 0 | 0 | 0 | 0 | 0 | 1 | 0 | 0 | 0 | \n",
       "| 0 | 1 | 0 | 0 | 0 | 0 | 0 | 0 | 0 | 0 | \n",
       "| 0 | 0 | 0 | 0 | 0 | 0 | 0 | 1 | 0 | 0 | \n",
       "| 0 | 0 | 0 | 0 | 0 | 0 | 0 | 0 | 1 | 0 | \n",
       "| 0 | 0 | 0 | 0 | 0 | 0 | 0 | 0 | 0 | 1 | \n",
       "| 1 | 0 | 0 | 0 | 0 | 0 | 0 | 0 | 0 | 0 | \n",
       "\n",
       "\n"
      ],
      "text/plain": [
       "     [,1] [,2] [,3] [,4] [,5] [,6] [,7] [,8] [,9] [,10]\n",
       "[1,] 0    0    0    0    0    0    1    0    0    0    \n",
       "[2,] 0    1    0    0    0    0    0    0    0    0    \n",
       "[3,] 0    0    0    0    0    0    0    1    0    0    \n",
       "[4,] 0    0    0    0    0    0    0    0    1    0    \n",
       "[5,] 0    0    0    0    0    0    0    0    0    1    \n",
       "[6,] 1    0    0    0    0    0    0    0    0    0    "
      ]
     },
     "metadata": {},
     "output_type": "display_data"
    }
   ],
   "source": [
    "results[2,,]"
   ]
  },
  {
   "cell_type": "markdown",
   "metadata": {},
   "source": [
    "#### Words Embedding"
   ]
  },
  {
   "cell_type": "markdown",
   "metadata": {},
   "source": [
    "One-hot encoding is very simple and immediate but have a great disadvantage: the dimension of the vector it produces increases with $N$, the size of the considered vocabulary. Is not **BIG DATA** working with a vocabulary with thousands of words: in these cases we need a more **dense representation**.\n",
    "\n",
    "The idea behind **words embedding** is to reduce the dimensionality of the binary sparse vectors produced by the **one-hot encoding** in to a more compact space of **numeric vectors**:\n",
    "\n",
    "<img src=\"fig/words_embedding.PNG\" width=\"400\">"
   ]
  },
  {
   "cell_type": "markdown",
   "metadata": {},
   "source": [
    "This mapping should preserve some semantic structure of the vocabulary it represents, in some way the geometric relationships between the embedded vectors should reflect the semantic relationships between the corresponding words. \n",
    "\n",
    "Otherwise, if we'd use a random mapping between words and numeric vector, any **neural network** couldn't be very effective since two words with a similar meanings like *handsome* and *attractive* could be mapped into very different vectors:  word embeddings are meant to\n",
    "map human language into a geometric space (i.e. similar words should be \"near\"):\n",
    "\n",
    "<img src=\"fig/words_plot.PNG\" width=\"400\">\n",
    "\n",
    "How to find this type of mapping? There are mainly two ways:\n",
    "* Use one of the words embedding mapping already computed by other people, like the [Word2Vec](http://code.google.com/archive/p/word2vec) or the [Global Vectors for Word Representation](https://nlp.stanford.edu/projects/glove/)\n",
    "* Learn the right embedding for your task while learning the rest of your model. "
   ]
  },
  {
   "cell_type": "markdown",
   "metadata": {},
   "source": [
    "#### Words embedding on IMDB dataset"
   ]
  },
  {
   "cell_type": "markdown",
   "metadata": {},
   "source": [
    "In this notebook we'll see only how to find the right embedding while solving a text oriented task. But first we need a task!\n",
    "\n",
    "Here we consider the [Internet Movie DataBase (IMDB)](https://www.imdb.com/) sentiment analysis dataset:"
   ]
  },
  {
   "cell_type": "code",
   "execution_count": 7,
   "metadata": {},
   "outputs": [],
   "source": [
    "max_features <- 10000\n",
    "\n",
    "imdb <- dataset_imdb(num_words = max_features)\n",
    "x_train <- imdb$train$x\n",
    "y_train <- imdb$train$y\n",
    "x_test <- imdb$test$x\n",
    "y_test <- imdb$test$y"
   ]
  },
  {
   "cell_type": "markdown",
   "metadata": {},
   "source": [
    "This dataset is a sample dataset provided by **KERAS** and as a consequence has been already preprocessed:"
   ]
  },
  {
   "cell_type": "code",
   "execution_count": 12,
   "metadata": {},
   "outputs": [
    {
     "data": {
      "text/html": [
       "'list'"
      ],
      "text/latex": [
       "'list'"
      ],
      "text/markdown": [
       "'list'"
      ],
      "text/plain": [
       "[1] \"list\""
      ]
     },
     "metadata": {},
     "output_type": "display_data"
    },
    {
     "data": {
      "text/html": [
       "25000"
      ],
      "text/latex": [
       "25000"
      ],
      "text/markdown": [
       "25000"
      ],
      "text/plain": [
       "[1] 25000"
      ]
     },
     "metadata": {},
     "output_type": "display_data"
    },
    {
     "data": {
      "text/html": [
       "<ol class=list-inline>\n",
       "\t<li>1</li>\n",
       "\t<li>14</li>\n",
       "\t<li>22</li>\n",
       "\t<li>16</li>\n",
       "\t<li>43</li>\n",
       "</ol>\n"
      ],
      "text/latex": [
       "\\begin{enumerate*}\n",
       "\\item 1\n",
       "\\item 14\n",
       "\\item 22\n",
       "\\item 16\n",
       "\\item 43\n",
       "\\end{enumerate*}\n"
      ],
      "text/markdown": [
       "1. 1\n",
       "2. 14\n",
       "3. 22\n",
       "4. 16\n",
       "5. 43\n",
       "\n",
       "\n"
      ],
      "text/plain": [
       "[1]  1 14 22 16 43"
      ]
     },
     "metadata": {},
     "output_type": "display_data"
    },
    {
     "data": {
      "text/html": [
       "1"
      ],
      "text/latex": [
       "1"
      ],
      "text/markdown": [
       "1"
      ],
      "text/plain": [
       "[1] 1"
      ]
     },
     "metadata": {},
     "output_type": "display_data"
    }
   ],
   "source": [
    "x_train %>% class\n",
    "x_train %>% length\n",
    "x_train[[1]] %>% head(n = 5)\n",
    "y_train[1]"
   ]
  },
  {
   "cell_type": "markdown",
   "metadata": {},
   "source": [
    "The input features are the indexes associated with the words in a movie review, in the target binary class we have an indicator telling if the review is positive (1) or negative (0). Note that parameter *num_words* set to 10000 limits the considered dictionary to the 10000 words with the highest frequency in the IMDB reviews corpus. Using function **dataset_imdb_word_index** we can retrieve the original content of the review:"
   ]
  },
  {
   "cell_type": "code",
   "execution_count": 9,
   "metadata": {},
   "outputs": [
    {
     "data": {
      "text/html": [
       "'&lt;START&gt; this film was just brilliant casting location scenery story direction everyone\\'s really suited the part they played and you could just imagine being there robert &lt;UNK&gt; is an amazing actor and now the same being director &lt;UNK&gt; father came from the same scottish island as myself so i loved the fact there was a real connection with this film the witty remarks throughout the film were great it was just brilliant so much that i bought the film as soon as it was released for &lt;UNK&gt; and would recommend it to everyone to watch and the fly fishing was amazing really cried at the end it was so sad and you know what they say if you cry at a film it must have been good and this definitely was also &lt;UNK&gt; to the two little boy\\'s that played the &lt;UNK&gt; of norman and paul they were just brilliant children are often left out of the &lt;UNK&gt; list i think because the stars that play them all grown up are such a big profile for the whole film but these children are amazing and should be praised for what they have done don\\'t you think the whole story was so lovely because it was true and was someone\\'s life after all that was shared with us all'"
      ],
      "text/latex": [
       "'<START> this film was just brilliant casting location scenery story direction everyone\\textbackslash{}'s really suited the part they played and you could just imagine being there robert <UNK> is an amazing actor and now the same being director <UNK> father came from the same scottish island as myself so i loved the fact there was a real connection with this film the witty remarks throughout the film were great it was just brilliant so much that i bought the film as soon as it was released for <UNK> and would recommend it to everyone to watch and the fly fishing was amazing really cried at the end it was so sad and you know what they say if you cry at a film it must have been good and this definitely was also <UNK> to the two little boy\\textbackslash{}'s that played the <UNK> of norman and paul they were just brilliant children are often left out of the <UNK> list i think because the stars that play them all grown up are such a big profile for the whole film but these children are amazing and should be praised for what they have done don\\textbackslash{}'t you think the whole story was so lovely because it was true and was someone\\textbackslash{}'s life after all that was shared with us all'"
      ],
      "text/markdown": [
       "'&lt;START&gt; this film was just brilliant casting location scenery story direction everyone\\'s really suited the part they played and you could just imagine being there robert &lt;UNK&gt; is an amazing actor and now the same being director &lt;UNK&gt; father came from the same scottish island as myself so i loved the fact there was a real connection with this film the witty remarks throughout the film were great it was just brilliant so much that i bought the film as soon as it was released for &lt;UNK&gt; and would recommend it to everyone to watch and the fly fishing was amazing really cried at the end it was so sad and you know what they say if you cry at a film it must have been good and this definitely was also &lt;UNK&gt; to the two little boy\\'s that played the &lt;UNK&gt; of norman and paul they were just brilliant children are often left out of the &lt;UNK&gt; list i think because the stars that play them all grown up are such a big profile for the whole film but these children are amazing and should be praised for what they have done don\\'t you think the whole story was so lovely because it was true and was someone\\'s life after all that was shared with us all'"
      ],
      "text/plain": [
       "[1] \"<START> this film was just brilliant casting location scenery story direction everyone's really suited the part they played and you could just imagine being there robert <UNK> is an amazing actor and now the same being director <UNK> father came from the same scottish island as myself so i loved the fact there was a real connection with this film the witty remarks throughout the film were great it was just brilliant so much that i bought the film as soon as it was released for <UNK> and would recommend it to everyone to watch and the fly fishing was amazing really cried at the end it was so sad and you know what they say if you cry at a film it must have been good and this definitely was also <UNK> to the two little boy's that played the <UNK> of norman and paul they were just brilliant children are often left out of the <UNK> list i think because the stars that play them all grown up are such a big profile for the whole film but these children are amazing and should be praised for what they have done don't you think the whole story was so lovely because it was true and was someone's life after all that was shared with us all\""
      ]
     },
     "metadata": {},
     "output_type": "display_data"
    },
    {
     "data": {
      "text/html": [
       "'Positive'"
      ],
      "text/latex": [
       "'Positive'"
      ],
      "text/markdown": [
       "'Positive'"
      ],
      "text/plain": [
       "[1] \"Positive\""
      ]
     },
     "metadata": {},
     "output_type": "display_data"
    },
    {
     "data": {
      "text/plain": [
       "y_train\n",
       "    0     1 \n",
       "12500 12500 "
      ]
     },
     "metadata": {},
     "output_type": "display_data"
    }
   ],
   "source": [
    "index_step <- 3  # word index offset\n",
    "data <- dataset_imdb_word_index()\n",
    "mapping_df <- data_frame(\n",
    "  word = names(data),\n",
    "  index = data %>% sapply(function(x)x[[1]]) + index_step\n",
    ") %>% rbind(\n",
    "  data_frame(\n",
    "    word = c(\"<PAD>\", \"<START>\",\"<UNK>\"),\n",
    "    index = 0:2\n",
    "  )\n",
    ")\n",
    "\n",
    "x_train[[1]] %>% sapply(function(x) mapping_df %>% filter(index == x) %>% pull(word)) %>% paste(collapse = \" \")\n",
    "ifelse(y_train[1] == 1, \"Positive\", \"Negative\")\n",
    "table(y_train)"
   ]
  },
  {
   "cell_type": "markdown",
   "metadata": {},
   "source": [
    "This review is a **positive** one, the grammar is not perfect because we are removing from each review the words that don't belong to the 10000 most frequent ones in the IMDB review corpus. Note that we are using a balanced training dataset! (and we are going to use accuracy to assess its performance!)\n",
    "\n",
    "To further simplify the input dataset we consider only the first 20 words of each review: this simplification is done by function **pad_sequences** that also transform our sequences in matrix (or tensor) with one row for each review and one column for each word in the review. If the review has less than 20 words **pad_sequences** complete the sequence with the magic word < PAD >:"
   ]
  },
  {
   "cell_type": "code",
   "execution_count": 14,
   "metadata": {},
   "outputs": [
    {
     "data": {
      "text/html": [
       "'list'"
      ],
      "text/latex": [
       "'list'"
      ],
      "text/markdown": [
       "'list'"
      ],
      "text/plain": [
       "[1] \"list\""
      ]
     },
     "metadata": {},
     "output_type": "display_data"
    },
    {
     "data": {
      "text/plain": [
       "NULL"
      ]
     },
     "metadata": {},
     "output_type": "display_data"
    },
    {
     "data": {
      "text/html": [
       "'&lt;START&gt; this film was just brilliant casting location scenery story direction everyone\\'s really suited the part they played and you'"
      ],
      "text/latex": [
       "'<START> this film was just brilliant casting location scenery story direction everyone\\textbackslash{}'s really suited the part they played and you'"
      ],
      "text/markdown": [
       "'&lt;START&gt; this film was just brilliant casting location scenery story direction everyone\\'s really suited the part they played and you'"
      ],
      "text/plain": [
       "[1] \"<START> this film was just brilliant casting location scenery story direction everyone's really suited the part they played and you\""
      ]
     },
     "metadata": {},
     "output_type": "display_data"
    }
   ],
   "source": [
    "maxlen <- 20\n",
    "mtx_train <- pad_sequences(x_train, maxlen = maxlen, truncating = \"post\", padding = \"post\")\n",
    "mtx_test <- pad_sequences(x_test, maxlen = maxlen, truncating = \"post\", padding = \"post\")\n",
    "class(x_train)\n",
    "dim(x_train)\n",
    "mtx_train[1,] %>% sapply(function(x) mapping_df %>% filter(index == x) %>% pull(word)) %>% paste(collapse = \" \")                   "
   ]
  },
  {
   "cell_type": "markdown",
   "metadata": {},
   "source": [
    "Now we are ready to learn our embedding while training a neural network on the imdb dataset:"
   ]
  },
  {
   "cell_type": "code",
   "execution_count": 21,
   "metadata": {},
   "outputs": [
    {
     "name": "stdout",
     "output_type": "stream",
     "text": [
      "________________________________________________________________________________\n",
      "Layer (type)                        Output Shape                    Param #     \n",
      "================================================================================\n",
      "embedding_4 (Embedding)             (None, 20, 8)                   80000       \n",
      "________________________________________________________________________________\n",
      "flatten_2 (Flatten)                 (None, 160)                     0           \n",
      "________________________________________________________________________________\n",
      "dense_4 (Dense)                     (None, 1)                       161         \n",
      "================================================================================\n",
      "Total params: 80,161\n",
      "Trainable params: 80,161\n",
      "Non-trainable params: 0\n",
      "________________________________________________________________________________\n"
     ]
    }
   ],
   "source": [
    "model <- keras_model_sequential() %>%\n",
    "  layer_embedding(input_dim = max_features, output_dim = 8, input_length = maxlen) %>%\n",
    "  layer_flatten() %>%\n",
    "  layer_dense(units = 1, activation = \"sigmoid\")\n",
    "model %>% compile(\n",
    "  optimizer = \"rmsprop\",\n",
    "  loss = \"binary_crossentropy\",\n",
    "  metrics = c(\"acc\")\n",
    ")\n",
    "summary(model)\n",
    "history <- model %>% fit(\n",
    "  mtx_train, y_train,\n",
    "  epochs = 10,\n",
    "  batch_size = 32,\n",
    "  validation_split = 0.2\n",
    ")"
   ]
  },
  {
   "cell_type": "markdown",
   "metadata": {},
   "source": [
    "Here all the magic is done by the **layer_embedding** it takes in input our sequences of 20 *hot-encoded* words (i.e. a 10000-diimensional binary vector) and embeds each word into a 8-dimensional numeric vector: as a consequences this layer has (8 X 10000) parameters. After the **layer_embedding** we remove the bidimensional structure (20 X 8) of the data by stacking them into a 160-dimensional numeric vector. Finally we feed them to a standard classification layer.\n",
    "\n",
    "Let's see the performance of this network:"
   ]
  },
  {
   "cell_type": "code",
   "execution_count": 16,
   "metadata": {},
   "outputs": [
    {
     "data": {},
     "metadata": {},
     "output_type": "display_data"
    },
    {
     "data": {
      "image/png": "[encoded data removed]",
      "text/plain": [
       "plot without title"
      ]
     },
     "metadata": {},
     "output_type": "display_data"
    }
   ],
   "source": [
    "plot(history)"
   ]
  },
  {
   "cell_type": "code",
   "execution_count": 17,
   "metadata": {},
   "outputs": [
    {
     "data": {
      "text/html": [
       "<ol class=list-inline>\n",
       "\t<li>0.6732</li>\n",
       "\t<li>0.7032</li>\n",
       "\t<li>0.711</li>\n",
       "\t<li>0.7102</li>\n",
       "\t<li>0.705</li>\n",
       "\t<li>0.706</li>\n",
       "\t<li>0.7022</li>\n",
       "\t<li>0.6944</li>\n",
       "\t<li>0.6894</li>\n",
       "\t<li>0.6808</li>\n",
       "</ol>\n"
      ],
      "text/latex": [
       "\\begin{enumerate*}\n",
       "\\item 0.6732\n",
       "\\item 0.7032\n",
       "\\item 0.711\n",
       "\\item 0.7102\n",
       "\\item 0.705\n",
       "\\item 0.706\n",
       "\\item 0.7022\n",
       "\\item 0.6944\n",
       "\\item 0.6894\n",
       "\\item 0.6808\n",
       "\\end{enumerate*}\n"
      ],
      "text/markdown": [
       "1. 0.6732\n",
       "2. 0.7032\n",
       "3. 0.711\n",
       "4. 0.7102\n",
       "5. 0.705\n",
       "6. 0.706\n",
       "7. 0.7022\n",
       "8. 0.6944\n",
       "9. 0.6894\n",
       "10. 0.6808\n",
       "\n",
       "\n"
      ],
      "text/plain": [
       " [1] 0.6732 0.7032 0.7110 0.7102 0.7050 0.7060 0.7022 0.6944 0.6894 0.6808"
      ]
     },
     "metadata": {},
     "output_type": "display_data"
    }
   ],
   "source": [
    "history$metrics$val_acc"
   ]
  },
  {
   "cell_type": "markdown",
   "metadata": {},
   "source": [
    "An **accuracy** around 70% is not too bad considering we are using only 20 words for each review. Moreover the networks which we have seen so far do not takes into account the order of words and this order often contains important information for a text classification task.\n",
    "\n",
    "Let's see how the embedding works by extracting the partial output of the network on the first two test reviews:"
   ]
  },
  {
   "cell_type": "code",
   "execution_count": 53,
   "metadata": {},
   "outputs": [
    {
     "data": {
      "text/html": [
       "'array'"
      ],
      "text/latex": [
       "'array'"
      ],
      "text/markdown": [
       "'array'"
      ],
      "text/plain": [
       "[1] \"array\""
      ]
     },
     "metadata": {},
     "output_type": "display_data"
    },
    {
     "data": {
      "text/html": [
       "<ol class=list-inline>\n",
       "\t<li>2</li>\n",
       "\t<li>20</li>\n",
       "\t<li>8</li>\n",
       "</ol>\n"
      ],
      "text/latex": [
       "\\begin{enumerate*}\n",
       "\\item 2\n",
       "\\item 20\n",
       "\\item 8\n",
       "\\end{enumerate*}\n"
      ],
      "text/markdown": [
       "1. 2\n",
       "2. 20\n",
       "3. 8\n",
       "\n",
       "\n"
      ],
      "text/plain": [
       "[1]  2 20  8"
      ]
     },
     "metadata": {},
     "output_type": "display_data"
    }
   ],
   "source": [
    "embedding_layer_name <- model$layers[[1]]$name\n",
    "intermediate_layer_model <- keras_model(inputs = model$input,\n",
    "                                        outputs = get_layer(model, embedding_layer_name)$output)\n",
    "\n",
    "pred <- mtx_test[1:2,] %>% predict(intermediate_layer_model, .)\n",
    "\n",
    "pred %>% class\n",
    "pred %>% dim"
   ]
  },
  {
   "cell_type": "markdown",
   "metadata": {},
   "source": [
    "The first two words of each review are:"
   ]
  },
  {
   "cell_type": "code",
   "execution_count": 58,
   "metadata": {},
   "outputs": [
    {
     "data": {
      "text/html": [
       "'&lt;START&gt; please give'"
      ],
      "text/latex": [
       "'<START> please give'"
      ],
      "text/markdown": [
       "'&lt;START&gt; please give'"
      ],
      "text/plain": [
       "[1] \"<START> please give\""
      ]
     },
     "metadata": {},
     "output_type": "display_data"
    },
    {
     "data": {
      "text/html": [
       "'&lt;START&gt; this film'"
      ],
      "text/latex": [
       "'<START> this film'"
      ],
      "text/markdown": [
       "'&lt;START&gt; this film'"
      ],
      "text/plain": [
       "[1] \"<START> this film\""
      ]
     },
     "metadata": {},
     "output_type": "display_data"
    }
   ],
   "source": [
    "mtx_test[1, 1:3] %>% sapply(function(x) mapping_df %>% filter(index == x) %>% pull(word)) %>% paste(collapse = \" \") \n",
    "mtx_test[2, 1:3] %>% sapply(function(x) mapping_df %>% filter(index == x) %>% pull(word)) %>% paste(collapse = \" \") "
   ]
  },
  {
   "cell_type": "markdown",
   "metadata": {},
   "source": [
    "Words *give* and *film* are respectively embedded in vectors:"
   ]
  },
  {
   "cell_type": "code",
   "execution_count": 60,
   "metadata": {},
   "outputs": [
    {
     "data": {
      "text/html": [
       "<ol class=list-inline>\n",
       "\t<li>0.408642649650574</li>\n",
       "\t<li>-0.360232323408127</li>\n",
       "\t<li>0.381942182779312</li>\n",
       "\t<li>-0.34835746884346</li>\n",
       "\t<li>0.114029869437218</li>\n",
       "\t<li>0.0238661095499992</li>\n",
       "\t<li>0.0243303719907999</li>\n",
       "\t<li>0.215956971049309</li>\n",
       "</ol>\n"
      ],
      "text/latex": [
       "\\begin{enumerate*}\n",
       "\\item 0.408642649650574\n",
       "\\item -0.360232323408127\n",
       "\\item 0.381942182779312\n",
       "\\item -0.34835746884346\n",
       "\\item 0.114029869437218\n",
       "\\item 0.0238661095499992\n",
       "\\item 0.0243303719907999\n",
       "\\item 0.215956971049309\n",
       "\\end{enumerate*}\n"
      ],
      "text/markdown": [
       "1. 0.408642649650574\n",
       "2. -0.360232323408127\n",
       "3. 0.381942182779312\n",
       "4. -0.34835746884346\n",
       "5. 0.114029869437218\n",
       "6. 0.0238661095499992\n",
       "7. 0.0243303719907999\n",
       "8. 0.215956971049309\n",
       "\n",
       "\n"
      ],
      "text/plain": [
       "[1]  0.40864265 -0.36023232  0.38194218 -0.34835747  0.11402987  0.02386611\n",
       "[7]  0.02433037  0.21595697"
      ]
     },
     "metadata": {},
     "output_type": "display_data"
    },
    {
     "data": {
      "text/html": [
       "<ol class=list-inline>\n",
       "\t<li>-0.0831379964947701</li>\n",
       "\t<li>-0.0105152847245336</li>\n",
       "\t<li>0.0675807818770409</li>\n",
       "\t<li>-0.0476522371172905</li>\n",
       "\t<li>0.0397259928286076</li>\n",
       "\t<li>-0.0381452701985836</li>\n",
       "\t<li>0.155477046966553</li>\n",
       "\t<li>-0.0162332933396101</li>\n",
       "</ol>\n"
      ],
      "text/latex": [
       "\\begin{enumerate*}\n",
       "\\item -0.0831379964947701\n",
       "\\item -0.0105152847245336\n",
       "\\item 0.0675807818770409\n",
       "\\item -0.0476522371172905\n",
       "\\item 0.0397259928286076\n",
       "\\item -0.0381452701985836\n",
       "\\item 0.155477046966553\n",
       "\\item -0.0162332933396101\n",
       "\\end{enumerate*}\n"
      ],
      "text/markdown": [
       "1. -0.0831379964947701\n",
       "2. -0.0105152847245336\n",
       "3. 0.0675807818770409\n",
       "4. -0.0476522371172905\n",
       "5. 0.0397259928286076\n",
       "6. -0.0381452701985836\n",
       "7. 0.155477046966553\n",
       "8. -0.0162332933396101\n",
       "\n",
       "\n"
      ],
      "text/plain": [
       "[1] -0.08313800 -0.01051528  0.06758078 -0.04765224  0.03972599 -0.03814527\n",
       "[7]  0.15547705 -0.01623329"
      ]
     },
     "metadata": {},
     "output_type": "display_data"
    }
   ],
   "source": [
    "pred[1,2,]\n",
    "pred[2,3,]"
   ]
  },
  {
   "cell_type": "markdown",
   "metadata": {},
   "source": [
    "### Recurring Neural Networks"
   ]
  },
  {
   "cell_type": "markdown",
   "metadata": {},
   "source": [
    "So far we have seen networks that are called **feed forward networks** in which the data flows in only one direction: from input towards output. This type of **network** cannot model directly sequence data: in order to pass the IMBD review to the final classification layer we had to pack a whole review into a single vector (dimension #words x #embedding_vector_size = 160).\n",
    "\n",
    "However when we process a sequence (or a sentence) we process it step by step (or words by words), remembering the words we read (and eventually the decisions we made) in the past.\n",
    "\n",
    "**A Recurrent Neural Network** tries to mimic this type of learning process by introducing a **LOOP** in the network:\n",
    "\n",
    "<img src=\"fig/RNN.png\" width=\"400\">"
   ]
  },
  {
   "cell_type": "markdown",
   "metadata": {},
   "source": [
    "A **RNN** processes a sequence *step by step* maintaining a **state** related to the piece of sequence it has seen so far. How does it do that? By feeding in input to the node at step **T** a *state* computed as the *output* produced by the **RNN** node at step **T-1**\n",
    "\n",
    "<img src=\"fig/rnn_unrolled.png\" width=\"800\">\n",
    "\n",
    "Note that the state is initialized at zero at the beginning of each sequence."
   ]
  },
  {
   "cell_type": "markdown",
   "metadata": {},
   "source": [
    "To use them in **KERAS** we just need to insert in our network a **layer_simple_rnn**. Let's see how this works on the **IMDB** dataset:"
   ]
  },
  {
   "cell_type": "code",
   "execution_count": 29,
   "metadata": {},
   "outputs": [],
   "source": [
    "model <- keras_model_sequential() %>%\n",
    "    layer_embedding(input_dim = max_features, output_dim = 8) %>%\n",
    "    layer_simple_rnn(units = 8) %>%\n",
    "    layer_dense(units = 1, activation = \"sigmoid\")\n",
    "    model %>% compile(\n",
    "    optimizer = \"rmsprop\",\n",
    "    loss = \"binary_crossentropy\",\n",
    "    metrics = c(\"acc\")\n",
    ")\n",
    "\n",
    "history <- model %>% fit(\n",
    "    mtx_train, y_train,\n",
    "    epochs = 10,\n",
    "    batch_size = 32,\n",
    "    validation_split = 0.2\n",
    ")"
   ]
  },
  {
   "cell_type": "code",
   "execution_count": 33,
   "metadata": {},
   "outputs": [
    {
     "data": {},
     "metadata": {},
     "output_type": "display_data"
    },
    {
     "data": {
      "text/html": [
       "0.71"
      ],
      "text/latex": [
       "0.71"
      ],
      "text/markdown": [
       "0.71"
      ],
      "text/plain": [
       "[1] 0.71"
      ]
     },
     "metadata": {},
     "output_type": "display_data"
    },
    {
     "data": {
      "image/png": "[encoded data removed]",
      "text/plain": [
       "plot without title"
      ]
     },
     "metadata": {},
     "output_type": "display_data"
    }
   ],
   "source": [
    "plot(history)\n",
    "history$metrics$val_acc %>% max"
   ]
  },
  {
   "cell_type": "markdown",
   "metadata": {},
   "source": [
    "Ooops...what's going on? It arrives at a 71% accuracy and then it deteriorates. why? The *simple recurring network* are too much simple: although it should theoretically be able to retain at time **T** all the information associated with data seen many timesteps before, in practice, such long-term dependencies are impossible to learn due to a mathematical problem call the *vanishing (or exploding) gradient problem*."
   ]
  },
  {
   "cell_type": "markdown",
   "metadata": {},
   "source": [
    "### Long Short Term Memory (LSTM)\n",
    "The LSTM network is a way to overcome the difficulties caused by the *vanishing gradient problem* in the training of the simple *RNN* network\n",
    "\n",
    "<img src=\"fig/lstm_unrolled.png\" width=\"800\">"
   ]
  },
  {
   "cell_type": "markdown",
   "metadata": {},
   "source": [
    "Simple enough, w.r.t. to the simple RNN, **LSTM** adds a **Carry Track** that should help to transfer the information from the previous steps to the current steps. The information carried in this track is then used in the *output* activation function.\n",
    "\n",
    "The complexity is hidden in the way in which the *carry* is computed. It involves three distinct transformations similar to the one computed to generate  the output in the simple RNN network.\n",
    "\n",
    "*y = activation(dot(state_t, U) + dot(input_t, W) + b)*\n",
    "\n",
    "But all three transformations have their own weight matrices *U*, *W* and *b*. The results of this transformation are used, along with the carry at time **T - 1**, to compute carry at time **T**. Abstractly these three transformations should mimic our *Long* and *Short* memory: but we are not neither *Daniel Kahneman* neither *Jürgen Schmidhuber*! \n",
    "\n",
    "So let's see how **LSTM** works on the IMDB problem using the **layer_lstm_network**:"
   ]
  },
  {
   "cell_type": "code",
   "execution_count": 35,
   "metadata": {},
   "outputs": [],
   "source": [
    "model <- keras_model_sequential() %>%\n",
    "    layer_embedding(input_dim = max_features, output_dim = 8) %>%\n",
    "    layer_lstm(units = 8) %>%\n",
    "    layer_dense(units = 1, activation = \"sigmoid\")\n",
    "    model %>% compile(\n",
    "    optimizer = \"rmsprop\",\n",
    "    loss = \"binary_crossentropy\",\n",
    "    metrics = c(\"acc\")\n",
    ")\n",
    "\n",
    "history <- model %>% fit(\n",
    "    mtx_train, y_train,\n",
    "    epochs = 10,\n",
    "    batch_size = 32,\n",
    "    validation_split = 0.2\n",
    ")"
   ]
  },
  {
   "cell_type": "code",
   "execution_count": 38,
   "metadata": {},
   "outputs": [
    {
     "data": {},
     "metadata": {},
     "output_type": "display_data"
    },
    {
     "data": {
      "text/html": [
       "<ol class=list-inline>\n",
       "\t<li>0.6848</li>\n",
       "\t<li>0.7072</li>\n",
       "\t<li>0.7172</li>\n",
       "\t<li>0.7158</li>\n",
       "\t<li>0.7144</li>\n",
       "\t<li>0.7182</li>\n",
       "\t<li>0.7158</li>\n",
       "\t<li>0.712</li>\n",
       "\t<li>0.7102</li>\n",
       "\t<li>0.7088</li>\n",
       "</ol>\n"
      ],
      "text/latex": [
       "\\begin{enumerate*}\n",
       "\\item 0.6848\n",
       "\\item 0.7072\n",
       "\\item 0.7172\n",
       "\\item 0.7158\n",
       "\\item 0.7144\n",
       "\\item 0.7182\n",
       "\\item 0.7158\n",
       "\\item 0.712\n",
       "\\item 0.7102\n",
       "\\item 0.7088\n",
       "\\end{enumerate*}\n"
      ],
      "text/markdown": [
       "1. 0.6848\n",
       "2. 0.7072\n",
       "3. 0.7172\n",
       "4. 0.7158\n",
       "5. 0.7144\n",
       "6. 0.7182\n",
       "7. 0.7158\n",
       "8. 0.712\n",
       "9. 0.7102\n",
       "10. 0.7088\n",
       "\n",
       "\n"
      ],
      "text/plain": [
       " [1] 0.6848 0.7072 0.7172 0.7158 0.7144 0.7182 0.7158 0.7120 0.7102 0.7088"
      ]
     },
     "metadata": {},
     "output_type": "display_data"
    },
    {
     "data": {
      "image/png": "[encoded data removed]",
      "text/plain": [
       "plot without title"
      ]
     },
     "metadata": {},
     "output_type": "display_data"
    }
   ],
   "source": [
    "plot(history)\n",
    "history$metrics$val_acc"
   ]
  },
  {
   "cell_type": "markdown",
   "metadata": {},
   "source": [
    "Now the training process arrives over 71% and then stabilize! But the difference in performance between *LSTM* and simple *RNN* increases when the length of the sequences increases (Long Memory in action!). Let's what happens when we consider 100 words for each review in IMDB dataset."
   ]
  },
  {
   "cell_type": "code",
   "execution_count": 10,
   "metadata": {},
   "outputs": [
    {
     "data": {
      "text/html": [
       "'&lt;START&gt; this film was just brilliant casting location scenery story direction everyone\\'s really suited the part they played and you could just imagine being there robert &lt;UNK&gt; is an amazing actor and now the same being director &lt;UNK&gt; father came from the same scottish island as myself so i loved the fact there was a real connection with this film the witty remarks throughout the film were great it was just brilliant so much that i bought the film as soon as it was released for &lt;UNK&gt; and would recommend it to everyone to watch and the fly fishing was'"
      ],
      "text/latex": [
       "'<START> this film was just brilliant casting location scenery story direction everyone\\textbackslash{}'s really suited the part they played and you could just imagine being there robert <UNK> is an amazing actor and now the same being director <UNK> father came from the same scottish island as myself so i loved the fact there was a real connection with this film the witty remarks throughout the film were great it was just brilliant so much that i bought the film as soon as it was released for <UNK> and would recommend it to everyone to watch and the fly fishing was'"
      ],
      "text/markdown": [
       "'&lt;START&gt; this film was just brilliant casting location scenery story direction everyone\\'s really suited the part they played and you could just imagine being there robert &lt;UNK&gt; is an amazing actor and now the same being director &lt;UNK&gt; father came from the same scottish island as myself so i loved the fact there was a real connection with this film the witty remarks throughout the film were great it was just brilliant so much that i bought the film as soon as it was released for &lt;UNK&gt; and would recommend it to everyone to watch and the fly fishing was'"
      ],
      "text/plain": [
       "[1] \"<START> this film was just brilliant casting location scenery story direction everyone's really suited the part they played and you could just imagine being there robert <UNK> is an amazing actor and now the same being director <UNK> father came from the same scottish island as myself so i loved the fact there was a real connection with this film the witty remarks throughout the film were great it was just brilliant so much that i bought the film as soon as it was released for <UNK> and would recommend it to everyone to watch and the fly fishing was\""
      ]
     },
     "metadata": {},
     "output_type": "display_data"
    }
   ],
   "source": [
    "maxlen <- 100\n",
    "mtx_train <- pad_sequences(x_train, maxlen = maxlen, truncating = \"post\", padding = \"post\")\n",
    "mtx_test <- pad_sequences(x_test, maxlen = maxlen, truncating = \"post\", padding = \"post\")\n",
    "\n",
    "mtx_train[1,] %>% sapply(function(x) mapping_df %>% filter(index == x) %>% pull(word)) %>% paste(collapse = \" \")                  "
   ]
  },
  {
   "cell_type": "code",
   "execution_count": null,
   "metadata": {},
   "outputs": [],
   "source": [
    "model <- keras_model_sequential() %>%\n",
    "    layer_embedding(input_dim = max_features, output_dim = 8) %>%\n",
    "    layer_simple_rnn(units = 8) %>%\n",
    "    layer_dense(units = 1, activation = \"sigmoid\")\n",
    "    model %>% compile(\n",
    "    optimizer = \"rmsprop\",\n",
    "    loss = \"binary_crossentropy\",\n",
    "    metrics = c(\"acc\")\n",
    ")\n",
    "\n",
    "history_rnn <- model %>% fit(\n",
    "    mtx_train, y_train,\n",
    "    epochs = 10,\n",
    "    batch_size = 32,\n",
    "    validation_split = 0.2\n",
    ")"
   ]
  },
  {
   "cell_type": "code",
   "execution_count": 50,
   "metadata": {},
   "outputs": [
    {
     "data": {},
     "metadata": {},
     "output_type": "display_data"
    },
    {
     "data": {
      "text/html": [
       "<ol class=list-inline>\n",
       "\t<li>0.519</li>\n",
       "\t<li>0.5704</li>\n",
       "\t<li>0.7036</li>\n",
       "\t<li>0.7672</li>\n",
       "\t<li>0.7624</li>\n",
       "\t<li>0.748</li>\n",
       "\t<li>0.7468</li>\n",
       "\t<li>0.7728</li>\n",
       "\t<li>0.7536</li>\n",
       "\t<li>0.7492</li>\n",
       "</ol>\n"
      ],
      "text/latex": [
       "\\begin{enumerate*}\n",
       "\\item 0.519\n",
       "\\item 0.5704\n",
       "\\item 0.7036\n",
       "\\item 0.7672\n",
       "\\item 0.7624\n",
       "\\item 0.748\n",
       "\\item 0.7468\n",
       "\\item 0.7728\n",
       "\\item 0.7536\n",
       "\\item 0.7492\n",
       "\\end{enumerate*}\n"
      ],
      "text/markdown": [
       "1. 0.519\n",
       "2. 0.5704\n",
       "3. 0.7036\n",
       "4. 0.7672\n",
       "5. 0.7624\n",
       "6. 0.748\n",
       "7. 0.7468\n",
       "8. 0.7728\n",
       "9. 0.7536\n",
       "10. 0.7492\n",
       "\n",
       "\n"
      ],
      "text/plain": [
       " [1] 0.5190 0.5704 0.7036 0.7672 0.7624 0.7480 0.7468 0.7728 0.7536 0.7492"
      ]
     },
     "metadata": {},
     "output_type": "display_data"
    },
    {
     "data": {
      "image/png": "[encoded data removed]",
      "text/plain": [
       "plot without title"
      ]
     },
     "metadata": {},
     "output_type": "display_data"
    }
   ],
   "source": [
    "plot(history_rnn)\n",
    "history_rnn$metrics$val_acc"
   ]
  },
  {
   "cell_type": "code",
   "execution_count": 47,
   "metadata": {},
   "outputs": [],
   "source": [
    "model <- keras_model_sequential() %>%\n",
    "    layer_embedding(input_dim = max_features, output_dim = 8) %>%\n",
    "    layer_lstm(units = 8) %>%\n",
    "    layer_dense(units = 1, activation = \"sigmoid\")\n",
    "    model %>% compile(\n",
    "    optimizer = \"rmsprop\",\n",
    "    loss = \"binary_crossentropy\",\n",
    "    metrics = c(\"acc\")\n",
    ")\n",
    "\n",
    "history_lstm <- model %>% fit(\n",
    "    mtx_train, y_train,\n",
    "    epochs = 10,\n",
    "    batch_size = 32,\n",
    "    validation_split = 0.2\n",
    ")"
   ]
  },
  {
   "cell_type": "code",
   "execution_count": 53,
   "metadata": {},
   "outputs": [
    {
     "data": {
      "text/html": [
       "<ol class=list-inline>\n",
       "\t<li>0.806</li>\n",
       "\t<li>0.823</li>\n",
       "\t<li>0.8218</li>\n",
       "\t<li>0.8384</li>\n",
       "\t<li>0.8352</li>\n",
       "\t<li>0.8328</li>\n",
       "\t<li>0.8372</li>\n",
       "\t<li>0.835</li>\n",
       "\t<li>0.8272</li>\n",
       "\t<li>0.8252</li>\n",
       "</ol>\n"
      ],
      "text/latex": [
       "\\begin{enumerate*}\n",
       "\\item 0.806\n",
       "\\item 0.823\n",
       "\\item 0.8218\n",
       "\\item 0.8384\n",
       "\\item 0.8352\n",
       "\\item 0.8328\n",
       "\\item 0.8372\n",
       "\\item 0.835\n",
       "\\item 0.8272\n",
       "\\item 0.8252\n",
       "\\end{enumerate*}\n"
      ],
      "text/markdown": [
       "1. 0.806\n",
       "2. 0.823\n",
       "3. 0.8218\n",
       "4. 0.8384\n",
       "5. 0.8352\n",
       "6. 0.8328\n",
       "7. 0.8372\n",
       "8. 0.835\n",
       "9. 0.8272\n",
       "10. 0.8252\n",
       "\n",
       "\n"
      ],
      "text/plain": [
       " [1] 0.8060 0.8230 0.8218 0.8384 0.8352 0.8328 0.8372 0.8350 0.8272 0.8252"
      ]
     },
     "metadata": {},
     "output_type": "display_data"
    },
    {
     "data": {},
     "metadata": {},
     "output_type": "display_data"
    },
    {
     "data": {
      "image/png": "[encoded data removed]",
      "text/plain": [
       "plot without title"
      ]
     },
     "metadata": {},
     "output_type": "display_data"
    }
   ],
   "source": [
    "history_lstm$metrics$val_acc\n",
    "plot(history_lstm)"
   ]
  },
  {
   "cell_type": "markdown",
   "metadata": {},
   "source": [
    "Finally let's see what happens when using a *GRU*  (*Gated Recurrent Unit*) layer, that has performance similar to *LSTM* but with less parameters (more easy to train)."
   ]
  },
  {
   "cell_type": "code",
   "execution_count": 52,
   "metadata": {},
   "outputs": [],
   "source": [
    "model <- keras_model_sequential() %>%\n",
    "    layer_embedding(input_dim = max_features, output_dim = 8) %>%\n",
    "    layer_gru(units = 8) %>%\n",
    "    layer_dense(units = 1, activation = \"sigmoid\")\n",
    "    model %>% compile(\n",
    "    optimizer = \"rmsprop\",\n",
    "    loss = \"binary_crossentropy\",\n",
    "    metrics = c(\"acc\")\n",
    ")\n",
    "\n",
    "history_gru <- model %>% fit(\n",
    "    mtx_train, y_train,\n",
    "    epochs = 10,\n",
    "    batch_size = 32,\n",
    "    validation_split = 0.2\n",
    ")"
   ]
  },
  {
   "cell_type": "code",
   "execution_count": 54,
   "metadata": {},
   "outputs": [
    {
     "data": {
      "text/html": [
       "<ol class=list-inline>\n",
       "\t<li>0.7458</li>\n",
       "\t<li>0.8192</li>\n",
       "\t<li>0.825</li>\n",
       "\t<li>0.8368</li>\n",
       "\t<li>0.8302</li>\n",
       "\t<li>0.8344</li>\n",
       "\t<li>0.8352</li>\n",
       "\t<li>0.8336</li>\n",
       "\t<li>0.826</li>\n",
       "\t<li>0.8274</li>\n",
       "</ol>\n"
      ],
      "text/latex": [
       "\\begin{enumerate*}\n",
       "\\item 0.7458\n",
       "\\item 0.8192\n",
       "\\item 0.825\n",
       "\\item 0.8368\n",
       "\\item 0.8302\n",
       "\\item 0.8344\n",
       "\\item 0.8352\n",
       "\\item 0.8336\n",
       "\\item 0.826\n",
       "\\item 0.8274\n",
       "\\end{enumerate*}\n"
      ],
      "text/markdown": [
       "1. 0.7458\n",
       "2. 0.8192\n",
       "3. 0.825\n",
       "4. 0.8368\n",
       "5. 0.8302\n",
       "6. 0.8344\n",
       "7. 0.8352\n",
       "8. 0.8336\n",
       "9. 0.826\n",
       "10. 0.8274\n",
       "\n",
       "\n"
      ],
      "text/plain": [
       " [1] 0.7458 0.8192 0.8250 0.8368 0.8302 0.8344 0.8352 0.8336 0.8260 0.8274"
      ]
     },
     "metadata": {},
     "output_type": "display_data"
    },
    {
     "data": {},
     "metadata": {},
     "output_type": "display_data"
    },
    {
     "data": {
      "image/png": "[encoded data removed]",
      "text/plain": [
       "plot without title"
      ]
     },
     "metadata": {},
     "output_type": "display_data"
    }
   ],
   "source": [
    "history_gru$metrics$val_acc\n",
    "plot(history_gru)"
   ]
  }
 ],
 "metadata": {
  "kernelspec": {
   "display_name": "R",
   "language": "R",
   "name": "ir"
  },
  "language_info": {
   "codemirror_mode": "r",
   "file_extension": ".r",
   "mimetype": "text/x-r-source",
   "name": "R",
   "pygments_lexer": "r",
   "version": "3.4.1"
  }
 },
 "nbformat": 4,
 "nbformat_minor": 2
}
