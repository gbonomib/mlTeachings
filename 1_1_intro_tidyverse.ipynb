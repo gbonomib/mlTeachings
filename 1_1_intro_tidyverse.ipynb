{
 "cells": [
  {
   "cell_type": "markdown",
   "metadata": {},
   "source": [
    "# Introduction to the tidyverse\n",
    "The [tidyverse](https://www.tidyverse.org/) is an opinionated collection of $\\texttt{R}$ packages designed for data science. All packages share an underlying design philosophy, grammar, and data structures.\n",
    "\n",
    "![tidyverse](fig/tidyverse.jpg \"title-1\")\n",
    "\n",
    "And you can load all of these packages with a simple command"
   ]
  },
  {
   "cell_type": "code",
   "execution_count": 20,
   "metadata": {},
   "outputs": [],
   "source": [
    "library(tidyverse)"
   ]
  },
  {
   "cell_type": "markdown",
   "metadata": {},
   "source": [
    "By loading tidyverse we are actually loading a *set of packages*: ggplot2, dplyr, tidyr..."
   ]
  },
  {
   "cell_type": "markdown",
   "metadata": {},
   "source": [
    "### The Pipe operator\n",
    "\n",
    "We are going to do a quick overview of some of these packages, but first you need to make friends with the **pipe** operator (**%>%** <- this guy here!). \n",
    "\n",
    "The pipe operator (also known out of the $\\texttt{R}$ world as **|**) was first introduced in the $\\texttt{R}$ world by the developers of the **magrittr** package:\n",
    "\n",
    "![Magrittr](fig/magrittr.png \"title-1\")\n",
    "\n",
    "This operator allows to concatenate an $\\texttt{R}$ value or the result of an $\\texttt{R}$ function with other $\\texttt{R}$ functions, the value on the left of the **%>%** will be interpreted as the first value for the function on its right.\n",
    "\n",
    "As example, these commands:"
   ]
  },
  {
   "cell_type": "code",
   "execution_count": 21,
   "metadata": {},
   "outputs": [
    {
     "data": {
      "text/html": [
       "<ol class=list-inline>\n",
       "\t<li>'mpg'</li>\n",
       "\t<li>'cyl'</li>\n",
       "\t<li>'disp'</li>\n",
       "\t<li>'hp'</li>\n",
       "\t<li>'drat'</li>\n",
       "\t<li>'wt'</li>\n",
       "\t<li>'qsec'</li>\n",
       "\t<li>'vs'</li>\n",
       "\t<li>'am'</li>\n",
       "\t<li>'gear'</li>\n",
       "\t<li>'carb'</li>\n",
       "\t<li>'name'</li>\n",
       "</ol>\n"
      ],
      "text/latex": [
       "\\begin{enumerate*}\n",
       "\\item 'mpg'\n",
       "\\item 'cyl'\n",
       "\\item 'disp'\n",
       "\\item 'hp'\n",
       "\\item 'drat'\n",
       "\\item 'wt'\n",
       "\\item 'qsec'\n",
       "\\item 'vs'\n",
       "\\item 'am'\n",
       "\\item 'gear'\n",
       "\\item 'carb'\n",
       "\\item 'name'\n",
       "\\end{enumerate*}\n"
      ],
      "text/markdown": [
       "1. 'mpg'\n",
       "2. 'cyl'\n",
       "3. 'disp'\n",
       "4. 'hp'\n",
       "5. 'drat'\n",
       "6. 'wt'\n",
       "7. 'qsec'\n",
       "8. 'vs'\n",
       "9. 'am'\n",
       "10. 'gear'\n",
       "11. 'carb'\n",
       "12. 'name'\n",
       "\n",
       "\n"
      ],
      "text/plain": [
       " [1] \"mpg\"  \"cyl\"  \"disp\" \"hp\"   \"drat\" \"wt\"   \"qsec\" \"vs\"   \"am\"   \"gear\"\n",
       "[11] \"carb\" \"name\""
      ]
     },
     "metadata": {},
     "output_type": "display_data"
    },
    {
     "data": {
      "text/html": [
       "<table>\n",
       "<thead><tr><th></th><th scope=col>mpg</th><th scope=col>cyl</th><th scope=col>disp</th><th scope=col>hp</th><th scope=col>drat</th><th scope=col>wt</th><th scope=col>qsec</th><th scope=col>vs</th><th scope=col>am</th><th scope=col>gear</th><th scope=col>carb</th><th scope=col>name</th></tr></thead>\n",
       "<tbody>\n",
       "\t<tr><th scope=row>Mazda RX4</th><td>21.0             </td><td>6                </td><td>160              </td><td>110              </td><td>3.90             </td><td>2.620            </td><td>16.46            </td><td>0                </td><td>1                </td><td>4                </td><td>4                </td><td>Mazda RX4        </td></tr>\n",
       "\t<tr><th scope=row>Mazda RX4 Wag</th><td>21.0             </td><td>6                </td><td>160              </td><td>110              </td><td>3.90             </td><td>2.875            </td><td>17.02            </td><td>0                </td><td>1                </td><td>4                </td><td>4                </td><td>Mazda RX4 Wag    </td></tr>\n",
       "\t<tr><th scope=row>Datsun 710</th><td>22.8             </td><td>4                </td><td>108              </td><td> 93              </td><td>3.85             </td><td>2.320            </td><td>18.61            </td><td>1                </td><td>1                </td><td>4                </td><td>1                </td><td>Datsun 710       </td></tr>\n",
       "\t<tr><th scope=row>Hornet 4 Drive</th><td>21.4             </td><td>6                </td><td>258              </td><td>110              </td><td>3.08             </td><td>3.215            </td><td>19.44            </td><td>1                </td><td>0                </td><td>3                </td><td>1                </td><td>Hornet 4 Drive   </td></tr>\n",
       "\t<tr><th scope=row>Hornet Sportabout</th><td>18.7             </td><td>8                </td><td>360              </td><td>175              </td><td>3.15             </td><td>3.440            </td><td>17.02            </td><td>0                </td><td>0                </td><td>3                </td><td>2                </td><td>Hornet Sportabout</td></tr>\n",
       "</tbody>\n",
       "</table>\n"
      ],
      "text/latex": [
       "\\begin{tabular}{r|llllllllllll}\n",
       "  & mpg & cyl & disp & hp & drat & wt & qsec & vs & am & gear & carb & name\\\\\n",
       "\\hline\n",
       "\tMazda RX4 & 21.0              & 6                 & 160               & 110               & 3.90              & 2.620             & 16.46             & 0                 & 1                 & 4                 & 4                 & Mazda RX4        \\\\\n",
       "\tMazda RX4 Wag & 21.0              & 6                 & 160               & 110               & 3.90              & 2.875             & 17.02             & 0                 & 1                 & 4                 & 4                 & Mazda RX4 Wag    \\\\\n",
       "\tDatsun 710 & 22.8              & 4                 & 108               &  93               & 3.85              & 2.320             & 18.61             & 1                 & 1                 & 4                 & 1                 & Datsun 710       \\\\\n",
       "\tHornet 4 Drive & 21.4              & 6                 & 258               & 110               & 3.08              & 3.215             & 19.44             & 1                 & 0                 & 3                 & 1                 & Hornet 4 Drive   \\\\\n",
       "\tHornet Sportabout & 18.7              & 8                 & 360               & 175               & 3.15              & 3.440             & 17.02             & 0                 & 0                 & 3                 & 2                 & Hornet Sportabout\\\\\n",
       "\\end{tabular}\n"
      ],
      "text/markdown": [
       "\n",
       "| <!--/--> | mpg | cyl | disp | hp | drat | wt | qsec | vs | am | gear | carb | name | \n",
       "|---|---|---|---|---|\n",
       "| Mazda RX4 | 21.0              | 6                 | 160               | 110               | 3.90              | 2.620             | 16.46             | 0                 | 1                 | 4                 | 4                 | Mazda RX4         | \n",
       "| Mazda RX4 Wag | 21.0              | 6                 | 160               | 110               | 3.90              | 2.875             | 17.02             | 0                 | 1                 | 4                 | 4                 | Mazda RX4 Wag     | \n",
       "| Datsun 710 | 22.8              | 4                 | 108               |  93               | 3.85              | 2.320             | 18.61             | 1                 | 1                 | 4                 | 1                 | Datsun 710        | \n",
       "| Hornet 4 Drive | 21.4              | 6                 | 258               | 110               | 3.08              | 3.215             | 19.44             | 1                 | 0                 | 3                 | 1                 | Hornet 4 Drive    | \n",
       "| Hornet Sportabout | 18.7              | 8                 | 360               | 175               | 3.15              | 3.440             | 17.02             | 0                 | 0                 | 3                 | 2                 | Hornet Sportabout | \n",
       "\n",
       "\n"
      ],
      "text/plain": [
       "                  mpg  cyl disp hp  drat wt    qsec  vs am gear carb\n",
       "Mazda RX4         21.0 6   160  110 3.90 2.620 16.46 0  1  4    4   \n",
       "Mazda RX4 Wag     21.0 6   160  110 3.90 2.875 17.02 0  1  4    4   \n",
       "Datsun 710        22.8 4   108   93 3.85 2.320 18.61 1  1  4    1   \n",
       "Hornet 4 Drive    21.4 6   258  110 3.08 3.215 19.44 1  0  3    1   \n",
       "Hornet Sportabout 18.7 8   360  175 3.15 3.440 17.02 0  0  3    2   \n",
       "                  name             \n",
       "Mazda RX4         Mazda RX4        \n",
       "Mazda RX4 Wag     Mazda RX4 Wag    \n",
       "Datsun 710        Datsun 710       \n",
       "Hornet 4 Drive    Hornet 4 Drive   \n",
       "Hornet Sportabout Hornet Sportabout"
      ]
     },
     "metadata": {},
     "output_type": "display_data"
    },
    {
     "data": {
      "text/html": [
       "0.0423990836272118"
      ],
      "text/latex": [
       "0.0423990836272118"
      ],
      "text/markdown": [
       "0.0423990836272118"
      ],
      "text/plain": [
       "[1] 0.04239908"
      ]
     },
     "metadata": {},
     "output_type": "display_data"
    }
   ],
   "source": [
    "names(mtcars)\n",
    "head(mtcars, n = 5)\n",
    "mean(rnorm(100))"
   ]
  },
  {
   "cell_type": "markdown",
   "metadata": {},
   "source": [
    "can be rewritten using a **%>%** as follows:"
   ]
  },
  {
   "cell_type": "code",
   "execution_count": 22,
   "metadata": {},
   "outputs": [
    {
     "data": {
      "text/html": [
       "<ol class=list-inline>\n",
       "\t<li>'mpg'</li>\n",
       "\t<li>'cyl'</li>\n",
       "\t<li>'disp'</li>\n",
       "\t<li>'hp'</li>\n",
       "\t<li>'drat'</li>\n",
       "\t<li>'wt'</li>\n",
       "\t<li>'qsec'</li>\n",
       "\t<li>'vs'</li>\n",
       "\t<li>'am'</li>\n",
       "\t<li>'gear'</li>\n",
       "\t<li>'carb'</li>\n",
       "\t<li>'name'</li>\n",
       "</ol>\n"
      ],
      "text/latex": [
       "\\begin{enumerate*}\n",
       "\\item 'mpg'\n",
       "\\item 'cyl'\n",
       "\\item 'disp'\n",
       "\\item 'hp'\n",
       "\\item 'drat'\n",
       "\\item 'wt'\n",
       "\\item 'qsec'\n",
       "\\item 'vs'\n",
       "\\item 'am'\n",
       "\\item 'gear'\n",
       "\\item 'carb'\n",
       "\\item 'name'\n",
       "\\end{enumerate*}\n"
      ],
      "text/markdown": [
       "1. 'mpg'\n",
       "2. 'cyl'\n",
       "3. 'disp'\n",
       "4. 'hp'\n",
       "5. 'drat'\n",
       "6. 'wt'\n",
       "7. 'qsec'\n",
       "8. 'vs'\n",
       "9. 'am'\n",
       "10. 'gear'\n",
       "11. 'carb'\n",
       "12. 'name'\n",
       "\n",
       "\n"
      ],
      "text/plain": [
       " [1] \"mpg\"  \"cyl\"  \"disp\" \"hp\"   \"drat\" \"wt\"   \"qsec\" \"vs\"   \"am\"   \"gear\"\n",
       "[11] \"carb\" \"name\""
      ]
     },
     "metadata": {},
     "output_type": "display_data"
    },
    {
     "data": {
      "text/html": [
       "<table>\n",
       "<thead><tr><th></th><th scope=col>mpg</th><th scope=col>cyl</th><th scope=col>disp</th><th scope=col>hp</th><th scope=col>drat</th><th scope=col>wt</th><th scope=col>qsec</th><th scope=col>vs</th><th scope=col>am</th><th scope=col>gear</th><th scope=col>carb</th><th scope=col>name</th></tr></thead>\n",
       "<tbody>\n",
       "\t<tr><th scope=row>Mazda RX4</th><td>21.0             </td><td>6                </td><td>160              </td><td>110              </td><td>3.90             </td><td>2.620            </td><td>16.46            </td><td>0                </td><td>1                </td><td>4                </td><td>4                </td><td>Mazda RX4        </td></tr>\n",
       "\t<tr><th scope=row>Mazda RX4 Wag</th><td>21.0             </td><td>6                </td><td>160              </td><td>110              </td><td>3.90             </td><td>2.875            </td><td>17.02            </td><td>0                </td><td>1                </td><td>4                </td><td>4                </td><td>Mazda RX4 Wag    </td></tr>\n",
       "\t<tr><th scope=row>Datsun 710</th><td>22.8             </td><td>4                </td><td>108              </td><td> 93              </td><td>3.85             </td><td>2.320            </td><td>18.61            </td><td>1                </td><td>1                </td><td>4                </td><td>1                </td><td>Datsun 710       </td></tr>\n",
       "\t<tr><th scope=row>Hornet 4 Drive</th><td>21.4             </td><td>6                </td><td>258              </td><td>110              </td><td>3.08             </td><td>3.215            </td><td>19.44            </td><td>1                </td><td>0                </td><td>3                </td><td>1                </td><td>Hornet 4 Drive   </td></tr>\n",
       "\t<tr><th scope=row>Hornet Sportabout</th><td>18.7             </td><td>8                </td><td>360              </td><td>175              </td><td>3.15             </td><td>3.440            </td><td>17.02            </td><td>0                </td><td>0                </td><td>3                </td><td>2                </td><td>Hornet Sportabout</td></tr>\n",
       "</tbody>\n",
       "</table>\n"
      ],
      "text/latex": [
       "\\begin{tabular}{r|llllllllllll}\n",
       "  & mpg & cyl & disp & hp & drat & wt & qsec & vs & am & gear & carb & name\\\\\n",
       "\\hline\n",
       "\tMazda RX4 & 21.0              & 6                 & 160               & 110               & 3.90              & 2.620             & 16.46             & 0                 & 1                 & 4                 & 4                 & Mazda RX4        \\\\\n",
       "\tMazda RX4 Wag & 21.0              & 6                 & 160               & 110               & 3.90              & 2.875             & 17.02             & 0                 & 1                 & 4                 & 4                 & Mazda RX4 Wag    \\\\\n",
       "\tDatsun 710 & 22.8              & 4                 & 108               &  93               & 3.85              & 2.320             & 18.61             & 1                 & 1                 & 4                 & 1                 & Datsun 710       \\\\\n",
       "\tHornet 4 Drive & 21.4              & 6                 & 258               & 110               & 3.08              & 3.215             & 19.44             & 1                 & 0                 & 3                 & 1                 & Hornet 4 Drive   \\\\\n",
       "\tHornet Sportabout & 18.7              & 8                 & 360               & 175               & 3.15              & 3.440             & 17.02             & 0                 & 0                 & 3                 & 2                 & Hornet Sportabout\\\\\n",
       "\\end{tabular}\n"
      ],
      "text/markdown": [
       "\n",
       "| <!--/--> | mpg | cyl | disp | hp | drat | wt | qsec | vs | am | gear | carb | name | \n",
       "|---|---|---|---|---|\n",
       "| Mazda RX4 | 21.0              | 6                 | 160               | 110               | 3.90              | 2.620             | 16.46             | 0                 | 1                 | 4                 | 4                 | Mazda RX4         | \n",
       "| Mazda RX4 Wag | 21.0              | 6                 | 160               | 110               | 3.90              | 2.875             | 17.02             | 0                 | 1                 | 4                 | 4                 | Mazda RX4 Wag     | \n",
       "| Datsun 710 | 22.8              | 4                 | 108               |  93               | 3.85              | 2.320             | 18.61             | 1                 | 1                 | 4                 | 1                 | Datsun 710        | \n",
       "| Hornet 4 Drive | 21.4              | 6                 | 258               | 110               | 3.08              | 3.215             | 19.44             | 1                 | 0                 | 3                 | 1                 | Hornet 4 Drive    | \n",
       "| Hornet Sportabout | 18.7              | 8                 | 360               | 175               | 3.15              | 3.440             | 17.02             | 0                 | 0                 | 3                 | 2                 | Hornet Sportabout | \n",
       "\n",
       "\n"
      ],
      "text/plain": [
       "                  mpg  cyl disp hp  drat wt    qsec  vs am gear carb\n",
       "Mazda RX4         21.0 6   160  110 3.90 2.620 16.46 0  1  4    4   \n",
       "Mazda RX4 Wag     21.0 6   160  110 3.90 2.875 17.02 0  1  4    4   \n",
       "Datsun 710        22.8 4   108   93 3.85 2.320 18.61 1  1  4    1   \n",
       "Hornet 4 Drive    21.4 6   258  110 3.08 3.215 19.44 1  0  3    1   \n",
       "Hornet Sportabout 18.7 8   360  175 3.15 3.440 17.02 0  0  3    2   \n",
       "                  name             \n",
       "Mazda RX4         Mazda RX4        \n",
       "Mazda RX4 Wag     Mazda RX4 Wag    \n",
       "Datsun 710        Datsun 710       \n",
       "Hornet 4 Drive    Hornet 4 Drive   \n",
       "Hornet Sportabout Hornet Sportabout"
      ]
     },
     "metadata": {},
     "output_type": "display_data"
    },
    {
     "data": {
      "text/html": [
       "-0.0898266193184822"
      ],
      "text/latex": [
       "-0.0898266193184822"
      ],
      "text/markdown": [
       "-0.0898266193184822"
      ],
      "text/plain": [
       "[1] -0.08982662"
      ]
     },
     "metadata": {},
     "output_type": "display_data"
    }
   ],
   "source": [
    "mtcars %>% names\n",
    "mtcars %>% head(n = 5)\n",
    "rnorm(10) %>% mean"
   ]
  },
  {
   "cell_type": "markdown",
   "metadata": {},
   "source": [
    "*sooo...what*? Obviously....with more than one *pipe* you can build a *pipeline*...\n",
    "\n",
    "What if we'd like to take the **5** cars with the highest mpg values, add a standard normal noise and plot it all?\n",
    "\n",
    "Here is a way to do it without a pipeline:"
   ]
  },
  {
   "cell_type": "code",
   "execution_count": 23,
   "metadata": {},
   "outputs": [
    {
     "data": {
      "image/png": "[encoded data removed]",
      "text/plain": [
       "plot without title"
      ]
     },
     "metadata": {},
     "output_type": "display_data"
    }
   ],
   "source": [
    "options(repr.plot.width=3, repr.plot.height=3) ### set a small plot size\n",
    "set.seed(23)\n",
    "\n",
    "plot(tail(sort(mtcars[, \"mpg\"]), n = 5) + rnorm(5))"
   ]
  },
  {
   "cell_type": "markdown",
   "metadata": {},
   "source": [
    "And here is a way to get the same result with a *pipeline*:"
   ]
  },
  {
   "cell_type": "code",
   "execution_count": 24,
   "metadata": {},
   "outputs": [
    {
     "data": {
      "image/png": "[encoded data removed]",
      "text/plain": [
       "plot without title"
      ]
     },
     "metadata": {},
     "output_type": "display_data"
    }
   ],
   "source": [
    "set.seed(23)\n",
    "\n",
    "mtcars %>% pull(mpg) %>% sort %>% tail(n = 5) %>% `+`(rnorm(5)) %>% plot"
   ]
  },
  {
   "cell_type": "markdown",
   "metadata": {},
   "source": [
    "*P.S.* here we used a little trick: you can call operator functions like **+**, **-**, **\\***, **/** and many others, simply by including them between two backticks \\`\\` (in Windows you can type a backtick using the key combination ALT+96)\n",
    "\n",
    "One last thing about **%>%**... it works even if we want the value on the left of the pipe to be **not the first argument** of the function on the right of it. We can use the point **.** as placeholder, for example this linear regression:"
   ]
  },
  {
   "cell_type": "code",
   "execution_count": 25,
   "metadata": {},
   "outputs": [
    {
     "data": {
      "text/plain": [
       "\n",
       "Call:\n",
       "lm(formula = mpg ~ cyl, data = mtcars)\n",
       "\n",
       "Coefficients:\n",
       "(Intercept)          cyl  \n",
       "     37.885       -2.876  \n"
      ]
     },
     "metadata": {},
     "output_type": "display_data"
    }
   ],
   "source": [
    "lm(mpg ~ cyl, mtcars)"
   ]
  },
  {
   "cell_type": "markdown",
   "metadata": {},
   "source": [
    "can be *pipelinezed* as:"
   ]
  },
  {
   "cell_type": "code",
   "execution_count": 26,
   "metadata": {},
   "outputs": [
    {
     "data": {
      "text/plain": [
       "\n",
       "Call:\n",
       "lm(formula = mpg ~ cyl, data = .)\n",
       "\n",
       "Coefficients:\n",
       "(Intercept)          cyl  \n",
       "     37.885       -2.876  \n"
      ]
     },
     "metadata": {},
     "output_type": "display_data"
    }
   ],
   "source": [
    "mtcars %>% lm(mpg ~ cyl, .)"
   ]
  },
  {
   "cell_type": "markdown",
   "metadata": {},
   "source": [
    "### DPLYR\n",
    "\n",
    "After the pipe operator, we can start with the first useful package of the tidyverse, **dplyr**:\n",
    "\n",
    "![DPLYR](fig/dplyr_small.png \"title-1\")\n",
    "\n",
    "This package is the *de-facto* standard for data manipulation in modern R.\n",
    "\n",
    "It consists of *single table* verbs to manipulate a single table:\n"
   ]
  },
  {
   "cell_type": "code",
   "execution_count": 27,
   "metadata": {},
   "outputs": [
    {
     "data": {
      "text/html": [
       "8"
      ],
      "text/latex": [
       "8"
      ],
      "text/markdown": [
       "8"
      ],
      "text/plain": [
       "[1] 8"
      ]
     },
     "metadata": {},
     "output_type": "display_data"
    },
    {
     "data": {
      "text/html": [
       "<table>\n",
       "<thead><tr><th></th><th scope=col>mpg</th><th scope=col>cyl</th><th scope=col>disp</th><th scope=col>hp</th><th scope=col>drat</th><th scope=col>wt</th><th scope=col>qsec</th><th scope=col>vs</th><th scope=col>am</th><th scope=col>gear</th><th scope=col>carb</th><th scope=col>name</th></tr></thead>\n",
       "<tbody>\n",
       "\t<tr><th scope=row>Lotus Europa</th><td>30.4            </td><td>4               </td><td> 95.1           </td><td>113             </td><td>3.77            </td><td>1.513           </td><td>16.90           </td><td>1               </td><td>1               </td><td>5               </td><td>2               </td><td>Lotus Europa    </td></tr>\n",
       "\t<tr><th scope=row>Dodge Challenger</th><td>15.5            </td><td>8               </td><td>318.0           </td><td>150             </td><td>2.76            </td><td>3.520           </td><td>16.87           </td><td>0               </td><td>0               </td><td>3               </td><td>2               </td><td>Dodge Challenger</td></tr>\n",
       "\t<tr><th scope=row>Merc 450SE</th><td>16.4            </td><td>8               </td><td>275.8           </td><td>180             </td><td>3.07            </td><td>4.070           </td><td>17.40           </td><td>0               </td><td>0               </td><td>3               </td><td>3               </td><td>Merc 450SE      </td></tr>\n",
       "\t<tr><th scope=row>Merc 280</th><td>19.2            </td><td>6               </td><td>167.6           </td><td>123             </td><td>3.92            </td><td>3.440           </td><td>18.30           </td><td>1               </td><td>0               </td><td>4               </td><td>4               </td><td>Merc 280        </td></tr>\n",
       "\t<tr><th scope=row>Camaro Z28</th><td>13.3            </td><td>8               </td><td>350.0           </td><td>245             </td><td>3.73            </td><td>3.840           </td><td>15.41           </td><td>0               </td><td>0               </td><td>3               </td><td>4               </td><td>Camaro Z28      </td></tr>\n",
       "</tbody>\n",
       "</table>\n"
      ],
      "text/latex": [
       "\\begin{tabular}{r|llllllllllll}\n",
       "  & mpg & cyl & disp & hp & drat & wt & qsec & vs & am & gear & carb & name\\\\\n",
       "\\hline\n",
       "\tLotus Europa & 30.4             & 4                &  95.1            & 113              & 3.77             & 1.513            & 16.90            & 1                & 1                & 5                & 2                & Lotus Europa    \\\\\n",
       "\tDodge Challenger & 15.5             & 8                & 318.0            & 150              & 2.76             & 3.520            & 16.87            & 0                & 0                & 3                & 2                & Dodge Challenger\\\\\n",
       "\tMerc 450SE & 16.4             & 8                & 275.8            & 180              & 3.07             & 4.070            & 17.40            & 0                & 0                & 3                & 3                & Merc 450SE      \\\\\n",
       "\tMerc 280 & 19.2             & 6                & 167.6            & 123              & 3.92             & 3.440            & 18.30            & 1                & 0                & 4                & 4                & Merc 280        \\\\\n",
       "\tCamaro Z28 & 13.3             & 8                & 350.0            & 245              & 3.73             & 3.840            & 15.41            & 0                & 0                & 3                & 4                & Camaro Z28      \\\\\n",
       "\\end{tabular}\n"
      ],
      "text/markdown": [
       "\n",
       "| <!--/--> | mpg | cyl | disp | hp | drat | wt | qsec | vs | am | gear | carb | name | \n",
       "|---|---|---|---|---|\n",
       "| Lotus Europa | 30.4             | 4                |  95.1            | 113              | 3.77             | 1.513            | 16.90            | 1                | 1                | 5                | 2                | Lotus Europa     | \n",
       "| Dodge Challenger | 15.5             | 8                | 318.0            | 150              | 2.76             | 3.520            | 16.87            | 0                | 0                | 3                | 2                | Dodge Challenger | \n",
       "| Merc 450SE | 16.4             | 8                | 275.8            | 180              | 3.07             | 4.070            | 17.40            | 0                | 0                | 3                | 3                | Merc 450SE       | \n",
       "| Merc 280 | 19.2             | 6                | 167.6            | 123              | 3.92             | 3.440            | 18.30            | 1                | 0                | 4                | 4                | Merc 280         | \n",
       "| Camaro Z28 | 13.3             | 8                | 350.0            | 245              | 3.73             | 3.840            | 15.41            | 0                | 0                | 3                | 4                | Camaro Z28       | \n",
       "\n",
       "\n"
      ],
      "text/plain": [
       "                 mpg  cyl disp  hp  drat wt    qsec  vs am gear carb\n",
       "Lotus Europa     30.4 4    95.1 113 3.77 1.513 16.90 1  1  5    2   \n",
       "Dodge Challenger 15.5 8   318.0 150 2.76 3.520 16.87 0  0  3    2   \n",
       "Merc 450SE       16.4 8   275.8 180 3.07 4.070 17.40 0  0  3    3   \n",
       "Merc 280         19.2 6   167.6 123 3.92 3.440 18.30 1  0  4    4   \n",
       "Camaro Z28       13.3 8   350.0 245 3.73 3.840 15.41 0  0  3    4   \n",
       "                 name            \n",
       "Lotus Europa     Lotus Europa    \n",
       "Dodge Challenger Dodge Challenger\n",
       "Merc 450SE       Merc 450SE      \n",
       "Merc 280         Merc 280        \n",
       "Camaro Z28       Camaro Z28      "
      ]
     },
     "metadata": {},
     "output_type": "display_data"
    },
    {
     "data": {
      "text/html": [
       "<table>\n",
       "<thead><tr><th scope=col>mpg</th><th scope=col>cyl</th><th scope=col>disp</th><th scope=col>hp</th><th scope=col>drat</th><th scope=col>wt</th><th scope=col>qsec</th><th scope=col>vs</th><th scope=col>am</th><th scope=col>gear</th><th scope=col>carb</th><th scope=col>name</th></tr></thead>\n",
       "<tbody>\n",
       "\t<tr><td>15.5            </td><td>8               </td><td>318.0           </td><td>150             </td><td>2.76            </td><td>3.52            </td><td>16.87           </td><td>0               </td><td>0               </td><td>3               </td><td>2               </td><td>Dodge Challenger</td></tr>\n",
       "\t<tr><td>16.4            </td><td>8               </td><td>275.8           </td><td>180             </td><td>3.07            </td><td>4.07            </td><td>17.40           </td><td>0               </td><td>0               </td><td>3               </td><td>3               </td><td>Merc 450SE      </td></tr>\n",
       "\t<tr><td>13.3            </td><td>8               </td><td>350.0           </td><td>245             </td><td>3.73            </td><td>3.84            </td><td>15.41           </td><td>0               </td><td>0               </td><td>3               </td><td>4               </td><td>Camaro Z28      </td></tr>\n",
       "</tbody>\n",
       "</table>\n"
      ],
      "text/latex": [
       "\\begin{tabular}{r|llllllllllll}\n",
       " mpg & cyl & disp & hp & drat & wt & qsec & vs & am & gear & carb & name\\\\\n",
       "\\hline\n",
       "\t 15.5             & 8                & 318.0            & 150              & 2.76             & 3.52             & 16.87            & 0                & 0                & 3                & 2                & Dodge Challenger\\\\\n",
       "\t 16.4             & 8                & 275.8            & 180              & 3.07             & 4.07             & 17.40            & 0                & 0                & 3                & 3                & Merc 450SE      \\\\\n",
       "\t 13.3             & 8                & 350.0            & 245              & 3.73             & 3.84             & 15.41            & 0                & 0                & 3                & 4                & Camaro Z28      \\\\\n",
       "\\end{tabular}\n"
      ],
      "text/markdown": [
       "\n",
       "mpg | cyl | disp | hp | drat | wt | qsec | vs | am | gear | carb | name | \n",
       "|---|---|---|\n",
       "| 15.5             | 8                | 318.0            | 150              | 2.76             | 3.52             | 16.87            | 0                | 0                | 3                | 2                | Dodge Challenger | \n",
       "| 16.4             | 8                | 275.8            | 180              | 3.07             | 4.07             | 17.40            | 0                | 0                | 3                | 3                | Merc 450SE       | \n",
       "| 13.3             | 8                | 350.0            | 245              | 3.73             | 3.84             | 15.41            | 0                | 0                | 3                | 4                | Camaro Z28       | \n",
       "\n",
       "\n"
      ],
      "text/plain": [
       "  mpg  cyl disp  hp  drat wt   qsec  vs am gear carb name            \n",
       "1 15.5 8   318.0 150 2.76 3.52 16.87 0  0  3    2    Dodge Challenger\n",
       "2 16.4 8   275.8 180 3.07 4.07 17.40 0  0  3    3    Merc 450SE      \n",
       "3 13.3 8   350.0 245 3.73 3.84 15.41 0  0  3    4    Camaro Z28      "
      ]
     },
     "metadata": {},
     "output_type": "display_data"
    },
    {
     "data": {
      "text/html": [
       "<table>\n",
       "<thead><tr><th scope=col>mpg</th><th scope=col>cyl</th><th scope=col>disp</th><th scope=col>hp</th><th scope=col>drat</th><th scope=col>wt</th><th scope=col>qsec</th><th scope=col>vs</th><th scope=col>am</th><th scope=col>gear</th><th scope=col>carb</th><th scope=col>name</th></tr></thead>\n",
       "<tbody>\n",
       "\t<tr><td>13.3            </td><td>8               </td><td>350.0           </td><td>245             </td><td>3.73            </td><td>3.840           </td><td>15.41           </td><td>0               </td><td>0               </td><td>3               </td><td>4               </td><td>Camaro Z28      </td></tr>\n",
       "\t<tr><td>16.4            </td><td>8               </td><td>275.8           </td><td>180             </td><td>3.07            </td><td>4.070           </td><td>17.40           </td><td>0               </td><td>0               </td><td>3               </td><td>3               </td><td>Merc 450SE      </td></tr>\n",
       "\t<tr><td>15.5            </td><td>8               </td><td>318.0           </td><td>150             </td><td>2.76            </td><td>3.520           </td><td>16.87           </td><td>0               </td><td>0               </td><td>3               </td><td>2               </td><td>Dodge Challenger</td></tr>\n",
       "\t<tr><td>19.2            </td><td>6               </td><td>167.6           </td><td>123             </td><td>3.92            </td><td>3.440           </td><td>18.30           </td><td>1               </td><td>0               </td><td>4               </td><td>4               </td><td>Merc 280        </td></tr>\n",
       "\t<tr><td>30.4            </td><td>4               </td><td> 95.1           </td><td>113             </td><td>3.77            </td><td>1.513           </td><td>16.90           </td><td>1               </td><td>1               </td><td>5               </td><td>2               </td><td>Lotus Europa    </td></tr>\n",
       "</tbody>\n",
       "</table>\n"
      ],
      "text/latex": [
       "\\begin{tabular}{r|llllllllllll}\n",
       " mpg & cyl & disp & hp & drat & wt & qsec & vs & am & gear & carb & name\\\\\n",
       "\\hline\n",
       "\t 13.3             & 8                & 350.0            & 245              & 3.73             & 3.840            & 15.41            & 0                & 0                & 3                & 4                & Camaro Z28      \\\\\n",
       "\t 16.4             & 8                & 275.8            & 180              & 3.07             & 4.070            & 17.40            & 0                & 0                & 3                & 3                & Merc 450SE      \\\\\n",
       "\t 15.5             & 8                & 318.0            & 150              & 2.76             & 3.520            & 16.87            & 0                & 0                & 3                & 2                & Dodge Challenger\\\\\n",
       "\t 19.2             & 6                & 167.6            & 123              & 3.92             & 3.440            & 18.30            & 1                & 0                & 4                & 4                & Merc 280        \\\\\n",
       "\t 30.4             & 4                &  95.1            & 113              & 3.77             & 1.513            & 16.90            & 1                & 1                & 5                & 2                & Lotus Europa    \\\\\n",
       "\\end{tabular}\n"
      ],
      "text/markdown": [
       "\n",
       "mpg | cyl | disp | hp | drat | wt | qsec | vs | am | gear | carb | name | \n",
       "|---|---|---|---|---|\n",
       "| 13.3             | 8                | 350.0            | 245              | 3.73             | 3.840            | 15.41            | 0                | 0                | 3                | 4                | Camaro Z28       | \n",
       "| 16.4             | 8                | 275.8            | 180              | 3.07             | 4.070            | 17.40            | 0                | 0                | 3                | 3                | Merc 450SE       | \n",
       "| 15.5             | 8                | 318.0            | 150              | 2.76             | 3.520            | 16.87            | 0                | 0                | 3                | 2                | Dodge Challenger | \n",
       "| 19.2             | 6                | 167.6            | 123              | 3.92             | 3.440            | 18.30            | 1                | 0                | 4                | 4                | Merc 280         | \n",
       "| 30.4             | 4                |  95.1            | 113              | 3.77             | 1.513            | 16.90            | 1                | 1                | 5                | 2                | Lotus Europa     | \n",
       "\n",
       "\n"
      ],
      "text/plain": [
       "  mpg  cyl disp  hp  drat wt    qsec  vs am gear carb name            \n",
       "1 13.3 8   350.0 245 3.73 3.840 15.41 0  0  3    4    Camaro Z28      \n",
       "2 16.4 8   275.8 180 3.07 4.070 17.40 0  0  3    3    Merc 450SE      \n",
       "3 15.5 8   318.0 150 2.76 3.520 16.87 0  0  3    2    Dodge Challenger\n",
       "4 19.2 6   167.6 123 3.92 3.440 18.30 1  0  4    4    Merc 280        \n",
       "5 30.4 4    95.1 113 3.77 1.513 16.90 1  1  5    2    Lotus Europa    "
      ]
     },
     "metadata": {},
     "output_type": "display_data"
    },
    {
     "data": {
      "text/html": [
       "<table>\n",
       "<thead><tr><th></th><th scope=col>carb</th><th scope=col>cyl</th></tr></thead>\n",
       "<tbody>\n",
       "\t<tr><th scope=row>Lotus Europa</th><td>2</td><td>4</td></tr>\n",
       "\t<tr><th scope=row>Dodge Challenger</th><td>2</td><td>8</td></tr>\n",
       "\t<tr><th scope=row>Merc 450SE</th><td>3</td><td>8</td></tr>\n",
       "\t<tr><th scope=row>Merc 280</th><td>4</td><td>6</td></tr>\n",
       "\t<tr><th scope=row>Camaro Z28</th><td>4</td><td>8</td></tr>\n",
       "</tbody>\n",
       "</table>\n"
      ],
      "text/latex": [
       "\\begin{tabular}{r|ll}\n",
       "  & carb & cyl\\\\\n",
       "\\hline\n",
       "\tLotus Europa & 2 & 4\\\\\n",
       "\tDodge Challenger & 2 & 8\\\\\n",
       "\tMerc 450SE & 3 & 8\\\\\n",
       "\tMerc 280 & 4 & 6\\\\\n",
       "\tCamaro Z28 & 4 & 8\\\\\n",
       "\\end{tabular}\n"
      ],
      "text/markdown": [
       "\n",
       "| <!--/--> | carb | cyl | \n",
       "|---|---|---|---|---|\n",
       "| Lotus Europa | 2 | 4 | \n",
       "| Dodge Challenger | 2 | 8 | \n",
       "| Merc 450SE | 3 | 8 | \n",
       "| Merc 280 | 4 | 6 | \n",
       "| Camaro Z28 | 4 | 8 | \n",
       "\n",
       "\n"
      ],
      "text/plain": [
       "                 carb cyl\n",
       "Lotus Europa     2    4  \n",
       "Dodge Challenger 2    8  \n",
       "Merc 450SE       3    8  \n",
       "Merc 280         4    6  \n",
       "Camaro Z28       4    8  "
      ]
     },
     "metadata": {},
     "output_type": "display_data"
    },
    {
     "data": {
      "text/html": [
       "<table>\n",
       "<thead><tr><th></th><th scope=col>mpg</th><th scope=col>cylinder</th><th scope=col>disp</th><th scope=col>horsepower</th><th scope=col>drat</th><th scope=col>wt</th><th scope=col>qsec</th><th scope=col>vs</th><th scope=col>am</th><th scope=col>gear</th><th scope=col>carb</th><th scope=col>name</th></tr></thead>\n",
       "<tbody>\n",
       "\t<tr><th scope=row>Lotus Europa</th><td>30.4            </td><td>4               </td><td> 95.1           </td><td>113             </td><td>3.77            </td><td>1.513           </td><td>16.90           </td><td>1               </td><td>1               </td><td>5               </td><td>2               </td><td>Lotus Europa    </td></tr>\n",
       "\t<tr><th scope=row>Dodge Challenger</th><td>15.5            </td><td>8               </td><td>318.0           </td><td>150             </td><td>2.76            </td><td>3.520           </td><td>16.87           </td><td>0               </td><td>0               </td><td>3               </td><td>2               </td><td>Dodge Challenger</td></tr>\n",
       "\t<tr><th scope=row>Merc 450SE</th><td>16.4            </td><td>8               </td><td>275.8           </td><td>180             </td><td>3.07            </td><td>4.070           </td><td>17.40           </td><td>0               </td><td>0               </td><td>3               </td><td>3               </td><td>Merc 450SE      </td></tr>\n",
       "\t<tr><th scope=row>Merc 280</th><td>19.2            </td><td>6               </td><td>167.6           </td><td>123             </td><td>3.92            </td><td>3.440           </td><td>18.30           </td><td>1               </td><td>0               </td><td>4               </td><td>4               </td><td>Merc 280        </td></tr>\n",
       "\t<tr><th scope=row>Camaro Z28</th><td>13.3            </td><td>8               </td><td>350.0           </td><td>245             </td><td>3.73            </td><td>3.840           </td><td>15.41           </td><td>0               </td><td>0               </td><td>3               </td><td>4               </td><td>Camaro Z28      </td></tr>\n",
       "</tbody>\n",
       "</table>\n"
      ],
      "text/latex": [
       "\\begin{tabular}{r|llllllllllll}\n",
       "  & mpg & cylinder & disp & horsepower & drat & wt & qsec & vs & am & gear & carb & name\\\\\n",
       "\\hline\n",
       "\tLotus Europa & 30.4             & 4                &  95.1            & 113              & 3.77             & 1.513            & 16.90            & 1                & 1                & 5                & 2                & Lotus Europa    \\\\\n",
       "\tDodge Challenger & 15.5             & 8                & 318.0            & 150              & 2.76             & 3.520            & 16.87            & 0                & 0                & 3                & 2                & Dodge Challenger\\\\\n",
       "\tMerc 450SE & 16.4             & 8                & 275.8            & 180              & 3.07             & 4.070            & 17.40            & 0                & 0                & 3                & 3                & Merc 450SE      \\\\\n",
       "\tMerc 280 & 19.2             & 6                & 167.6            & 123              & 3.92             & 3.440            & 18.30            & 1                & 0                & 4                & 4                & Merc 280        \\\\\n",
       "\tCamaro Z28 & 13.3             & 8                & 350.0            & 245              & 3.73             & 3.840            & 15.41            & 0                & 0                & 3                & 4                & Camaro Z28      \\\\\n",
       "\\end{tabular}\n"
      ],
      "text/markdown": [
       "\n",
       "| <!--/--> | mpg | cylinder | disp | horsepower | drat | wt | qsec | vs | am | gear | carb | name | \n",
       "|---|---|---|---|---|\n",
       "| Lotus Europa | 30.4             | 4                |  95.1            | 113              | 3.77             | 1.513            | 16.90            | 1                | 1                | 5                | 2                | Lotus Europa     | \n",
       "| Dodge Challenger | 15.5             | 8                | 318.0            | 150              | 2.76             | 3.520            | 16.87            | 0                | 0                | 3                | 2                | Dodge Challenger | \n",
       "| Merc 450SE | 16.4             | 8                | 275.8            | 180              | 3.07             | 4.070            | 17.40            | 0                | 0                | 3                | 3                | Merc 450SE       | \n",
       "| Merc 280 | 19.2             | 6                | 167.6            | 123              | 3.92             | 3.440            | 18.30            | 1                | 0                | 4                | 4                | Merc 280         | \n",
       "| Camaro Z28 | 13.3             | 8                | 350.0            | 245              | 3.73             | 3.840            | 15.41            | 0                | 0                | 3                | 4                | Camaro Z28       | \n",
       "\n",
       "\n"
      ],
      "text/plain": [
       "                 mpg  cylinder disp  horsepower drat wt    qsec  vs am gear\n",
       "Lotus Europa     30.4 4         95.1 113        3.77 1.513 16.90 1  1  5   \n",
       "Dodge Challenger 15.5 8        318.0 150        2.76 3.520 16.87 0  0  3   \n",
       "Merc 450SE       16.4 8        275.8 180        3.07 4.070 17.40 0  0  3   \n",
       "Merc 280         19.2 6        167.6 123        3.92 3.440 18.30 1  0  4   \n",
       "Camaro Z28       13.3 8        350.0 245        3.73 3.840 15.41 0  0  3   \n",
       "                 carb name            \n",
       "Lotus Europa     2    Lotus Europa    \n",
       "Dodge Challenger 2    Dodge Challenger\n",
       "Merc 450SE       3    Merc 450SE      \n",
       "Merc 280         4    Merc 280        \n",
       "Camaro Z28       4    Camaro Z28      "
      ]
     },
     "metadata": {},
     "output_type": "display_data"
    },
    {
     "data": {
      "text/html": [
       "<table>\n",
       "<thead><tr><th scope=col>mpg</th><th scope=col>cyl</th><th scope=col>disp</th><th scope=col>hp</th><th scope=col>drat</th><th scope=col>wt</th><th scope=col>qsec</th><th scope=col>vs</th><th scope=col>am</th><th scope=col>gear</th><th scope=col>carb</th><th scope=col>name</th><th scope=col>tot</th></tr></thead>\n",
       "<tbody>\n",
       "\t<tr><td>30.4            </td><td> 8              </td><td> 95.1           </td><td>113             </td><td>3.77            </td><td>1.513           </td><td>16.90           </td><td>1               </td><td>1               </td><td>5               </td><td>2               </td><td>Lotus Europa    </td><td>8               </td></tr>\n",
       "\t<tr><td>15.5            </td><td>16              </td><td>318.0           </td><td>150             </td><td>2.76            </td><td>3.520           </td><td>16.87           </td><td>0               </td><td>0               </td><td>3               </td><td>2               </td><td>Dodge Challenger</td><td>5               </td></tr>\n",
       "\t<tr><td>16.4            </td><td>16              </td><td>275.8           </td><td>180             </td><td>3.07            </td><td>4.070           </td><td>17.40           </td><td>0               </td><td>0               </td><td>3               </td><td>3               </td><td>Merc 450SE      </td><td>6               </td></tr>\n",
       "\t<tr><td>19.2            </td><td>12              </td><td>167.6           </td><td>123             </td><td>3.92            </td><td>3.440           </td><td>18.30           </td><td>1               </td><td>0               </td><td>4               </td><td>4               </td><td>Merc 280        </td><td>8               </td></tr>\n",
       "\t<tr><td>13.3            </td><td>16              </td><td>350.0           </td><td>245             </td><td>3.73            </td><td>3.840           </td><td>15.41           </td><td>0               </td><td>0               </td><td>3               </td><td>4               </td><td>Camaro Z28      </td><td>7               </td></tr>\n",
       "</tbody>\n",
       "</table>\n"
      ],
      "text/latex": [
       "\\begin{tabular}{r|lllllllllllll}\n",
       " mpg & cyl & disp & hp & drat & wt & qsec & vs & am & gear & carb & name & tot\\\\\n",
       "\\hline\n",
       "\t 30.4             &  8               &  95.1            & 113              & 3.77             & 1.513            & 16.90            & 1                & 1                & 5                & 2                & Lotus Europa     & 8               \\\\\n",
       "\t 15.5             & 16               & 318.0            & 150              & 2.76             & 3.520            & 16.87            & 0                & 0                & 3                & 2                & Dodge Challenger & 5               \\\\\n",
       "\t 16.4             & 16               & 275.8            & 180              & 3.07             & 4.070            & 17.40            & 0                & 0                & 3                & 3                & Merc 450SE       & 6               \\\\\n",
       "\t 19.2             & 12               & 167.6            & 123              & 3.92             & 3.440            & 18.30            & 1                & 0                & 4                & 4                & Merc 280         & 8               \\\\\n",
       "\t 13.3             & 16               & 350.0            & 245              & 3.73             & 3.840            & 15.41            & 0                & 0                & 3                & 4                & Camaro Z28       & 7               \\\\\n",
       "\\end{tabular}\n"
      ],
      "text/markdown": [
       "\n",
       "mpg | cyl | disp | hp | drat | wt | qsec | vs | am | gear | carb | name | tot | \n",
       "|---|---|---|---|---|\n",
       "| 30.4             |  8               |  95.1            | 113              | 3.77             | 1.513            | 16.90            | 1                | 1                | 5                | 2                | Lotus Europa     | 8                | \n",
       "| 15.5             | 16               | 318.0            | 150              | 2.76             | 3.520            | 16.87            | 0                | 0                | 3                | 2                | Dodge Challenger | 5                | \n",
       "| 16.4             | 16               | 275.8            | 180              | 3.07             | 4.070            | 17.40            | 0                | 0                | 3                | 3                | Merc 450SE       | 6                | \n",
       "| 19.2             | 12               | 167.6            | 123              | 3.92             | 3.440            | 18.30            | 1                | 0                | 4                | 4                | Merc 280         | 8                | \n",
       "| 13.3             | 16               | 350.0            | 245              | 3.73             | 3.840            | 15.41            | 0                | 0                | 3                | 4                | Camaro Z28       | 7                | \n",
       "\n",
       "\n"
      ],
      "text/plain": [
       "  mpg  cyl disp  hp  drat wt    qsec  vs am gear carb name             tot\n",
       "1 30.4  8   95.1 113 3.77 1.513 16.90 1  1  5    2    Lotus Europa     8  \n",
       "2 15.5 16  318.0 150 2.76 3.520 16.87 0  0  3    2    Dodge Challenger 5  \n",
       "3 16.4 16  275.8 180 3.07 4.070 17.40 0  0  3    3    Merc 450SE       6  \n",
       "4 19.2 12  167.6 123 3.92 3.440 18.30 1  0  4    4    Merc 280         8  \n",
       "5 13.3 16  350.0 245 3.73 3.840 15.41 0  0  3    4    Camaro Z28       7  "
      ]
     },
     "metadata": {},
     "output_type": "display_data"
    },
    {
     "data": {
      "text/html": [
       "<table>\n",
       "<thead><tr><th scope=col>mean_hp</th></tr></thead>\n",
       "<tbody>\n",
       "\t<tr><td>162.2</td></tr>\n",
       "</tbody>\n",
       "</table>\n"
      ],
      "text/latex": [
       "\\begin{tabular}{r|l}\n",
       " mean\\_hp\\\\\n",
       "\\hline\n",
       "\t 162.2\\\\\n",
       "\\end{tabular}\n"
      ],
      "text/markdown": [
       "\n",
       "mean_hp | \n",
       "|---|\n",
       "| 162.2 | \n",
       "\n",
       "\n"
      ],
      "text/plain": [
       "  mean_hp\n",
       "1 162.2  "
      ]
     },
     "metadata": {},
     "output_type": "display_data"
    }
   ],
   "source": [
    "mtcars %>% sample_n(5) -> smcars # randomly choose five cars\n",
    "smcars %>% pull(cyl) %>% max -> max_cyl\n",
    "max_cyl\n",
    "smcars\n",
    "smcars %>% filter(cyl == max_cyl) # choose cars with six cylinders\n",
    "smcars %>% arrange(desc(hp)) # arrange the cars by descending horse power\n",
    "smcars %>% select(carb, cyl) # select only two columns of the datasets\n",
    "smcars %>% rename(cylinder = cyl, horsepower = hp) # rename some variable\n",
    "smcars %>% mutate(cyl = 2 * cyl, tot = am + gear + carb) # create new columns or modify old ones\n",
    "smcars %>% summarise(mean_hp = mean(hp))"
   ]
  },
  {
   "cell_type": "markdown",
   "metadata": {},
   "source": [
    "Then there is the **group_by** operation to change the way in which some *single table verbs* are applied to the table:"
   ]
  },
  {
   "cell_type": "code",
   "execution_count": 28,
   "metadata": {},
   "outputs": [
    {
     "data": {
      "text/html": [
       "<table>\n",
       "<thead><tr><th scope=col>cyl</th><th scope=col>hp</th></tr></thead>\n",
       "<tbody>\n",
       "\t<tr><td>4        </td><td> 82.63636</td></tr>\n",
       "\t<tr><td>6        </td><td>122.28571</td></tr>\n",
       "\t<tr><td>8        </td><td>209.21429</td></tr>\n",
       "</tbody>\n",
       "</table>\n"
      ],
      "text/latex": [
       "\\begin{tabular}{r|ll}\n",
       " cyl & hp\\\\\n",
       "\\hline\n",
       "\t 4         &  82.63636\\\\\n",
       "\t 6         & 122.28571\\\\\n",
       "\t 8         & 209.21429\\\\\n",
       "\\end{tabular}\n"
      ],
      "text/markdown": [
       "\n",
       "cyl | hp | \n",
       "|---|---|---|\n",
       "| 4         |  82.63636 | \n",
       "| 6         | 122.28571 | \n",
       "| 8         | 209.21429 | \n",
       "\n",
       "\n"
      ],
      "text/plain": [
       "  cyl hp       \n",
       "1 4    82.63636\n",
       "2 6   122.28571\n",
       "3 8   209.21429"
      ]
     },
     "metadata": {},
     "output_type": "display_data"
    },
    {
     "data": {
      "text/html": [
       "<table>\n",
       "<thead><tr><th scope=col>mpg</th><th scope=col>cyl</th><th scope=col>disp</th><th scope=col>hp</th><th scope=col>drat</th><th scope=col>wt</th><th scope=col>qsec</th><th scope=col>vs</th><th scope=col>am</th><th scope=col>gear</th><th scope=col>carb</th><th scope=col>name</th></tr></thead>\n",
       "<tbody>\n",
       "\t<tr><td>24.4             </td><td>4                </td><td>146.7            </td><td> 62              </td><td>3.69             </td><td>3.190            </td><td>20.00            </td><td>1                </td><td>0                </td><td>4                </td><td>2                </td><td>Merc 240D        </td></tr>\n",
       "\t<tr><td>33.9             </td><td>4                </td><td> 71.1            </td><td> 65              </td><td>4.22             </td><td>1.835            </td><td>19.90            </td><td>1                </td><td>1                </td><td>4                </td><td>1                </td><td>Toyota Corolla   </td></tr>\n",
       "\t<tr><td>19.2             </td><td>6                </td><td>167.6            </td><td>123              </td><td>3.92             </td><td>3.440            </td><td>18.30            </td><td>1                </td><td>0                </td><td>4                </td><td>4                </td><td>Merc 280         </td></tr>\n",
       "\t<tr><td>17.8             </td><td>6                </td><td>167.6            </td><td>123              </td><td>3.92             </td><td>3.440            </td><td>18.90            </td><td>1                </td><td>0                </td><td>4                </td><td>4                </td><td>Merc 280C        </td></tr>\n",
       "\t<tr><td>15.5             </td><td>8                </td><td>318.0            </td><td>150              </td><td>2.76             </td><td>3.520            </td><td>16.87            </td><td>0                </td><td>0                </td><td>3                </td><td>2                </td><td>Dodge Challenger </td></tr>\n",
       "\t<tr><td>14.7             </td><td>8                </td><td>440.0            </td><td>230              </td><td>3.23             </td><td>5.345            </td><td>17.42            </td><td>0                </td><td>0                </td><td>3                </td><td>4                </td><td>Chrysler Imperial</td></tr>\n",
       "</tbody>\n",
       "</table>\n"
      ],
      "text/latex": [
       "\\begin{tabular}{r|llllllllllll}\n",
       " mpg & cyl & disp & hp & drat & wt & qsec & vs & am & gear & carb & name\\\\\n",
       "\\hline\n",
       "\t 24.4              & 4                 & 146.7             &  62               & 3.69              & 3.190             & 20.00             & 1                 & 0                 & 4                 & 2                 & Merc 240D        \\\\\n",
       "\t 33.9              & 4                 &  71.1             &  65               & 4.22              & 1.835             & 19.90             & 1                 & 1                 & 4                 & 1                 & Toyota Corolla   \\\\\n",
       "\t 19.2              & 6                 & 167.6             & 123               & 3.92              & 3.440             & 18.30             & 1                 & 0                 & 4                 & 4                 & Merc 280         \\\\\n",
       "\t 17.8              & 6                 & 167.6             & 123               & 3.92              & 3.440             & 18.90             & 1                 & 0                 & 4                 & 4                 & Merc 280C        \\\\\n",
       "\t 15.5              & 8                 & 318.0             & 150               & 2.76              & 3.520             & 16.87             & 0                 & 0                 & 3                 & 2                 & Dodge Challenger \\\\\n",
       "\t 14.7              & 8                 & 440.0             & 230               & 3.23              & 5.345             & 17.42             & 0                 & 0                 & 3                 & 4                 & Chrysler Imperial\\\\\n",
       "\\end{tabular}\n"
      ],
      "text/markdown": [
       "\n",
       "mpg | cyl | disp | hp | drat | wt | qsec | vs | am | gear | carb | name | \n",
       "|---|---|---|---|---|---|\n",
       "| 24.4              | 4                 | 146.7             |  62               | 3.69              | 3.190             | 20.00             | 1                 | 0                 | 4                 | 2                 | Merc 240D         | \n",
       "| 33.9              | 4                 |  71.1             |  65               | 4.22              | 1.835             | 19.90             | 1                 | 1                 | 4                 | 1                 | Toyota Corolla    | \n",
       "| 19.2              | 6                 | 167.6             | 123               | 3.92              | 3.440             | 18.30             | 1                 | 0                 | 4                 | 4                 | Merc 280          | \n",
       "| 17.8              | 6                 | 167.6             | 123               | 3.92              | 3.440             | 18.90             | 1                 | 0                 | 4                 | 4                 | Merc 280C         | \n",
       "| 15.5              | 8                 | 318.0             | 150               | 2.76              | 3.520             | 16.87             | 0                 | 0                 | 3                 | 2                 | Dodge Challenger  | \n",
       "| 14.7              | 8                 | 440.0             | 230               | 3.23              | 5.345             | 17.42             | 0                 | 0                 | 3                 | 4                 | Chrysler Imperial | \n",
       "\n",
       "\n"
      ],
      "text/plain": [
       "  mpg  cyl disp  hp  drat wt    qsec  vs am gear carb name             \n",
       "1 24.4 4   146.7  62 3.69 3.190 20.00 1  0  4    2    Merc 240D        \n",
       "2 33.9 4    71.1  65 4.22 1.835 19.90 1  1  4    1    Toyota Corolla   \n",
       "3 19.2 6   167.6 123 3.92 3.440 18.30 1  0  4    4    Merc 280         \n",
       "4 17.8 6   167.6 123 3.92 3.440 18.90 1  0  4    4    Merc 280C        \n",
       "5 15.5 8   318.0 150 2.76 3.520 16.87 0  0  3    2    Dodge Challenger \n",
       "6 14.7 8   440.0 230 3.23 5.345 17.42 0  0  3    4    Chrysler Imperial"
      ]
     },
     "metadata": {},
     "output_type": "display_data"
    },
    {
     "data": {
      "text/html": [
       "<table>\n",
       "<thead><tr><th scope=col>mpg</th><th scope=col>cyl</th><th scope=col>disp</th><th scope=col>hp</th><th scope=col>drat</th><th scope=col>wt</th><th scope=col>qsec</th><th scope=col>vs</th><th scope=col>am</th><th scope=col>gear</th><th scope=col>carb</th><th scope=col>name</th><th scope=col>mean_hp_by_cyl</th></tr></thead>\n",
       "<tbody>\n",
       "\t<tr><td>32.4            </td><td>4               </td><td> 78.7           </td><td> 66             </td><td>4.08            </td><td>2.200           </td><td>19.47           </td><td>1               </td><td>1               </td><td>4               </td><td>1               </td><td>Fiat 128        </td><td> 82.63636       </td></tr>\n",
       "\t<tr><td>21.0            </td><td>6               </td><td>160.0           </td><td>110             </td><td>3.90            </td><td>2.875           </td><td>17.02           </td><td>0               </td><td>1               </td><td>4               </td><td>4               </td><td>Mazda RX4 Wag   </td><td>122.28571       </td></tr>\n",
       "\t<tr><td>19.2            </td><td>8               </td><td>400.0           </td><td>175             </td><td>3.08            </td><td>3.845           </td><td>17.05           </td><td>0               </td><td>0               </td><td>3               </td><td>2               </td><td>Pontiac Firebird</td><td>209.21429       </td></tr>\n",
       "</tbody>\n",
       "</table>\n"
      ],
      "text/latex": [
       "\\begin{tabular}{r|lllllllllllll}\n",
       " mpg & cyl & disp & hp & drat & wt & qsec & vs & am & gear & carb & name & mean\\_hp\\_by\\_cyl\\\\\n",
       "\\hline\n",
       "\t 32.4             & 4                &  78.7            &  66              & 4.08             & 2.200            & 19.47            & 1                & 1                & 4                & 1                & Fiat 128         &  82.63636       \\\\\n",
       "\t 21.0             & 6                & 160.0            & 110              & 3.90             & 2.875            & 17.02            & 0                & 1                & 4                & 4                & Mazda RX4 Wag    & 122.28571       \\\\\n",
       "\t 19.2             & 8                & 400.0            & 175              & 3.08             & 3.845            & 17.05            & 0                & 0                & 3                & 2                & Pontiac Firebird & 209.21429       \\\\\n",
       "\\end{tabular}\n"
      ],
      "text/markdown": [
       "\n",
       "mpg | cyl | disp | hp | drat | wt | qsec | vs | am | gear | carb | name | mean_hp_by_cyl | \n",
       "|---|---|---|\n",
       "| 32.4             | 4                |  78.7            |  66              | 4.08             | 2.200            | 19.47            | 1                | 1                | 4                | 1                | Fiat 128         |  82.63636        | \n",
       "| 21.0             | 6                | 160.0            | 110              | 3.90             | 2.875            | 17.02            | 0                | 1                | 4                | 4                | Mazda RX4 Wag    | 122.28571        | \n",
       "| 19.2             | 8                | 400.0            | 175              | 3.08             | 3.845            | 17.05            | 0                | 0                | 3                | 2                | Pontiac Firebird | 209.21429        | \n",
       "\n",
       "\n"
      ],
      "text/plain": [
       "  mpg  cyl disp  hp  drat wt    qsec  vs am gear carb name            \n",
       "1 32.4 4    78.7  66 4.08 2.200 19.47 1  1  4    1    Fiat 128        \n",
       "2 21.0 6   160.0 110 3.90 2.875 17.02 0  1  4    4    Mazda RX4 Wag   \n",
       "3 19.2 8   400.0 175 3.08 3.845 17.05 0  0  3    2    Pontiac Firebird\n",
       "  mean_hp_by_cyl\n",
       "1  82.63636     \n",
       "2 122.28571     \n",
       "3 209.21429     "
      ]
     },
     "metadata": {},
     "output_type": "display_data"
    }
   ],
   "source": [
    "mtcars %>% group_by(cyl) %>% summarise(hp = mean(hp)) # mean hp for each cyl value\n",
    "mtcars %>% group_by(cyl) %>% sample_n(2) # randomly choose two samples for each cyl value\n",
    "\n",
    "\n",
    "mtcars %>% group_by(cyl) %>% mutate(mean_hp_by_cyl = mean(hp)) %>% arrange(desc(cyl)) %>% sample_n(1) \n",
    "# what does it do? "
   ]
  },
  {
   "cell_type": "markdown",
   "metadata": {},
   "source": [
    "There are also *two tables verbs*, in particular **joins**, to combine the contents of two tables:"
   ]
  },
  {
   "cell_type": "code",
   "execution_count": 29,
   "metadata": {},
   "outputs": [
    {
     "data": {
      "text/html": [
       "<table>\n",
       "<thead><tr><th></th><th scope=col>name</th><th scope=col>hp</th></tr></thead>\n",
       "<tbody>\n",
       "\t<tr><th scope=row>Mazda RX4</th><td>Mazda RX4        </td><td>110              </td></tr>\n",
       "\t<tr><th scope=row>Mazda RX4 Wag</th><td>Mazda RX4 Wag    </td><td>110              </td></tr>\n",
       "\t<tr><th scope=row>Datsun 710</th><td>Datsun 710       </td><td> 93              </td></tr>\n",
       "\t<tr><th scope=row>Hornet 4 Drive</th><td>Hornet 4 Drive   </td><td>110              </td></tr>\n",
       "\t<tr><th scope=row>Hornet Sportabout</th><td>Hornet Sportabout</td><td>175              </td></tr>\n",
       "\t<tr><th scope=row>Valiant</th><td>Valiant          </td><td>105              </td></tr>\n",
       "\t<tr><th scope=row>Duster 360</th><td>Duster 360       </td><td>245              </td></tr>\n",
       "\t<tr><th scope=row>Merc 240D</th><td>Merc 240D        </td><td> 62              </td></tr>\n",
       "\t<tr><th scope=row>Merc 230</th><td>Merc 230         </td><td> 95              </td></tr>\n",
       "\t<tr><th scope=row>Merc 280</th><td>Merc 280         </td><td>123              </td></tr>\n",
       "</tbody>\n",
       "</table>\n"
      ],
      "text/latex": [
       "\\begin{tabular}{r|ll}\n",
       "  & name & hp\\\\\n",
       "\\hline\n",
       "\tMazda RX4 & Mazda RX4         & 110              \\\\\n",
       "\tMazda RX4 Wag & Mazda RX4 Wag     & 110              \\\\\n",
       "\tDatsun 710 & Datsun 710        &  93              \\\\\n",
       "\tHornet 4 Drive & Hornet 4 Drive    & 110              \\\\\n",
       "\tHornet Sportabout & Hornet Sportabout & 175              \\\\\n",
       "\tValiant & Valiant           & 105              \\\\\n",
       "\tDuster 360 & Duster 360        & 245              \\\\\n",
       "\tMerc 240D & Merc 240D         &  62              \\\\\n",
       "\tMerc 230 & Merc 230          &  95              \\\\\n",
       "\tMerc 280 & Merc 280          & 123              \\\\\n",
       "\\end{tabular}\n"
      ],
      "text/markdown": [
       "\n",
       "| <!--/--> | name | hp | \n",
       "|---|---|---|---|---|---|---|---|---|---|\n",
       "| Mazda RX4 | Mazda RX4         | 110               | \n",
       "| Mazda RX4 Wag | Mazda RX4 Wag     | 110               | \n",
       "| Datsun 710 | Datsun 710        |  93               | \n",
       "| Hornet 4 Drive | Hornet 4 Drive    | 110               | \n",
       "| Hornet Sportabout | Hornet Sportabout | 175               | \n",
       "| Valiant | Valiant           | 105               | \n",
       "| Duster 360 | Duster 360        | 245               | \n",
       "| Merc 240D | Merc 240D         |  62               | \n",
       "| Merc 230 | Merc 230          |  95               | \n",
       "| Merc 280 | Merc 280          | 123               | \n",
       "\n",
       "\n"
      ],
      "text/plain": [
       "                  name              hp \n",
       "Mazda RX4         Mazda RX4         110\n",
       "Mazda RX4 Wag     Mazda RX4 Wag     110\n",
       "Datsun 710        Datsun 710         93\n",
       "Hornet 4 Drive    Hornet 4 Drive    110\n",
       "Hornet Sportabout Hornet Sportabout 175\n",
       "Valiant           Valiant           105\n",
       "Duster 360        Duster 360        245\n",
       "Merc 240D         Merc 240D          62\n",
       "Merc 230          Merc 230           95\n",
       "Merc 280          Merc 280          123"
      ]
     },
     "metadata": {},
     "output_type": "display_data"
    },
    {
     "data": {
      "text/html": [
       "<table>\n",
       "<thead><tr><th scope=col>name</th><th scope=col>cyl</th><th scope=col>hp</th></tr></thead>\n",
       "<tbody>\n",
       "\t<tr><td>Hornet 4 Drive</td><td>6             </td><td>220           </td></tr>\n",
       "\t<tr><td>Merc 240D     </td><td>4             </td><td>124           </td></tr>\n",
       "\t<tr><td>Valiant       </td><td>6             </td><td>210           </td></tr>\n",
       "\t<tr><td>Duster 360    </td><td>8             </td><td>490           </td></tr>\n",
       "\t<tr><td>Mazda RX4     </td><td>6             </td><td>220           </td></tr>\n",
       "</tbody>\n",
       "</table>\n"
      ],
      "text/latex": [
       "\\begin{tabular}{r|lll}\n",
       " name & cyl & hp\\\\\n",
       "\\hline\n",
       "\t Hornet 4 Drive & 6              & 220           \\\\\n",
       "\t Merc 240D      & 4              & 124           \\\\\n",
       "\t Valiant        & 6              & 210           \\\\\n",
       "\t Duster 360     & 8              & 490           \\\\\n",
       "\t Mazda RX4      & 6              & 220           \\\\\n",
       "\\end{tabular}\n"
      ],
      "text/markdown": [
       "\n",
       "name | cyl | hp | \n",
       "|---|---|---|---|---|\n",
       "| Hornet 4 Drive | 6              | 220            | \n",
       "| Merc 240D      | 4              | 124            | \n",
       "| Valiant        | 6              | 210            | \n",
       "| Duster 360     | 8              | 490            | \n",
       "| Mazda RX4      | 6              | 220            | \n",
       "\n",
       "\n"
      ],
      "text/plain": [
       "  name           cyl hp \n",
       "1 Hornet 4 Drive 6   220\n",
       "2 Merc 240D      4   124\n",
       "3 Valiant        6   210\n",
       "4 Duster 360     8   490\n",
       "5 Mazda RX4      6   220"
      ]
     },
     "metadata": {},
     "output_type": "display_data"
    },
    {
     "data": {
      "text/html": [
       "<table>\n",
       "<thead><tr><th scope=col>name</th><th scope=col>hp_one</th><th scope=col>cyl</th><th scope=col>hp_two</th></tr></thead>\n",
       "<tbody>\n",
       "\t<tr><td>Mazda RX4        </td><td>110              </td><td> 6               </td><td>220              </td></tr>\n",
       "\t<tr><td>Mazda RX4 Wag    </td><td>110              </td><td>NA               </td><td> NA              </td></tr>\n",
       "\t<tr><td>Datsun 710       </td><td> 93              </td><td>NA               </td><td> NA              </td></tr>\n",
       "\t<tr><td>Hornet 4 Drive   </td><td>110              </td><td> 6               </td><td>220              </td></tr>\n",
       "\t<tr><td>Hornet Sportabout</td><td>175              </td><td>NA               </td><td> NA              </td></tr>\n",
       "\t<tr><td>Valiant          </td><td>105              </td><td> 6               </td><td>210              </td></tr>\n",
       "\t<tr><td>Duster 360       </td><td>245              </td><td> 8               </td><td>490              </td></tr>\n",
       "\t<tr><td>Merc 240D        </td><td> 62              </td><td> 4               </td><td>124              </td></tr>\n",
       "\t<tr><td>Merc 230         </td><td> 95              </td><td>NA               </td><td> NA              </td></tr>\n",
       "\t<tr><td>Merc 280         </td><td>123              </td><td>NA               </td><td> NA              </td></tr>\n",
       "</tbody>\n",
       "</table>\n"
      ],
      "text/latex": [
       "\\begin{tabular}{r|llll}\n",
       " name & hp\\_one & cyl & hp\\_two\\\\\n",
       "\\hline\n",
       "\t Mazda RX4         & 110               &  6                & 220              \\\\\n",
       "\t Mazda RX4 Wag     & 110               & NA                &  NA              \\\\\n",
       "\t Datsun 710        &  93               & NA                &  NA              \\\\\n",
       "\t Hornet 4 Drive    & 110               &  6                & 220              \\\\\n",
       "\t Hornet Sportabout & 175               & NA                &  NA              \\\\\n",
       "\t Valiant           & 105               &  6                & 210              \\\\\n",
       "\t Duster 360        & 245               &  8                & 490              \\\\\n",
       "\t Merc 240D         &  62               &  4                & 124              \\\\\n",
       "\t Merc 230          &  95               & NA                &  NA              \\\\\n",
       "\t Merc 280          & 123               & NA                &  NA              \\\\\n",
       "\\end{tabular}\n"
      ],
      "text/markdown": [
       "\n",
       "name | hp_one | cyl | hp_two | \n",
       "|---|---|---|---|---|---|---|---|---|---|\n",
       "| Mazda RX4         | 110               |  6                | 220               | \n",
       "| Mazda RX4 Wag     | 110               | NA                |  NA               | \n",
       "| Datsun 710        |  93               | NA                |  NA               | \n",
       "| Hornet 4 Drive    | 110               |  6                | 220               | \n",
       "| Hornet Sportabout | 175               | NA                |  NA               | \n",
       "| Valiant           | 105               |  6                | 210               | \n",
       "| Duster 360        | 245               |  8                | 490               | \n",
       "| Merc 240D         |  62               |  4                | 124               | \n",
       "| Merc 230          |  95               | NA                |  NA               | \n",
       "| Merc 280          | 123               | NA                |  NA               | \n",
       "\n",
       "\n"
      ],
      "text/plain": [
       "   name              hp_one cyl hp_two\n",
       "1  Mazda RX4         110     6  220   \n",
       "2  Mazda RX4 Wag     110    NA   NA   \n",
       "3  Datsun 710         93    NA   NA   \n",
       "4  Hornet 4 Drive    110     6  220   \n",
       "5  Hornet Sportabout 175    NA   NA   \n",
       "6  Valiant           105     6  210   \n",
       "7  Duster 360        245     8  490   \n",
       "8  Merc 240D          62     4  124   \n",
       "9  Merc 230           95    NA   NA   \n",
       "10 Merc 280          123    NA   NA   "
      ]
     },
     "metadata": {},
     "output_type": "display_data"
    },
    {
     "data": {
      "text/html": [
       "<table>\n",
       "<thead><tr><th scope=col>name</th><th scope=col>hp_one</th><th scope=col>cyl</th><th scope=col>hp_two</th></tr></thead>\n",
       "<tbody>\n",
       "\t<tr><td>Hornet 4 Drive</td><td>110           </td><td>6             </td><td>220           </td></tr>\n",
       "\t<tr><td>Merc 240D     </td><td> 62           </td><td>4             </td><td>124           </td></tr>\n",
       "\t<tr><td>Valiant       </td><td>105           </td><td>6             </td><td>210           </td></tr>\n",
       "\t<tr><td>Duster 360    </td><td>245           </td><td>8             </td><td>490           </td></tr>\n",
       "\t<tr><td>Mazda RX4     </td><td>110           </td><td>6             </td><td>220           </td></tr>\n",
       "</tbody>\n",
       "</table>\n"
      ],
      "text/latex": [
       "\\begin{tabular}{r|llll}\n",
       " name & hp\\_one & cyl & hp\\_two\\\\\n",
       "\\hline\n",
       "\t Hornet 4 Drive & 110            & 6              & 220           \\\\\n",
       "\t Merc 240D      &  62            & 4              & 124           \\\\\n",
       "\t Valiant        & 105            & 6              & 210           \\\\\n",
       "\t Duster 360     & 245            & 8              & 490           \\\\\n",
       "\t Mazda RX4      & 110            & 6              & 220           \\\\\n",
       "\\end{tabular}\n"
      ],
      "text/markdown": [
       "\n",
       "name | hp_one | cyl | hp_two | \n",
       "|---|---|---|---|---|\n",
       "| Hornet 4 Drive | 110            | 6              | 220            | \n",
       "| Merc 240D      |  62            | 4              | 124            | \n",
       "| Valiant        | 105            | 6              | 210            | \n",
       "| Duster 360     | 245            | 8              | 490            | \n",
       "| Mazda RX4      | 110            | 6              | 220            | \n",
       "\n",
       "\n"
      ],
      "text/plain": [
       "  name           hp_one cyl hp_two\n",
       "1 Hornet 4 Drive 110    6   220   \n",
       "2 Merc 240D       62    4   124   \n",
       "3 Valiant        105    6   210   \n",
       "4 Duster 360     245    8   490   \n",
       "5 Mazda RX4      110    6   220   "
      ]
     },
     "metadata": {},
     "output_type": "display_data"
    },
    {
     "data": {
      "text/html": [
       "<table>\n",
       "<thead><tr><th scope=col>name</th><th scope=col>cyl</th><th scope=col>hp_two</th><th scope=col>hp_one</th></tr></thead>\n",
       "<tbody>\n",
       "\t<tr><td>Hornet 4 Drive</td><td>6             </td><td>220           </td><td>110           </td></tr>\n",
       "\t<tr><td>Merc 240D     </td><td>4             </td><td>124           </td><td> 62           </td></tr>\n",
       "\t<tr><td>Valiant       </td><td>6             </td><td>210           </td><td>105           </td></tr>\n",
       "\t<tr><td>Duster 360    </td><td>8             </td><td>490           </td><td>245           </td></tr>\n",
       "\t<tr><td>Mazda RX4     </td><td>6             </td><td>220           </td><td>110           </td></tr>\n",
       "</tbody>\n",
       "</table>\n"
      ],
      "text/latex": [
       "\\begin{tabular}{r|llll}\n",
       " name & cyl & hp\\_two & hp\\_one\\\\\n",
       "\\hline\n",
       "\t Hornet 4 Drive & 6              & 220            & 110           \\\\\n",
       "\t Merc 240D      & 4              & 124            &  62           \\\\\n",
       "\t Valiant        & 6              & 210            & 105           \\\\\n",
       "\t Duster 360     & 8              & 490            & 245           \\\\\n",
       "\t Mazda RX4      & 6              & 220            & 110           \\\\\n",
       "\\end{tabular}\n"
      ],
      "text/markdown": [
       "\n",
       "name | cyl | hp_two | hp_one | \n",
       "|---|---|---|---|---|\n",
       "| Hornet 4 Drive | 6              | 220            | 110            | \n",
       "| Merc 240D      | 4              | 124            |  62            | \n",
       "| Valiant        | 6              | 210            | 105            | \n",
       "| Duster 360     | 8              | 490            | 245            | \n",
       "| Mazda RX4      | 6              | 220            | 110            | \n",
       "\n",
       "\n"
      ],
      "text/plain": [
       "  name           cyl hp_two hp_one\n",
       "1 Hornet 4 Drive 6   220    110   \n",
       "2 Merc 240D      4   124     62   \n",
       "3 Valiant        6   210    105   \n",
       "4 Duster 360     8   490    245   \n",
       "5 Mazda RX4      6   220    110   "
      ]
     },
     "metadata": {},
     "output_type": "display_data"
    }
   ],
   "source": [
    "mtcars$name <- rownames(mtcars)\n",
    "mtcars_table_1 <- mtcars %>% select(name, hp) %>% head(n = 10)\n",
    "mtcars_table_2 <- mtcars %>% select(name, cyl,hp) %>% \n",
    "    head(n = 10) %>% sample_n(5) %>%  mutate(hp = 2 * hp)\n",
    "\n",
    "mtcars_table_1\n",
    "mtcars_table_2\n",
    "\n",
    "mtcars_table_1 %>% left_join(mtcars_table_2, by = \"name\", suffix = c(\"_one\", \"_two\"))\n",
    "mtcars_table_1 %>% right_join(mtcars_table_2, by = \"name\", suffix = c(\"_one\", \"_two\"))\n",
    "mtcars_table_2 %>% inner_join(mtcars_table_1, by = \"name\", suffix = c(\"_two\", \"_one\"))"
   ]
  },
  {
   "cell_type": "markdown",
   "metadata": {},
   "source": [
    "There is a lot more about **dplyr**, we have no more time, but you do! So here are some links:\n",
    "\n",
    "* [Window functions](https://cran.r-project.org/web/packages/dplyr/vignettes/window-functions.html) to compute cumulative sums, means or build rankings among observations\n",
    "* More [two table verbs](https://cran.r-project.org/web/packages/dplyr/vignettes/two-table.html) to compute, for example, unions, intersections, and symmetric differences between tables\n",
    "* [Deep dive](https://cran.r-project.org/web/packages/dplyr/vignettes/programming.html) in the way **dplyr** is built and how to effectively use it to write custom verbs\n",
    "* How to use dplyr as a frontend to standard databases ([dbplyr](https://cran.r-project.org/web/packages/dbplyr/index.html)) or big data stacks ([sparklyr](http://spark.rstudio.com/dplyr/))"
   ]
  },
  {
   "cell_type": "markdown",
   "metadata": {},
   "source": [
    "### GGPLOT\n",
    "\n",
    "Another great package in tidyverse is **[ggplot](http://ggplot2.org/)**, a versatile plotting system. The full introduction to this package is out of the scope of this lesson (but it's covered by the QC R course!).\n",
    "\n",
    "![ggplot](fig/ggplot.png \"title-1\")\n",
    "\n",
    "However, since in the following lessons we are going to use ggplot extensively, if you have some doubts on its functioning let us know! :)\n",
    "\n",
    "The following is an example of its capabilities:"
   ]
  },
  {
   "cell_type": "code",
   "execution_count": 30,
   "metadata": {},
   "outputs": [
    {
     "data": {},
     "metadata": {},
     "output_type": "display_data"
    },
    {
     "data": {
      "image/png": "[encoded data removed]",
      "text/plain": [
       "plot without title"
      ]
     },
     "metadata": {},
     "output_type": "display_data"
    }
   ],
   "source": [
    "options(repr.plot.width=6, repr.plot.height=5) ### back to the normal plot size\n",
    "\n",
    "mpg %>%  ggplot(aes(displ)) + scale_fill_brewer(palette = \"Spectral\") + geom_histogram(aes(fill=class), \n",
    "                   binwidth = .1, \n",
    "                   col=\"black\", \n",
    "                   size=.1) +  # change binwidth\n",
    "  labs(title=\"Histogram with Auto Binning\", \n",
    "       subtitle=\"Engine Displacement across Vehicle Classes\") +\n",
    "  theme_minimal()"
   ]
  },
  {
   "cell_type": "markdown",
   "metadata": {},
   "source": [
    "### TIDYR\n",
    "\n",
    "![ggplot](fig/tidyr.jpg \"title-1\")\n",
    "\n",
    "The **tidyr** package provides a set of functions to help transforming messy data into [tidy data](https://tidyr.tidyverse.org/articles/tidy-data.html). As you can see from the previous link, the definition of tidy data is quite verbose and out of the scope of this lesson (but it's important!).\n",
    "\n",
    "Here we focus on the functions that allow you to transform data from the *wide* format to the *long* one:\n",
    "\n",
    "![gather](fig/gather.png \"title-1\")\n",
    "\n",
    "The two datasets in the figure have the same content but the left one has the *long* format while the right one has the *wide* format (and viceversa).\n",
    "\n",
    "Consider this dataset:"
   ]
  },
  {
   "cell_type": "code",
   "execution_count": 31,
   "metadata": {},
   "outputs": [
    {
     "data": {
      "text/html": [
       "<table>\n",
       "<thead><tr><th scope=col>Sepal.Length</th><th scope=col>Sepal.Width</th><th scope=col>Petal.Length</th><th scope=col>Petal.Width</th><th scope=col>index</th></tr></thead>\n",
       "<tbody>\n",
       "\t<tr><td>5.1</td><td>3.5</td><td>1.4</td><td>0.2</td><td>1  </td></tr>\n",
       "\t<tr><td>4.9</td><td>3.0</td><td>1.4</td><td>0.2</td><td>2  </td></tr>\n",
       "\t<tr><td>4.7</td><td>3.2</td><td>1.3</td><td>0.2</td><td>3  </td></tr>\n",
       "\t<tr><td>4.6</td><td>3.1</td><td>1.5</td><td>0.2</td><td>4  </td></tr>\n",
       "\t<tr><td>5.0</td><td>3.6</td><td>1.4</td><td>0.2</td><td>5  </td></tr>\n",
       "</tbody>\n",
       "</table>\n"
      ],
      "text/latex": [
       "\\begin{tabular}{r|lllll}\n",
       " Sepal.Length & Sepal.Width & Petal.Length & Petal.Width & index\\\\\n",
       "\\hline\n",
       "\t 5.1 & 3.5 & 1.4 & 0.2 & 1  \\\\\n",
       "\t 4.9 & 3.0 & 1.4 & 0.2 & 2  \\\\\n",
       "\t 4.7 & 3.2 & 1.3 & 0.2 & 3  \\\\\n",
       "\t 4.6 & 3.1 & 1.5 & 0.2 & 4  \\\\\n",
       "\t 5.0 & 3.6 & 1.4 & 0.2 & 5  \\\\\n",
       "\\end{tabular}\n"
      ],
      "text/markdown": [
       "\n",
       "Sepal.Length | Sepal.Width | Petal.Length | Petal.Width | index | \n",
       "|---|---|---|---|---|\n",
       "| 5.1 | 3.5 | 1.4 | 0.2 | 1   | \n",
       "| 4.9 | 3.0 | 1.4 | 0.2 | 2   | \n",
       "| 4.7 | 3.2 | 1.3 | 0.2 | 3   | \n",
       "| 4.6 | 3.1 | 1.5 | 0.2 | 4   | \n",
       "| 5.0 | 3.6 | 1.4 | 0.2 | 5   | \n",
       "\n",
       "\n"
      ],
      "text/plain": [
       "  Sepal.Length Sepal.Width Petal.Length Petal.Width index\n",
       "1 5.1          3.5         1.4          0.2         1    \n",
       "2 4.9          3.0         1.4          0.2         2    \n",
       "3 4.7          3.2         1.3          0.2         3    \n",
       "4 4.6          3.1         1.5          0.2         4    \n",
       "5 5.0          3.6         1.4          0.2         5    "
      ]
     },
     "metadata": {},
     "output_type": "display_data"
    }
   ],
   "source": [
    "small_iris <- iris %>% head(n = 5) %>% select(-Species) %>% mutate(index = 1:n())\n",
    "small_iris"
   ]
  },
  {
   "cell_type": "markdown",
   "metadata": {},
   "source": [
    "This dataset is in the wide format (dense representation), with one column for each variable. If you want to transform it in the long format (sparse representation: one row for each *variable*, *value* pair) you can use the tidyr function **gather**:"
   ]
  },
  {
   "cell_type": "code",
   "execution_count": 32,
   "metadata": {},
   "outputs": [
    {
     "data": {
      "text/html": [
       "<table>\n",
       "<thead><tr><th scope=col>index</th><th scope=col>variable</th><th scope=col>value</th></tr></thead>\n",
       "<tbody>\n",
       "\t<tr><td>1           </td><td>Sepal.Length</td><td>5.1         </td></tr>\n",
       "\t<tr><td>2           </td><td>Sepal.Length</td><td>4.9         </td></tr>\n",
       "\t<tr><td>3           </td><td>Sepal.Length</td><td>4.7         </td></tr>\n",
       "\t<tr><td>4           </td><td>Sepal.Length</td><td>4.6         </td></tr>\n",
       "\t<tr><td>5           </td><td>Sepal.Length</td><td>5.0         </td></tr>\n",
       "\t<tr><td>1           </td><td>Sepal.Width </td><td>3.5         </td></tr>\n",
       "\t<tr><td>2           </td><td>Sepal.Width </td><td>3.0         </td></tr>\n",
       "\t<tr><td>3           </td><td>Sepal.Width </td><td>3.2         </td></tr>\n",
       "\t<tr><td>4           </td><td>Sepal.Width </td><td>3.1         </td></tr>\n",
       "\t<tr><td>5           </td><td>Sepal.Width </td><td>3.6         </td></tr>\n",
       "\t<tr><td>1           </td><td>Petal.Length</td><td>1.4         </td></tr>\n",
       "\t<tr><td>2           </td><td>Petal.Length</td><td>1.4         </td></tr>\n",
       "\t<tr><td>3           </td><td>Petal.Length</td><td>1.3         </td></tr>\n",
       "\t<tr><td>4           </td><td>Petal.Length</td><td>1.5         </td></tr>\n",
       "\t<tr><td>5           </td><td>Petal.Length</td><td>1.4         </td></tr>\n",
       "\t<tr><td>1           </td><td>Petal.Width </td><td>0.2         </td></tr>\n",
       "\t<tr><td>2           </td><td>Petal.Width </td><td>0.2         </td></tr>\n",
       "\t<tr><td>3           </td><td>Petal.Width </td><td>0.2         </td></tr>\n",
       "\t<tr><td>4           </td><td>Petal.Width </td><td>0.2         </td></tr>\n",
       "\t<tr><td>5           </td><td>Petal.Width </td><td>0.2         </td></tr>\n",
       "</tbody>\n",
       "</table>\n"
      ],
      "text/latex": [
       "\\begin{tabular}{r|lll}\n",
       " index & variable & value\\\\\n",
       "\\hline\n",
       "\t 1            & Sepal.Length & 5.1         \\\\\n",
       "\t 2            & Sepal.Length & 4.9         \\\\\n",
       "\t 3            & Sepal.Length & 4.7         \\\\\n",
       "\t 4            & Sepal.Length & 4.6         \\\\\n",
       "\t 5            & Sepal.Length & 5.0         \\\\\n",
       "\t 1            & Sepal.Width  & 3.5         \\\\\n",
       "\t 2            & Sepal.Width  & 3.0         \\\\\n",
       "\t 3            & Sepal.Width  & 3.2         \\\\\n",
       "\t 4            & Sepal.Width  & 3.1         \\\\\n",
       "\t 5            & Sepal.Width  & 3.6         \\\\\n",
       "\t 1            & Petal.Length & 1.4         \\\\\n",
       "\t 2            & Petal.Length & 1.4         \\\\\n",
       "\t 3            & Petal.Length & 1.3         \\\\\n",
       "\t 4            & Petal.Length & 1.5         \\\\\n",
       "\t 5            & Petal.Length & 1.4         \\\\\n",
       "\t 1            & Petal.Width  & 0.2         \\\\\n",
       "\t 2            & Petal.Width  & 0.2         \\\\\n",
       "\t 3            & Petal.Width  & 0.2         \\\\\n",
       "\t 4            & Petal.Width  & 0.2         \\\\\n",
       "\t 5            & Petal.Width  & 0.2         \\\\\n",
       "\\end{tabular}\n"
      ],
      "text/markdown": [
       "\n",
       "index | variable | value | \n",
       "|---|---|---|---|---|---|---|---|---|---|---|---|---|---|---|---|---|---|---|---|\n",
       "| 1            | Sepal.Length | 5.1          | \n",
       "| 2            | Sepal.Length | 4.9          | \n",
       "| 3            | Sepal.Length | 4.7          | \n",
       "| 4            | Sepal.Length | 4.6          | \n",
       "| 5            | Sepal.Length | 5.0          | \n",
       "| 1            | Sepal.Width  | 3.5          | \n",
       "| 2            | Sepal.Width  | 3.0          | \n",
       "| 3            | Sepal.Width  | 3.2          | \n",
       "| 4            | Sepal.Width  | 3.1          | \n",
       "| 5            | Sepal.Width  | 3.6          | \n",
       "| 1            | Petal.Length | 1.4          | \n",
       "| 2            | Petal.Length | 1.4          | \n",
       "| 3            | Petal.Length | 1.3          | \n",
       "| 4            | Petal.Length | 1.5          | \n",
       "| 5            | Petal.Length | 1.4          | \n",
       "| 1            | Petal.Width  | 0.2          | \n",
       "| 2            | Petal.Width  | 0.2          | \n",
       "| 3            | Petal.Width  | 0.2          | \n",
       "| 4            | Petal.Width  | 0.2          | \n",
       "| 5            | Petal.Width  | 0.2          | \n",
       "\n",
       "\n"
      ],
      "text/plain": [
       "   index variable     value\n",
       "1  1     Sepal.Length 5.1  \n",
       "2  2     Sepal.Length 4.9  \n",
       "3  3     Sepal.Length 4.7  \n",
       "4  4     Sepal.Length 4.6  \n",
       "5  5     Sepal.Length 5.0  \n",
       "6  1     Sepal.Width  3.5  \n",
       "7  2     Sepal.Width  3.0  \n",
       "8  3     Sepal.Width  3.2  \n",
       "9  4     Sepal.Width  3.1  \n",
       "10 5     Sepal.Width  3.6  \n",
       "11 1     Petal.Length 1.4  \n",
       "12 2     Petal.Length 1.4  \n",
       "13 3     Petal.Length 1.3  \n",
       "14 4     Petal.Length 1.5  \n",
       "15 5     Petal.Length 1.4  \n",
       "16 1     Petal.Width  0.2  \n",
       "17 2     Petal.Width  0.2  \n",
       "18 3     Petal.Width  0.2  \n",
       "19 4     Petal.Width  0.2  \n",
       "20 5     Petal.Width  0.2  "
      ]
     },
     "metadata": {},
     "output_type": "display_data"
    }
   ],
   "source": [
    "small_iris_long <- small_iris %>% gather(variable, value, -index)\n",
    "small_iris_long"
   ]
  },
  {
   "cell_type": "markdown",
   "metadata": {},
   "source": [
    "As you can see, in the *long* format there are two columns (names *variable* and *value*: as the two parameters of the **gather** function) plus the columns that are **NOT** selected in the third parameters. By setting *-index* as the last parameter of gather, we are telling it to reshape all the columns except *index* to the *long* format.\n",
    "\n",
    "If we have a *long* dataframe and we want to reshape it into the *wide* format we can use the **spread** function, as follows:"
   ]
  },
  {
   "cell_type": "code",
   "execution_count": 33,
   "metadata": {},
   "outputs": [
    {
     "data": {
      "text/html": [
       "<table>\n",
       "<thead><tr><th scope=col>index</th><th scope=col>Petal.Length</th><th scope=col>Petal.Width</th><th scope=col>Sepal.Length</th><th scope=col>Sepal.Width</th></tr></thead>\n",
       "<tbody>\n",
       "\t<tr><td>1  </td><td>1.4</td><td>0.2</td><td>5.1</td><td>3.5</td></tr>\n",
       "\t<tr><td>2  </td><td>1.4</td><td>0.2</td><td>4.9</td><td>3.0</td></tr>\n",
       "\t<tr><td>3  </td><td>1.3</td><td>0.2</td><td>4.7</td><td>3.2</td></tr>\n",
       "\t<tr><td>4  </td><td>1.5</td><td>0.2</td><td>4.6</td><td>3.1</td></tr>\n",
       "\t<tr><td>5  </td><td>1.4</td><td>0.2</td><td>5.0</td><td>3.6</td></tr>\n",
       "</tbody>\n",
       "</table>\n"
      ],
      "text/latex": [
       "\\begin{tabular}{r|lllll}\n",
       " index & Petal.Length & Petal.Width & Sepal.Length & Sepal.Width\\\\\n",
       "\\hline\n",
       "\t 1   & 1.4 & 0.2 & 5.1 & 3.5\\\\\n",
       "\t 2   & 1.4 & 0.2 & 4.9 & 3.0\\\\\n",
       "\t 3   & 1.3 & 0.2 & 4.7 & 3.2\\\\\n",
       "\t 4   & 1.5 & 0.2 & 4.6 & 3.1\\\\\n",
       "\t 5   & 1.4 & 0.2 & 5.0 & 3.6\\\\\n",
       "\\end{tabular}\n"
      ],
      "text/markdown": [
       "\n",
       "index | Petal.Length | Petal.Width | Sepal.Length | Sepal.Width | \n",
       "|---|---|---|---|---|\n",
       "| 1   | 1.4 | 0.2 | 5.1 | 3.5 | \n",
       "| 2   | 1.4 | 0.2 | 4.9 | 3.0 | \n",
       "| 3   | 1.3 | 0.2 | 4.7 | 3.2 | \n",
       "| 4   | 1.5 | 0.2 | 4.6 | 3.1 | \n",
       "| 5   | 1.4 | 0.2 | 5.0 | 3.6 | \n",
       "\n",
       "\n"
      ],
      "text/plain": [
       "  index Petal.Length Petal.Width Sepal.Length Sepal.Width\n",
       "1 1     1.4          0.2         5.1          3.5        \n",
       "2 2     1.4          0.2         4.9          3.0        \n",
       "3 3     1.3          0.2         4.7          3.2        \n",
       "4 4     1.5          0.2         4.6          3.1        \n",
       "5 5     1.4          0.2         5.0          3.6        "
      ]
     },
     "metadata": {},
     "output_type": "display_data"
    }
   ],
   "source": [
    "small_iris_wide <- small_iris_long %>% spread(variable, value)\n",
    "small_iris_wide"
   ]
  },
  {
   "cell_type": "markdown",
   "metadata": {},
   "source": [
    "The tidyverse ecosystem, by supporting the *tidy data* principles, is oriented towards the *long* format (the tidiest one!) and some of its packages (**ggplot** in particular) are easier to use if we give them dataframes thare the *long*."
   ]
  },
  {
   "cell_type": "markdown",
   "metadata": {},
   "source": [
    "### Other packages\n",
    "\n",
    "We have no time to explore them, but here is a short description from the [tidyverse](https://www.tidyverse.org/) website:\n",
    "\n",
    "* **stringr** provides a cohesive set of functions designed to make working with strings as easy as possible. It is built on top of stringi, which uses the ICU C library to provide fast, correct implementations of common string manipulations.\n",
    "* **tibble**  is a modern re-imagining of the data frame, keeping what time has proven to be effective, and throwing out what it has not. Tibbles are data.frames that are lazy and surly: they do less and complain more forcing you to confront problems earlier, typically leading to cleaner, more expressive code\n",
    "* **forcats** forcats provides a suite of useful tools that solve common problems with factors. R uses factors to handle categorical variables, variables that have a fixed and known set of possible values.\n",
    "* **purrr** enhances R’s functional programming (FP) toolkit by providing a complete and consistent set of tools for working with functions and vectors. Once you master the basic concepts, purrr allows you to replace many *for* loops with code that is easier to write and more expressive.\n",
    "* **readr** provides a fast and friendly way to read rectangular data (like csv, tsv, and fwf). It is designed to flexibly parse many types of data found in the wild, while still cleanly failing when data unexpectedly changes.\n"
   ]
  }
 ],
 "metadata": {
  "kernelspec": {
   "display_name": "R",
   "language": "R",
   "name": "ir"
  },
  "language_info": {
   "codemirror_mode": "r",
   "file_extension": ".r",
   "mimetype": "text/x-r-source",
   "name": "R",
   "pygments_lexer": "r",
   "version": "3.4.1"
  }
 },
 "nbformat": 4,
 "nbformat_minor": 2
}
